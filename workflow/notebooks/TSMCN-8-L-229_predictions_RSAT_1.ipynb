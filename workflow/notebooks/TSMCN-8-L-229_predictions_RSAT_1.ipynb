{
 "cells": [
  {
   "cell_type": "markdown",
   "id": "9472f796",
   "metadata": {},
   "source": [
    "# Results for TSMCN-8-L-229 with SNR=inf. Noise added test data is analyzed after experimental classification\n",
    "\n",
    "RSAT=0.01 and 90 spectra per class"
   ]
  },
  {
   "cell_type": "code",
   "execution_count": 1,
   "id": "4031617b",
   "metadata": {
    "scrolled": true
   },
   "outputs": [
    {
     "name": "stderr",
     "output_type": "stream",
     "text": [
      "2022-11-11 00:28:39.766171: I tensorflow/core/platform/cpu_feature_guard.cc:193] This TensorFlow binary is optimized with oneAPI Deep Neural Network Library (oneDNN) to use the following CPU instructions in performance-critical operations:  AVX2 AVX512F AVX512_VNNI FMA\n",
      "To enable them in other operations, rebuild TensorFlow with the appropriate compiler flags.\n",
      "2022-11-11 00:28:39.877550: I tensorflow/core/util/util.cc:169] oneDNN custom operations are on. You may see slightly different numerical results due to floating-point round-off errors from different computation orders. To turn them off, set the environment variable `TF_ENABLE_ONEDNN_OPTS=0`.\n",
      "2022-11-11 00:28:39.881801: W tensorflow/stream_executor/platform/default/dso_loader.cc:64] Could not load dynamic library 'libcudart.so.11.0'; dlerror: libcudart.so.11.0: cannot open shared object file: No such file or directory; LD_LIBRARY_PATH: /usr/lib/cuda/include:/usr/lib/cuda/lib64:\n",
      "2022-11-11 00:28:39.881814: I tensorflow/stream_executor/cuda/cudart_stub.cc:29] Ignore above cudart dlerror if you do not have a GPU set up on your machine.\n",
      "2022-11-11 00:28:39.904657: E tensorflow/stream_executor/cuda/cuda_blas.cc:2981] Unable to register cuBLAS factory: Attempting to register factory for plugin cuBLAS when one has already been registered\n",
      "2022-11-11 00:28:40.489660: W tensorflow/stream_executor/platform/default/dso_loader.cc:64] Could not load dynamic library 'libnvinfer.so.7'; dlerror: libnvinfer.so.7: cannot open shared object file: No such file or directory; LD_LIBRARY_PATH: /usr/lib/cuda/include:/usr/lib/cuda/lib64:\n",
      "2022-11-11 00:28:40.489731: W tensorflow/stream_executor/platform/default/dso_loader.cc:64] Could not load dynamic library 'libnvinfer_plugin.so.7'; dlerror: libnvinfer_plugin.so.7: cannot open shared object file: No such file or directory; LD_LIBRARY_PATH: /usr/lib/cuda/include:/usr/lib/cuda/lib64:\n",
      "2022-11-11 00:28:40.489735: W tensorflow/compiler/tf2tensorrt/utils/py_utils.cc:38] TF-TRT Warning: Cannot dlopen some TensorRT libraries. If you would like to use Nvidia GPU with TensorRT, please make sure the missing libraries mentioned above are installed properly.\n"
     ]
    },
    {
     "name": "stdout",
     "output_type": "stream",
     "text": [
      "Total 1-C combinations: 8\n",
      "Total 2-C combinations: 28\n",
      "Total 3-C combinations: 56\n",
      "Total 4-C combinations: 70\n",
      "Total 5-C combinations: 56\n",
      "Total 6-C combinations: 28\n",
      "Total 7-C combinations: 8\n",
      "Total 8-C combinations: 1\n",
      "Total combinations: 255\n"
     ]
    }
   ],
   "source": [
    "%matplotlib inline \n",
    "import matplotlib as mpl\n",
    "import matplotlib.pyplot as plt\n",
    "from matplotlib.pyplot import figure\n",
    "from matplotlib.ticker import MaxNLocator\n",
    "import numpy as np\n",
    "from numpy import asarray\n",
    "import pandas as pd\n",
    "import math\n",
    "import seaborn as sns  #heat map\n",
    "import glob # batch processing of images\n",
    "\n",
    "\n",
    "import matplotlib.font_manager as fm\n",
    "import random\n",
    "import sys\n",
    "import os\n",
    "\n",
    "from sklearn.datasets import make_regression\n",
    "import tensorflow as tf\n",
    "from sklearn.metrics import confusion_matrix    #confusion matrix\n",
    "from tensorflow.keras.models import Sequential\n",
    "from tensorflow.keras.layers import Dense\n",
    "\n",
    "# Collect all the font names available to matplotlib\n",
    "font_names = [f.name for f in fm.fontManager.ttflist]\n",
    "# print(font_names)\n",
    "\n",
    "from scipy import signal\n",
    "from scipy import interpolate\n",
    "\n",
    "from sklearn.preprocessing import LabelBinarizer\n",
    "from sklearn.metrics import roc_curve \n",
    "from sklearn.metrics import auc\n",
    "from sklearn.metrics import roc_auc_score\n",
    "\n",
    "\n",
    "from sklearn.gaussian_process import GaussianProcessRegressor\n",
    "from sklearn.gaussian_process.kernels import DotProduct, WhiteKernel\n",
    "from sklearn.gaussian_process.kernels import RBF\n",
    "\n",
    "#Sklearn model saving and loading\n",
    "from joblib import dump, load\n",
    "\n",
    "if '../../' not in sys.path:\n",
    "    sys.path.append('../../')\n",
    "\n",
    "from aimos.spectral_datasets.THz_datasets import THz_data\n",
    "\n",
    "from aimos.misc.utils import simple_plotter\n",
    "\n",
    "\n",
    "#Set random seed\n",
    "os.environ['PYTHONHASHSEED'] = str(42)\n",
    "os.environ['TF_DETERMINISTIC_OPS'] = '1'\n",
    "tf.random.set_global_generator(42)\n",
    "tf.random.set_seed(42)  \n",
    "# tf.random.get_global_generator().reset_from_seed(42)\n",
    "np.random.seed(42)\n",
    "random.seed(42)\n",
    "\n",
    "from oneida import THz_mixture_data\n",
    "from oneida_utils import concentrations_to_one_hot_encode, create_mixture_names\n",
    "from oneida_utils import simple_spectrum_fig, simple_plot_raw_scores, plot_spectrum_with_scores, multiclass_roc_auc_score, multiclass_sensitivity_specificity_score, multiclass_sensitivity_threshold_score\n",
    "from oneida_scoring_tools import calc_AMCAS, is_cui_present, is_cui_present_in_mult\n",
    "from aimos.misc.utils import classifier_internals\n",
    "from aimos.misc.utils import clf_post_processor\n",
    "from oneida_utils import mixture_names_to_one_hot_encode\n",
    "from sklearn.metrics import multilabel_confusion_matrix\n",
    "from sklearn.metrics import confusion_matrix, ConfusionMatrixDisplay\n",
    "from sklearn.metrics import accuracy_score, precision_score, recall_score, f1_score\n",
    "from oneida_grad_cam import grad_cam\n",
    "\n",
    "from stats import stats\n",
    "stats(n_compounds=8)"
   ]
  },
  {
   "cell_type": "markdown",
   "id": "b47e9f5e",
   "metadata": {},
   "source": [
    "# Retrieve training(D)+ validation(V) mixtures and its variables"
   ]
  },
  {
   "cell_type": "code",
   "execution_count": 2,
   "id": "85ccc274",
   "metadata": {},
   "outputs": [
    {
     "name": "stdout",
     "output_type": "stream",
     "text": [
      "Components :  [[0 1 2 3 4 5 6 7 8]]\n",
      "Components shape :  (1, 9)\n",
      "TAAT =  0.001\n",
      "ASAT =  0.01\n",
      "RSAT =  0.01\n",
      "reduced_labels ['$C_2H_5OH$', '$CH_3CHO$', '$CH_3Cl$', '$CH_3CN$', '$CH_3OH$', '$H_2CO$', '$HCOOH$', '$HNO_3$']\n",
      "Number of neurons in the final layer : 255\n",
      "labels from class: ['$C_2H_5OH$', '$CH_3CHO$', '$CH_3Cl$', '$CH_3CN$', '$CH_3OH$', '$H_2CO$', '$HCOOH$', '$HNO_3$']\n"
     ]
    }
   ],
   "source": [
    "# initialize\n",
    "TAAT = 0.001 \n",
    "ASAT=0.01\n",
    "RSAT=0.01\n",
    "\n",
    "m = THz_mixture_data(resolution=0.016, pressure='1 Torr', verbosity=False)\n",
    "m.initiate_THz_mixture_data(TAAT = TAAT, \n",
    "                               ASAT=ASAT, \n",
    "                               RSAT=RSAT)\n",
    "\n",
    "reduced_labels = m.labels\n",
    "reduced_labels.remove('')\n",
    "reduced_labels.remove(' ')\n",
    "reduced_labels.remove('Diluent')\n",
    "print('reduced_labels', reduced_labels)\n",
    "\n",
    "\n",
    "# data_filename = \"datasets/TSMCN-5-L-229_DV_04-09-2022_time_22-26-37.pkl\"\n",
    "data_filename = \"datasets/TSMCN-8-L-229_DV__TAAT_0.001_ASAT_0.01_RSAT_0.01_20-10-2022_time_23-16-29_class_cnt_90.pkl\"\n",
    "DV = pd.read_pickle(data_filename)\n",
    "y = DV['y'].to_numpy()\n",
    "mixture_names = DV['mixture_names'].to_numpy()\n",
    "y_concentrations = DV[['y_c0', 'y_c1', 'y_c2','y_c3', 'y_c4', 'y_c5', 'y_c6', 'y_c7']].to_numpy()\n",
    "X = DV.drop(['y','mixture_names', 'y_c0', 'y_c1', 'y_c2','y_c3', 'y_c4', 'y_c5', 'y_c6', 'y_c7'],axis=1).to_numpy()\n",
    "\n",
    "final_neuron_number = np.unique(y, axis=0).shape[0]\n",
    "print('Number of neurons in the final layer :', final_neuron_number)\n",
    "\n",
    "print('labels from class:', m.labels)"
   ]
  },
  {
   "cell_type": "markdown",
   "id": "cc09995e",
   "metadata": {},
   "source": [
    "# preview one test mixture spectra using simple plotter"
   ]
  },
  {
   "cell_type": "code",
   "execution_count": 3,
   "id": "1bfcb777",
   "metadata": {},
   "outputs": [],
   "source": [
    "# idx = 239\n",
    "# simple_plotter(m.frequencies,X[idx],linewidth=0.5,color='black',label=mixture_names[idx], \n",
    "#                    majorsize=6,minorsize=2,width=1, labelsize=8,legendsize=3, legendloc=2,  \n",
    "#                    labelpad=4,fontsize='medium',fontweight='bold',\n",
    "#                   xmajormplloc=0.5,xminormplloc=0.2, tickdirection='out')\n",
    "\n",
    "# print(y_concentrations[idx])\n",
    "# print(reduced_labels)"
   ]
  },
  {
   "cell_type": "code",
   "execution_count": 4,
   "id": "d307a6c6",
   "metadata": {},
   "outputs": [],
   "source": [
    "from sklearn import preprocessing\n",
    "\n",
    "le = preprocessing.LabelEncoder()\n",
    "le.fit(mixture_names)\n",
    "\n",
    "mixture_types=le.classes_\n",
    "# print(mixture_types)"
   ]
  },
  {
   "cell_type": "code",
   "execution_count": 5,
   "id": "f19f87ff",
   "metadata": {},
   "outputs": [
    {
     "name": "stdout",
     "output_type": "stream",
     "text": [
      "range(0, 22950)\n",
      "X_train shape: (13770, 229, 1)\n",
      "y_ohe_train shape: (13770,)\n",
      "X_val shape: (9180, 229, 1)\n",
      "y_ohe_val shape: (9180,)\n",
      "All: [0.39215686 0.39215686 0.39215686 0.39215686 0.39215686 0.39215686\n",
      " 0.39215686 0.39215686 0.39215686 0.39215686 0.39215686 0.39215686\n",
      " 0.39215686 0.39215686 0.39215686 0.39215686 0.39215686 0.39215686\n",
      " 0.39215686 0.39215686 0.39215686 0.39215686 0.39215686 0.39215686\n",
      " 0.39215686 0.39215686 0.39215686 0.39215686 0.39215686 0.39215686\n",
      " 0.39215686 0.39215686 0.39215686 0.39215686 0.39215686 0.39215686\n",
      " 0.39215686 0.39215686 0.39215686 0.39215686 0.39215686 0.39215686\n",
      " 0.39215686 0.39215686 0.39215686 0.39215686 0.39215686 0.39215686\n",
      " 0.39215686 0.39215686 0.39215686 0.39215686 0.39215686 0.39215686\n",
      " 0.39215686 0.39215686 0.39215686 0.39215686 0.39215686 0.39215686\n",
      " 0.39215686 0.39215686 0.39215686 0.39215686 0.39215686 0.39215686\n",
      " 0.39215686 0.39215686 0.39215686 0.39215686 0.39215686 0.39215686\n",
      " 0.39215686 0.39215686 0.39215686 0.39215686 0.39215686 0.39215686\n",
      " 0.39215686 0.39215686 0.39215686 0.39215686 0.39215686 0.39215686\n",
      " 0.39215686 0.39215686 0.39215686 0.39215686 0.39215686 0.39215686\n",
      " 0.39215686 0.39215686 0.39215686 0.39215686 0.39215686 0.39215686\n",
      " 0.39215686 0.39215686 0.39215686 0.39215686 0.39215686 0.39215686\n",
      " 0.39215686 0.39215686 0.39215686 0.39215686 0.39215686 0.39215686\n",
      " 0.39215686 0.39215686 0.39215686 0.39215686 0.39215686 0.39215686\n",
      " 0.39215686 0.39215686 0.39215686 0.39215686 0.39215686 0.39215686\n",
      " 0.39215686 0.39215686 0.39215686 0.39215686 0.39215686 0.39215686\n",
      " 0.39215686 0.39215686 0.39215686 0.39215686 0.39215686 0.39215686\n",
      " 0.39215686 0.39215686 0.39215686 0.39215686 0.39215686 0.39215686\n",
      " 0.39215686 0.39215686 0.39215686 0.39215686 0.39215686 0.39215686\n",
      " 0.39215686 0.39215686 0.39215686 0.39215686 0.39215686 0.39215686\n",
      " 0.39215686 0.39215686 0.39215686 0.39215686 0.39215686 0.39215686\n",
      " 0.39215686 0.39215686 0.39215686 0.39215686 0.39215686 0.39215686\n",
      " 0.39215686 0.39215686 0.39215686 0.39215686 0.39215686 0.39215686\n",
      " 0.39215686 0.39215686 0.39215686 0.39215686 0.39215686 0.39215686\n",
      " 0.39215686 0.39215686 0.39215686 0.39215686 0.39215686 0.39215686\n",
      " 0.39215686 0.39215686 0.39215686 0.39215686 0.39215686 0.39215686\n",
      " 0.39215686 0.39215686 0.39215686 0.39215686 0.39215686 0.39215686\n",
      " 0.39215686 0.39215686 0.39215686 0.39215686 0.39215686 0.39215686\n",
      " 0.39215686 0.39215686 0.39215686 0.39215686 0.39215686 0.39215686\n",
      " 0.39215686 0.39215686 0.39215686 0.39215686 0.39215686 0.39215686\n",
      " 0.39215686 0.39215686 0.39215686 0.39215686 0.39215686 0.39215686\n",
      " 0.39215686 0.39215686 0.39215686 0.39215686 0.39215686 0.39215686\n",
      " 0.39215686 0.39215686 0.39215686 0.39215686 0.39215686 0.39215686\n",
      " 0.39215686 0.39215686 0.39215686 0.39215686 0.39215686 0.39215686\n",
      " 0.39215686 0.39215686 0.39215686 0.39215686 0.39215686 0.39215686\n",
      " 0.39215686 0.39215686 0.39215686 0.39215686 0.39215686 0.39215686\n",
      " 0.39215686 0.39215686 0.39215686 0.39215686 0.39215686 0.39215686\n",
      " 0.39215686 0.39215686 0.39215686]\n",
      "Training: [0.39215686 0.39215686 0.39215686 0.39215686 0.39215686 0.39215686\n",
      " 0.39215686 0.39215686 0.39215686 0.39215686 0.39215686 0.39215686\n",
      " 0.39215686 0.39215686 0.39215686 0.39215686 0.39215686 0.39215686\n",
      " 0.39215686 0.39215686 0.39215686 0.39215686 0.39215686 0.39215686\n",
      " 0.39215686 0.39215686 0.39215686 0.39215686 0.39215686 0.39215686\n",
      " 0.39215686 0.39215686 0.39215686 0.39215686 0.39215686 0.39215686\n",
      " 0.39215686 0.39215686 0.39215686 0.39215686 0.39215686 0.39215686\n",
      " 0.39215686 0.39215686 0.39215686 0.39215686 0.39215686 0.39215686\n",
      " 0.39215686 0.39215686 0.39215686 0.39215686 0.39215686 0.39215686\n",
      " 0.39215686 0.39215686 0.39215686 0.39215686 0.39215686 0.39215686\n",
      " 0.39215686 0.39215686 0.39215686 0.39215686 0.39215686 0.39215686\n",
      " 0.39215686 0.39215686 0.39215686 0.39215686 0.39215686 0.39215686\n",
      " 0.39215686 0.39215686 0.39215686 0.39215686 0.39215686 0.39215686\n",
      " 0.39215686 0.39215686 0.39215686 0.39215686 0.39215686 0.39215686\n",
      " 0.39215686 0.39215686 0.39215686 0.39215686 0.39215686 0.39215686\n",
      " 0.39215686 0.39215686 0.39215686 0.39215686 0.39215686 0.39215686\n",
      " 0.39215686 0.39215686 0.39215686 0.39215686 0.39215686 0.39215686\n",
      " 0.39215686 0.39215686 0.39215686 0.39215686 0.39215686 0.39215686\n",
      " 0.39215686 0.39215686 0.39215686 0.39215686 0.39215686 0.39215686\n",
      " 0.39215686 0.39215686 0.39215686 0.39215686 0.39215686 0.39215686\n",
      " 0.39215686 0.39215686 0.39215686 0.39215686 0.39215686 0.39215686\n",
      " 0.39215686 0.39215686 0.39215686 0.39215686 0.39215686 0.39215686\n",
      " 0.39215686 0.39215686 0.39215686 0.39215686 0.39215686 0.39215686\n",
      " 0.39215686 0.39215686 0.39215686 0.39215686 0.39215686 0.39215686\n",
      " 0.39215686 0.39215686 0.39215686 0.39215686 0.39215686 0.39215686\n",
      " 0.39215686 0.39215686 0.39215686 0.39215686 0.39215686 0.39215686\n",
      " 0.39215686 0.39215686 0.39215686 0.39215686 0.39215686 0.39215686\n",
      " 0.39215686 0.39215686 0.39215686 0.39215686 0.39215686 0.39215686\n",
      " 0.39215686 0.39215686 0.39215686 0.39215686 0.39215686 0.39215686\n",
      " 0.39215686 0.39215686 0.39215686 0.39215686 0.39215686 0.39215686\n",
      " 0.39215686 0.39215686 0.39215686 0.39215686 0.39215686 0.39215686\n",
      " 0.39215686 0.39215686 0.39215686 0.39215686 0.39215686 0.39215686\n",
      " 0.39215686 0.39215686 0.39215686 0.39215686 0.39215686 0.39215686\n",
      " 0.39215686 0.39215686 0.39215686 0.39215686 0.39215686 0.39215686\n",
      " 0.39215686 0.39215686 0.39215686 0.39215686 0.39215686 0.39215686\n",
      " 0.39215686 0.39215686 0.39215686 0.39215686 0.39215686 0.39215686\n",
      " 0.39215686 0.39215686 0.39215686 0.39215686 0.39215686 0.39215686\n",
      " 0.39215686 0.39215686 0.39215686 0.39215686 0.39215686 0.39215686\n",
      " 0.39215686 0.39215686 0.39215686 0.39215686 0.39215686 0.39215686\n",
      " 0.39215686 0.39215686 0.39215686 0.39215686 0.39215686 0.39215686\n",
      " 0.39215686 0.39215686 0.39215686 0.39215686 0.39215686 0.39215686\n",
      " 0.39215686 0.39215686 0.39215686 0.39215686 0.39215686 0.39215686\n",
      " 0.39215686 0.39215686 0.39215686]\n",
      "Validation: [0.39215686 0.39215686 0.39215686 0.39215686 0.39215686 0.39215686\n",
      " 0.39215686 0.39215686 0.39215686 0.39215686 0.39215686 0.39215686\n",
      " 0.39215686 0.39215686 0.39215686 0.39215686 0.39215686 0.39215686\n",
      " 0.39215686 0.39215686 0.39215686 0.39215686 0.39215686 0.39215686\n",
      " 0.39215686 0.39215686 0.39215686 0.39215686 0.39215686 0.39215686\n",
      " 0.39215686 0.39215686 0.39215686 0.39215686 0.39215686 0.39215686\n",
      " 0.39215686 0.39215686 0.39215686 0.39215686 0.39215686 0.39215686\n",
      " 0.39215686 0.39215686 0.39215686 0.39215686 0.39215686 0.39215686\n",
      " 0.39215686 0.39215686 0.39215686 0.39215686 0.39215686 0.39215686\n",
      " 0.39215686 0.39215686 0.39215686 0.39215686 0.39215686 0.39215686\n",
      " 0.39215686 0.39215686 0.39215686 0.39215686 0.39215686 0.39215686\n",
      " 0.39215686 0.39215686 0.39215686 0.39215686 0.39215686 0.39215686\n",
      " 0.39215686 0.39215686 0.39215686 0.39215686 0.39215686 0.39215686\n",
      " 0.39215686 0.39215686 0.39215686 0.39215686 0.39215686 0.39215686\n",
      " 0.39215686 0.39215686 0.39215686 0.39215686 0.39215686 0.39215686\n",
      " 0.39215686 0.39215686 0.39215686 0.39215686 0.39215686 0.39215686\n",
      " 0.39215686 0.39215686 0.39215686 0.39215686 0.39215686 0.39215686\n",
      " 0.39215686 0.39215686 0.39215686 0.39215686 0.39215686 0.39215686\n",
      " 0.39215686 0.39215686 0.39215686 0.39215686 0.39215686 0.39215686\n",
      " 0.39215686 0.39215686 0.39215686 0.39215686 0.39215686 0.39215686\n",
      " 0.39215686 0.39215686 0.39215686 0.39215686 0.39215686 0.39215686\n",
      " 0.39215686 0.39215686 0.39215686 0.39215686 0.39215686 0.39215686\n",
      " 0.39215686 0.39215686 0.39215686 0.39215686 0.39215686 0.39215686\n",
      " 0.39215686 0.39215686 0.39215686 0.39215686 0.39215686 0.39215686\n",
      " 0.39215686 0.39215686 0.39215686 0.39215686 0.39215686 0.39215686\n",
      " 0.39215686 0.39215686 0.39215686 0.39215686 0.39215686 0.39215686\n",
      " 0.39215686 0.39215686 0.39215686 0.39215686 0.39215686 0.39215686\n",
      " 0.39215686 0.39215686 0.39215686 0.39215686 0.39215686 0.39215686\n",
      " 0.39215686 0.39215686 0.39215686 0.39215686 0.39215686 0.39215686\n",
      " 0.39215686 0.39215686 0.39215686 0.39215686 0.39215686 0.39215686\n",
      " 0.39215686 0.39215686 0.39215686 0.39215686 0.39215686 0.39215686\n",
      " 0.39215686 0.39215686 0.39215686 0.39215686 0.39215686 0.39215686\n",
      " 0.39215686 0.39215686 0.39215686 0.39215686 0.39215686 0.39215686\n",
      " 0.39215686 0.39215686 0.39215686 0.39215686 0.39215686 0.39215686\n",
      " 0.39215686 0.39215686 0.39215686 0.39215686 0.39215686 0.39215686\n",
      " 0.39215686 0.39215686 0.39215686 0.39215686 0.39215686 0.39215686\n",
      " 0.39215686 0.39215686 0.39215686 0.39215686 0.39215686 0.39215686\n",
      " 0.39215686 0.39215686 0.39215686 0.39215686 0.39215686 0.39215686\n",
      " 0.39215686 0.39215686 0.39215686 0.39215686 0.39215686 0.39215686\n",
      " 0.39215686 0.39215686 0.39215686 0.39215686 0.39215686 0.39215686\n",
      " 0.39215686 0.39215686 0.39215686 0.39215686 0.39215686 0.39215686\n",
      " 0.39215686 0.39215686 0.39215686 0.39215686 0.39215686 0.39215686\n",
      " 0.39215686 0.39215686 0.39215686]\n"
     ]
    }
   ],
   "source": [
    "#split intro train and validation set\n",
    "\n",
    "#seeds used 123,237, 786\n",
    "from sklearn.model_selection import train_test_split\n",
    "\n",
    "global_indices=range(0, X.shape[0])\n",
    "print(global_indices)\n",
    "\n",
    "# (np.expand_dims(X,-1)\n",
    "TRAIN_SIZE=0.60\n",
    "VAL_SIZE=1-TRAIN_SIZE\n",
    "\n",
    "x_train, x_val, y_train, y_val, train_indices, val_indices = train_test_split(np.expand_dims(X, axis=-1), y, global_indices, train_size=TRAIN_SIZE,\n",
    "                                                   test_size=VAL_SIZE,\n",
    "                                                   random_state=786,\n",
    "                                                    stratify=y\n",
    "\n",
    "                                                   )\n",
    "\n",
    "print('X_train shape:', x_train.shape)\n",
    "print('y_ohe_train shape:', y_train.shape)\n",
    "\n",
    "print('X_val shape:', x_val.shape)\n",
    "print('y_ohe_val shape:', y_val.shape)\n",
    "\n",
    "\n",
    "print(\"All:\", np.bincount(y) / float(len(y))*100  )\n",
    "print(\"Training:\", np.bincount(y_train) / float(len(y_train))*100  )\n",
    "print(\"Validation:\", np.bincount(y_val) / float(len(y_val))*100  )\n"
   ]
  },
  {
   "cell_type": "code",
   "execution_count": 6,
   "id": "23906391",
   "metadata": {},
   "outputs": [],
   "source": [
    "from oneida_model import get_callbacks, get_optimizer, compile_and_fit, TSMCN_12_L_229"
   ]
  },
  {
   "cell_type": "code",
   "execution_count": 7,
   "id": "f1d6bbfa",
   "metadata": {},
   "outputs": [],
   "source": [
    "# model = TSMCN_12_L_229()"
   ]
  },
  {
   "cell_type": "code",
   "execution_count": 8,
   "id": "04097028",
   "metadata": {},
   "outputs": [],
   "source": [
    "# tf.keras.utils.plot_model(model, to_file=\"RESULTS/TSMCN_8_L_229.png\", show_shapes=True, rankdir='TB', dpi=150)"
   ]
  },
  {
   "cell_type": "code",
   "execution_count": 9,
   "id": "185b4ff0",
   "metadata": {},
   "outputs": [
    {
     "name": "stdout",
     "output_type": "stream",
     "text": [
      "TSMCN-8-L-229_DV__TAAT_0.001_ASAT_0.01_RSAT_0.01_20-10-2022_time_23-16-29_class_cnt_90\n"
     ]
    }
   ],
   "source": [
    "# model_checkpoint_callback = tf.keras.callbacks.ModelCheckpoint(\n",
    "#     filepath='checkpoints/',\n",
    "#     save_weights_only=True,\n",
    "#     monitor='val_accuracy',\n",
    "#     mode='max',\n",
    "#     save_best_only=True)\n",
    "\n",
    "model_name = data_filename.split('.pkl')[0].split('/')[1]\n",
    "print(model_name)"
   ]
  },
  {
   "cell_type": "code",
   "execution_count": 10,
   "id": "508f61e9",
   "metadata": {
    "scrolled": false
   },
   "outputs": [],
   "source": [
    "# # run on CPU for reproducibility, best epoch is 4.\n",
    "# # with tf.device('/CPU:0'):\n",
    "# #      stop_early = tf.keras.callbacks.EarlyStopping(monitor='SparseCatCrossentropy', patience=5)\n",
    "# #     history = model.fit(x_train, y_train, epochs=20, validation_data=(x_test, y_test), callbacks=[stop_early])\n",
    "\n",
    "# # LambdaCallback(on_epoch_end=lambda batch, logs: print(model.layers[0].get_weights()))\n",
    "# with tf.device('/CPU:0'):\n",
    "#     stop_early = tf.keras.callbacks.EarlyStopping(monitor='SparseCatCrossentropy', patience=5)\n",
    "#     history = model.fit(x_train, y_train, epochs=30, validation_data=(x_val, y_val), \n",
    "#                         callbacks=[model_checkpoint_callback, stop_early]\n",
    "# )\n",
    "\n"
   ]
  },
  {
   "cell_type": "code",
   "execution_count": 11,
   "id": "e96fa54e",
   "metadata": {},
   "outputs": [],
   "source": [
    "# #Sklearn model saving and loading\n",
    "# from joblib import dump, load\n",
    "# import datetime\n",
    "# from datetime import date, datetime\n",
    "# now = datetime.now()\n",
    "# dt_string = now.strftime(\"%d-%m-%Y_time_%H-%M-%S\")\n",
    "# model.save('checkpoints/' + model_name + '_' + dt_string + '.hdf5')"
   ]
  },
  {
   "cell_type": "code",
   "execution_count": 12,
   "id": "2cd08d73",
   "metadata": {},
   "outputs": [
    {
     "name": "stderr",
     "output_type": "stream",
     "text": [
      "2022-11-11 00:29:05.178687: W tensorflow/stream_executor/platform/default/dso_loader.cc:64] Could not load dynamic library 'libcudart.so.11.0'; dlerror: libcudart.so.11.0: cannot open shared object file: No such file or directory; LD_LIBRARY_PATH: /usr/lib/cuda/include:/usr/lib/cuda/lib64:\n",
      "2022-11-11 00:29:05.178861: W tensorflow/stream_executor/platform/default/dso_loader.cc:64] Could not load dynamic library 'libcublas.so.11'; dlerror: libcublas.so.11: cannot open shared object file: No such file or directory; LD_LIBRARY_PATH: /usr/lib/cuda/include:/usr/lib/cuda/lib64:\n",
      "2022-11-11 00:29:05.178992: W tensorflow/stream_executor/platform/default/dso_loader.cc:64] Could not load dynamic library 'libcublasLt.so.11'; dlerror: libcublasLt.so.11: cannot open shared object file: No such file or directory; LD_LIBRARY_PATH: /usr/lib/cuda/include:/usr/lib/cuda/lib64:\n",
      "2022-11-11 00:29:05.182448: W tensorflow/stream_executor/platform/default/dso_loader.cc:64] Could not load dynamic library 'libcusolver.so.11'; dlerror: libcusolver.so.11: cannot open shared object file: No such file or directory; LD_LIBRARY_PATH: /usr/lib/cuda/include:/usr/lib/cuda/lib64:\n",
      "2022-11-11 00:29:05.182545: W tensorflow/stream_executor/platform/default/dso_loader.cc:64] Could not load dynamic library 'libcusparse.so.11'; dlerror: libcusparse.so.11: cannot open shared object file: No such file or directory; LD_LIBRARY_PATH: /usr/lib/cuda/include:/usr/lib/cuda/lib64:\n",
      "2022-11-11 00:29:05.182683: W tensorflow/core/common_runtime/gpu/gpu_device.cc:1934] Cannot dlopen some GPU libraries. Please make sure the missing libraries mentioned above are installed properly if you would like to use GPU. Follow the guide at https://www.tensorflow.org/install/gpu for how to download and setup the required libraries for your platform.\n",
      "Skipping registering GPU devices...\n",
      "2022-11-11 00:29:05.183103: I tensorflow/core/platform/cpu_feature_guard.cc:193] This TensorFlow binary is optimized with oneAPI Deep Neural Network Library (oneDNN) to use the following CPU instructions in performance-critical operations:  AVX2 AVX512F AVX512_VNNI FMA\n",
      "To enable them in other operations, rebuild TensorFlow with the appropriate compiler flags.\n"
     ]
    }
   ],
   "source": [
    "model = tf.keras.models.load_model('model/TSMCN-8-L-229_DV__TAAT_0.001_ASAT_0.01_RSAT_0.01_20-10-2022_time_23-16-29_class_cnt_90_20-10-2022_time_23-30-09.hdf5', compile=False)\n"
   ]
  },
  {
   "cell_type": "code",
   "execution_count": 13,
   "id": "214ed154",
   "metadata": {},
   "outputs": [],
   "source": [
    "# model.save('model/' + model_name + '_' + dt_string + '.hdf5')\n",
    "# history = np.load('model/TSMCN-8-L-229_DV__TAAT_0.001_ASAT_0.01_RSAT_0.05_21-09-2022_time_18-53-02_13-10-2022_time_23-21-11history.npy',)\n",
    "# np.load('model/' + model_name + '_' + dt_string + 'epoch' + '.npy',history.epoch)\n",
    "history=np.load('model/TSMCN-8-L-229_DV__TAAT_0.001_ASAT_0.01_RSAT_0.01_20-10-2022_time_23-16-29_class_cnt_90_20-10-2022_time_23-30-09history.npy',allow_pickle='TRUE').item()\n",
    "epochs=np.load('model/TSMCN-8-L-229_DV__TAAT_0.001_ASAT_0.01_RSAT_0.01_20-10-2022_time_23-16-29_class_cnt_90_20-10-2022_time_23-30-09epoch.npy',allow_pickle='TRUE')\n",
    "\n"
   ]
  },
  {
   "cell_type": "code",
   "execution_count": 14,
   "id": "36cb79c9",
   "metadata": {},
   "outputs": [
    {
     "name": "stdout",
     "output_type": "stream",
     "text": [
      "287/287 [==============================] - 1s 3ms/step\n"
     ]
    }
   ],
   "source": [
    "probability_model = tf.keras.Sequential([model, \n",
    "                                         tf.keras.layers.Softmax()])\n",
    "predictions = probability_model.predict(x_val)"
   ]
  },
  {
   "cell_type": "code",
   "execution_count": 15,
   "id": "dba2fa28",
   "metadata": {},
   "outputs": [],
   "source": [
    "y_ohe = concentrations_to_one_hot_encode(y_concentrations).astype('int64')\n",
    "y_train_ohe = y_ohe[train_indices]\n",
    "y_val_ohe = y_ohe[val_indices]\n",
    "y_train_ohe_tensor = tf.convert_to_tensor(y_train_ohe, np.int64)\n",
    "y_val_ohe_tensor = tf.convert_to_tensor(y_val_ohe, np.int64)"
   ]
  },
  {
   "cell_type": "code",
   "execution_count": 16,
   "id": "2274f000",
   "metadata": {},
   "outputs": [
    {
     "data": {
      "text/plain": [
       "(255,)"
      ]
     },
     "execution_count": 16,
     "metadata": {},
     "output_type": "execute_result"
    }
   ],
   "source": [
    "# Analyze weights\n",
    "\n",
    "model.get_weights()[9].shape"
   ]
  },
  {
   "cell_type": "code",
   "execution_count": 17,
   "id": "ab982d80",
   "metadata": {},
   "outputs": [],
   "source": [
    "# DV_noisy['y_c8']=DV['y_c8']\n",
    "# from scipy import fftpack\n",
    "# def fft_filter(frequencies, absorbances, factor=100):\n",
    "#     sig=absorbances\n",
    "#     time_vec=frequencies\n",
    "#     period = 1.\n",
    "#     # The FFT of the signal\n",
    "#     sig_fft = fftpack.fft(sig)\n",
    "\n",
    "#     # And the power (sig_fft is of complex dtype)\n",
    "#     power = np.abs(sig_fft)**2\n",
    "\n",
    "#     # The corresponding frequencies\n",
    "#     sample_freq = fftpack.fftfreq(sig.size, d=1.0)\n",
    "\n",
    "\n",
    "\n",
    "#     # Find the peak frequency: we can focus on only the positive frequencies\n",
    "#     pos_mask = np.where(sample_freq > 0)\n",
    "#     freqs = sample_freq[pos_mask]\n",
    "#     peak_freq = freqs[power[pos_mask].argmax()]\n",
    "\n",
    "#     # Check that it does indeed correspond to the frequency that we generate\n",
    "#     # the signal with\n",
    "#     np.allclose(peak_freq, 1./period)\n",
    "\n",
    "\n",
    "\n",
    "#     # scipy.signal.find_peaks_cwt can also be used for more advanced\n",
    "#     # peak detection\n",
    "\n",
    "#     print('peak_freq', peak_freq)\n",
    "#     sel_peak_freq = factor*peak_freq\n",
    "#     high_freq_fft = sig_fft.copy()\n",
    "#     high_freq_fft[np.abs(sample_freq) > sel_peak_freq] = 0\n",
    "#     filtered_sig = fftpack.ifft(high_freq_fft)\n",
    "\n"
   ]
  },
  {
   "cell_type": "markdown",
   "id": "47801a72",
   "metadata": {},
   "source": [
    "## comparing the 4-component mixture with simulation"
   ]
  },
  {
   "cell_type": "code",
   "execution_count": 18,
   "id": "d354964b",
   "metadata": {
    "scrolled": false
   },
   "outputs": [],
   "source": [
    "# target_index = 344665\n",
    "# with pd.option_context('display.max_rows', None, 'display.max_columns', None):  # more options can be specified also\n",
    "#     shortDF=DV[DV['y']==19]\n",
    "# #     display(shortDF['y_c4'])\n",
    "#     display(shortDF)"
   ]
  },
  {
   "cell_type": "code",
   "execution_count": 19,
   "id": "39dc849f",
   "metadata": {},
   "outputs": [],
   "source": [
    "# print(reduced_labels)\n",
    "# special_df = DV[DV.index==344665]\n",
    "# display(special_df)\n",
    "\n",
    "# x_special = special_df.drop(['y','mixture_names', 'y_c0', 'y_c1', 'y_c2','y_c3', 'y_c4', 'y_c5', 'y_c6', 'y_c7'],axis=1).to_numpy()\n"
   ]
  },
  {
   "cell_type": "code",
   "execution_count": 20,
   "id": "28da9c65",
   "metadata": {},
   "outputs": [],
   "source": [
    "# DV_noisy['y_c8']=DV['y_c8']\n",
    "# exp_path = '../../data/Mixture_exp_data/'\n",
    "# exp_filepath = '4 Comp-mix_ 67% CH3OH + 30% CH3CHO + 2% CH3Cl + 1% CH3CN/0.67 CH3OH + 0.3 CH3CHO + 0.02 CH3Cl + 0.01 CH3CN - v2.xlsx'\n",
    "\n",
    "\n",
    "\n",
    "# all_unique_labels= mixture_types\n",
    "\n",
    "# df_exp1 = pd.read_excel(exp_path + exp_filepath)\n",
    "# abs_exp1 = df_exp1[df_exp1.columns[1]].to_numpy()\n",
    "\n",
    "# indices = abs_exp1 >0\n",
    "# pos_abs=abs_exp1*indices\n"
   ]
  },
  {
   "cell_type": "code",
   "execution_count": 21,
   "id": "7cc162a4",
   "metadata": {},
   "outputs": [],
   "source": [
    "\n",
    "# filtered_abs_resampled = signal.resample(pos_abs, len(m.frequencies))\n",
    "\n",
    "\n",
    "\n",
    "# indices = filtered_abs_resampled >0\n",
    "# filtered_abs_resampled=filtered_abs_resampled*indices\n",
    "# expanded_abs = np.expand_dims(np.expand_dims(filtered_abs_resampled, axis=-1), axis=0)\n",
    "# pred_exp_label = np.argmax(model.predict(expanded_abs), axis=-1)[0]\n",
    "\n",
    "\n",
    "# print('predicted index ', pred_exp_label)\n",
    "# print('predicted label', mixture_types[pred_exp_label])\n",
    "\n",
    "# plt.figure(figsize=(16,9),dpi=200)\n",
    "# fig,axs = plt.subplots(2,1, figsize=(16,9),dpi=200)\n",
    "# # plt.plot(pos_abs)\n",
    "# axs[0].plot(filtered_abs_resampled, label='resampled postive exp spectra\\n0.67 CH3OH + 0.3 CH3CHO + 0.02 CH3Cl + 0.01 CH3CN\\n model predicts CH3CN + CH3OH')\n",
    "# axs[0].plot(np.squeeze(x_special), label='simulation\\n 0.58 CH3OH + 0.29 CH3CHO + 0.05 CH3Cl + 0.015 CH3CN')\n",
    "# axs[0].set_ylim(0,0.4)\n",
    "# axs[0].legend()\n",
    "\n",
    "# axs[1].plot(abs_exp1, color='black', label='original exp spectra\\n0.67 CH3OH + 0.3 CH3CHO + 0.02 CH3Cl + 0.01 CH3CN\\n model predicts CH3CN + CH3OH')\n",
    "# axs[1].legend()\n",
    "\n",
    "\n",
    "# # fig.savefig(r'RESULTS/filtered_spectra/' + '0.67 CH3OH + 0.3 CH3CHO + 0.02 CH3Cl + 0.01 CH3CN - v2' + '_comparison.png', bbox_inches='tight')"
   ]
  },
  {
   "cell_type": "markdown",
   "id": "aa239cc9",
   "metadata": {},
   "source": [
    "## filtering and classifying"
   ]
  },
  {
   "cell_type": "code",
   "execution_count": 22,
   "id": "89a48985",
   "metadata": {},
   "outputs": [],
   "source": [
    "import scipy\n",
    "from scipy.signal import savgol_filter\n",
    "from oneida_filters import FFT_filter"
   ]
  },
  {
   "cell_type": "code",
   "execution_count": 23,
   "id": "7d896f14",
   "metadata": {
    "scrolled": false
   },
   "outputs": [],
   "source": [
    "# DV_noisy['y_c8']=DV['y_c8']\n"
   ]
  },
  {
   "cell_type": "code",
   "execution_count": null,
   "id": "c1076914",
   "metadata": {},
   "outputs": [],
   "source": []
  },
  {
   "cell_type": "code",
   "execution_count": null,
   "id": "884e7897",
   "metadata": {},
   "outputs": [],
   "source": []
  },
  {
   "cell_type": "code",
   "execution_count": 24,
   "id": "9b152820",
   "metadata": {},
   "outputs": [],
   "source": [
    "import dataframe_image as dfi\n",
    "# df = pd.DataFrame(np.random.randn(6, 6), columns=list('ABCDEF'))\n",
    "# df_styled = df.style.background_gradient() #adding a gradient based on values in cell\n",
    "# dfi.export(df_styled,\"mytable.png\")"
   ]
  },
  {
   "cell_type": "code",
   "execution_count": 26,
   "id": "9091214f",
   "metadata": {
    "scrolled": false
   },
   "outputs": [
    {
     "name": "stdout",
     "output_type": "stream",
     "text": [
      "1/1 [==============================] - 0s 25ms/step\n",
      "1/1 [==============================] - 0s 28ms/step\n",
      "Experiment name:  2 Comp-mix_ 30 % CH3Cl - 70% CH3CN\n",
      "File name:  Mix 50% Dilute CM-ACN.xlsx\n",
      "predicted index  81\n",
      "predicted label $CH_3Cl$+$CH_3CN$\n",
      "-----------------------------------------------------\n"
     ]
    },
    {
     "name": "stderr",
     "output_type": "stream",
     "text": [
      "/tmp/ipykernel_58735/2175816645.py:72: FutureWarning: this method is deprecated in favour of `Styler.hide(axis='index')`\n",
      "  display(sorted_scoresDf.style.hide_index())\n"
     ]
    },
    {
     "data": {
      "text/html": [
       "<style type=\"text/css\">\n",
       "</style>\n",
       "<table id=\"T_5d139\">\n",
       "  <thead>\n",
       "    <tr>\n",
       "      <th id=\"T_5d139_level0_col0\" class=\"col_heading level0 col0\" >Species present</th>\n",
       "      <th id=\"T_5d139_level0_col1\" class=\"col_heading level0 col1\" >Score</th>\n",
       "    </tr>\n",
       "  </thead>\n",
       "  <tbody>\n",
       "    <tr>\n",
       "      <td id=\"T_5d139_row0_col0\" class=\"data row0 col0\" >$CH_3Cl$+$CH_3CN$</td>\n",
       "      <td id=\"T_5d139_row0_col1\" class=\"data row0 col1\" >0.999458</td>\n",
       "    </tr>\n",
       "    <tr>\n",
       "      <td id=\"T_5d139_row1_col0\" class=\"data row1 col0\" >$C_2H_5OH$+$CH_3Cl$+$CH_3CN$</td>\n",
       "      <td id=\"T_5d139_row1_col1\" class=\"data row1 col1\" >0.000540</td>\n",
       "    </tr>\n",
       "    <tr>\n",
       "      <td id=\"T_5d139_row2_col0\" class=\"data row2 col0\" >$CH_3Cl$+$CH_3CN$+$CH_3OH$</td>\n",
       "      <td id=\"T_5d139_row2_col1\" class=\"data row2 col1\" >0.000002</td>\n",
       "    </tr>\n",
       "    <tr>\n",
       "      <td id=\"T_5d139_row3_col0\" class=\"data row3 col0\" >$C_2H_5OH$+$CH_3Cl$+$CH_3CN$+$HCOOH$</td>\n",
       "      <td id=\"T_5d139_row3_col1\" class=\"data row3 col1\" >0.000000</td>\n",
       "    </tr>\n",
       "    <tr>\n",
       "      <td id=\"T_5d139_row4_col0\" class=\"data row4 col0\" >$CH_3Cl$+$CH_3CN$+$HCOOH$</td>\n",
       "      <td id=\"T_5d139_row4_col1\" class=\"data row4 col1\" >0.000000</td>\n",
       "    </tr>\n",
       "  </tbody>\n",
       "</table>\n"
      ],
      "text/plain": [
       "<pandas.io.formats.style.Styler at 0x7efd6fa65190>"
      ]
     },
     "metadata": {},
     "output_type": "display_data"
    },
    {
     "name": "stderr",
     "output_type": "stream",
     "text": [
      "/tmp/ipykernel_58735/2175816645.py:75: FutureWarning: this method is deprecated in favour of `Styler.hide(axis='index')`\n",
      "  dfi.export(sorted_scoresDf.style.hide_index(), r\"RESULTS/results_figures/result_df_\" + str(idx) + \".png\", table_conversion='matplotlib',dpi=150)\n"
     ]
    },
    {
     "name": "stdout",
     "output_type": "stream",
     "text": [
      "1/1 [==============================] - 0s 21ms/step\n",
      "1/1 [==============================] - 0s 24ms/step\n",
      "Experiment name:  2 Comp-mix_ 30 % CH3Cl - 70% CH3CN\n",
      "File name:  Pure Mix CM-ACN.xlsx\n",
      "predicted index  81\n",
      "predicted label $CH_3Cl$+$CH_3CN$\n",
      "-----------------------------------------------------\n"
     ]
    },
    {
     "name": "stderr",
     "output_type": "stream",
     "text": [
      "/tmp/ipykernel_58735/2175816645.py:72: FutureWarning: this method is deprecated in favour of `Styler.hide(axis='index')`\n",
      "  display(sorted_scoresDf.style.hide_index())\n"
     ]
    },
    {
     "data": {
      "text/html": [
       "<style type=\"text/css\">\n",
       "</style>\n",
       "<table id=\"T_e434a\">\n",
       "  <thead>\n",
       "    <tr>\n",
       "      <th id=\"T_e434a_level0_col0\" class=\"col_heading level0 col0\" >Species present</th>\n",
       "      <th id=\"T_e434a_level0_col1\" class=\"col_heading level0 col1\" >Score</th>\n",
       "    </tr>\n",
       "  </thead>\n",
       "  <tbody>\n",
       "    <tr>\n",
       "      <td id=\"T_e434a_row0_col0\" class=\"data row0 col0\" >$CH_3Cl$+$CH_3CN$</td>\n",
       "      <td id=\"T_e434a_row0_col1\" class=\"data row0 col1\" >0.646248</td>\n",
       "    </tr>\n",
       "    <tr>\n",
       "      <td id=\"T_e434a_row1_col0\" class=\"data row1 col0\" >$C_2H_5OH$+$CH_3Cl$+$CH_3CN$</td>\n",
       "      <td id=\"T_e434a_row1_col1\" class=\"data row1 col1\" >0.353748</td>\n",
       "    </tr>\n",
       "    <tr>\n",
       "      <td id=\"T_e434a_row2_col0\" class=\"data row2 col0\" >$CH_3Cl$+$CH_3CN$+$CH_3OH$</td>\n",
       "      <td id=\"T_e434a_row2_col1\" class=\"data row2 col1\" >0.000003</td>\n",
       "    </tr>\n",
       "    <tr>\n",
       "      <td id=\"T_e434a_row3_col0\" class=\"data row3 col0\" >$C_2H_5OH$+$CH_3Cl$+$CH_3CN$+$HCOOH$</td>\n",
       "      <td id=\"T_e434a_row3_col1\" class=\"data row3 col1\" >0.000000</td>\n",
       "    </tr>\n",
       "    <tr>\n",
       "      <td id=\"T_e434a_row4_col0\" class=\"data row4 col0\" >$C_2H_5OH$+$CH_3Cl$+$CH_3CN$+$CH_3OH$</td>\n",
       "      <td id=\"T_e434a_row4_col1\" class=\"data row4 col1\" >0.000000</td>\n",
       "    </tr>\n",
       "  </tbody>\n",
       "</table>\n"
      ],
      "text/plain": [
       "<pandas.io.formats.style.Styler at 0x7efda0bc5760>"
      ]
     },
     "metadata": {},
     "output_type": "display_data"
    },
    {
     "name": "stderr",
     "output_type": "stream",
     "text": [
      "/tmp/ipykernel_58735/2175816645.py:75: FutureWarning: this method is deprecated in favour of `Styler.hide(axis='index')`\n",
      "  dfi.export(sorted_scoresDf.style.hide_index(), r\"RESULTS/results_figures/result_df_\" + str(idx) + \".png\", table_conversion='matplotlib',dpi=150)\n"
     ]
    },
    {
     "name": "stdout",
     "output_type": "stream",
     "text": [
      "1/1 [==============================] - 0s 21ms/step\n",
      "1/1 [==============================] - 0s 24ms/step\n",
      "Experiment name:  2 Comp-mix_ 30 % CH3Cl - 70% CH3CN\n",
      "File name:  Mix 90% Dilute CM-ACN.xlsx\n",
      "predicted index  81\n",
      "predicted label $CH_3Cl$+$CH_3CN$\n",
      "-----------------------------------------------------\n"
     ]
    },
    {
     "name": "stderr",
     "output_type": "stream",
     "text": [
      "/tmp/ipykernel_58735/2175816645.py:72: FutureWarning: this method is deprecated in favour of `Styler.hide(axis='index')`\n",
      "  display(sorted_scoresDf.style.hide_index())\n"
     ]
    },
    {
     "data": {
      "text/html": [
       "<style type=\"text/css\">\n",
       "</style>\n",
       "<table id=\"T_605d7\">\n",
       "  <thead>\n",
       "    <tr>\n",
       "      <th id=\"T_605d7_level0_col0\" class=\"col_heading level0 col0\" >Species present</th>\n",
       "      <th id=\"T_605d7_level0_col1\" class=\"col_heading level0 col1\" >Score</th>\n",
       "    </tr>\n",
       "  </thead>\n",
       "  <tbody>\n",
       "    <tr>\n",
       "      <td id=\"T_605d7_row0_col0\" class=\"data row0 col0\" >$CH_3Cl$+$CH_3CN$</td>\n",
       "      <td id=\"T_605d7_row0_col1\" class=\"data row0 col1\" >0.909778</td>\n",
       "    </tr>\n",
       "    <tr>\n",
       "      <td id=\"T_605d7_row1_col0\" class=\"data row1 col0\" >$CH_3Cl$+$CH_3CN$+$CH_3OH$</td>\n",
       "      <td id=\"T_605d7_row1_col1\" class=\"data row1 col1\" >0.084952</td>\n",
       "    </tr>\n",
       "    <tr>\n",
       "      <td id=\"T_605d7_row2_col0\" class=\"data row2 col0\" >$C_2H_5OH$+$CH_3Cl$+$CH_3CN$</td>\n",
       "      <td id=\"T_605d7_row2_col1\" class=\"data row2 col1\" >0.005270</td>\n",
       "    </tr>\n",
       "    <tr>\n",
       "      <td id=\"T_605d7_row3_col0\" class=\"data row3 col0\" >$CH_3CN$</td>\n",
       "      <td id=\"T_605d7_row3_col1\" class=\"data row3 col1\" >0.000000</td>\n",
       "    </tr>\n",
       "    <tr>\n",
       "      <td id=\"T_605d7_row4_col0\" class=\"data row4 col0\" >$CH_3Cl$+$CH_3CN$+$H_2CO$</td>\n",
       "      <td id=\"T_605d7_row4_col1\" class=\"data row4 col1\" >0.000000</td>\n",
       "    </tr>\n",
       "  </tbody>\n",
       "</table>\n"
      ],
      "text/plain": [
       "<pandas.io.formats.style.Styler at 0x7efd6e38edc0>"
      ]
     },
     "metadata": {},
     "output_type": "display_data"
    },
    {
     "name": "stderr",
     "output_type": "stream",
     "text": [
      "/tmp/ipykernel_58735/2175816645.py:75: FutureWarning: this method is deprecated in favour of `Styler.hide(axis='index')`\n",
      "  dfi.export(sorted_scoresDf.style.hide_index(), r\"RESULTS/results_figures/result_df_\" + str(idx) + \".png\", table_conversion='matplotlib',dpi=150)\n"
     ]
    },
    {
     "name": "stdout",
     "output_type": "stream",
     "text": [
      "1/1 [==============================] - 0s 35ms/step\n",
      "1/1 [==============================] - 0s 31ms/step\n",
      "Experiment name:  3 Comp-mix_ 90+% CH3OH + 5-% CH3CN + 5-% CH3CL\n",
      "File name:  0.9 CH3OH + 0.05 CH3CN + 0.05 CH3Cl - 1.xlsx\n",
      "predicted index  82\n",
      "predicted label $CH_3Cl$+$CH_3CN$+$CH_3OH$\n",
      "-----------------------------------------------------\n"
     ]
    },
    {
     "name": "stderr",
     "output_type": "stream",
     "text": [
      "/tmp/ipykernel_58735/2175816645.py:72: FutureWarning: this method is deprecated in favour of `Styler.hide(axis='index')`\n",
      "  display(sorted_scoresDf.style.hide_index())\n"
     ]
    },
    {
     "data": {
      "text/html": [
       "<style type=\"text/css\">\n",
       "</style>\n",
       "<table id=\"T_d9f89\">\n",
       "  <thead>\n",
       "    <tr>\n",
       "      <th id=\"T_d9f89_level0_col0\" class=\"col_heading level0 col0\" >Species present</th>\n",
       "      <th id=\"T_d9f89_level0_col1\" class=\"col_heading level0 col1\" >Score</th>\n",
       "    </tr>\n",
       "  </thead>\n",
       "  <tbody>\n",
       "    <tr>\n",
       "      <td id=\"T_d9f89_row0_col0\" class=\"data row0 col0\" >$CH_3Cl$+$CH_3CN$+$CH_3OH$</td>\n",
       "      <td id=\"T_d9f89_row0_col1\" class=\"data row0 col1\" >0.999953</td>\n",
       "    </tr>\n",
       "    <tr>\n",
       "      <td id=\"T_d9f89_row1_col0\" class=\"data row1 col0\" >$CH_3Cl$+$CH_3CN$</td>\n",
       "      <td id=\"T_d9f89_row1_col1\" class=\"data row1 col1\" >0.000047</td>\n",
       "    </tr>\n",
       "    <tr>\n",
       "      <td id=\"T_d9f89_row2_col0\" class=\"data row2 col0\" >$CH_3Cl$+$CH_3CN$+$CH_3OH$+$HCOOH$</td>\n",
       "      <td id=\"T_d9f89_row2_col1\" class=\"data row2 col1\" >0.000000</td>\n",
       "    </tr>\n",
       "    <tr>\n",
       "      <td id=\"T_d9f89_row3_col0\" class=\"data row3 col0\" >$CH_3Cl$+$CH_3CN$+$CH_3OH$+$HNO_3$</td>\n",
       "      <td id=\"T_d9f89_row3_col1\" class=\"data row3 col1\" >0.000000</td>\n",
       "    </tr>\n",
       "    <tr>\n",
       "      <td id=\"T_d9f89_row4_col0\" class=\"data row4 col0\" >$CH_3Cl$+$CH_3CN$+$H_2CO$</td>\n",
       "      <td id=\"T_d9f89_row4_col1\" class=\"data row4 col1\" >0.000000</td>\n",
       "    </tr>\n",
       "  </tbody>\n",
       "</table>\n"
      ],
      "text/plain": [
       "<pandas.io.formats.style.Styler at 0x7efd6e38cc70>"
      ]
     },
     "metadata": {},
     "output_type": "display_data"
    },
    {
     "name": "stderr",
     "output_type": "stream",
     "text": [
      "/tmp/ipykernel_58735/2175816645.py:75: FutureWarning: this method is deprecated in favour of `Styler.hide(axis='index')`\n",
      "  dfi.export(sorted_scoresDf.style.hide_index(), r\"RESULTS/results_figures/result_df_\" + str(idx) + \".png\", table_conversion='matplotlib',dpi=150)\n"
     ]
    },
    {
     "name": "stdout",
     "output_type": "stream",
     "text": [
      "1/1 [==============================] - 0s 22ms/step\n",
      "1/1 [==============================] - 0s 36ms/step\n",
      "Experiment name:  3 Comp-mix_ 90+% CH3OH + 5-% CH3CN + 5-% CH3CL\n",
      "File name:  0.9 CH3OH + 0.05 CH3CN + 0.05 CH3Cl - 2.xlsx\n",
      "predicted index  82\n",
      "predicted label $CH_3Cl$+$CH_3CN$+$CH_3OH$\n",
      "-----------------------------------------------------\n"
     ]
    },
    {
     "name": "stderr",
     "output_type": "stream",
     "text": [
      "/tmp/ipykernel_58735/2175816645.py:72: FutureWarning: this method is deprecated in favour of `Styler.hide(axis='index')`\n",
      "  display(sorted_scoresDf.style.hide_index())\n"
     ]
    },
    {
     "data": {
      "text/html": [
       "<style type=\"text/css\">\n",
       "</style>\n",
       "<table id=\"T_dd781\">\n",
       "  <thead>\n",
       "    <tr>\n",
       "      <th id=\"T_dd781_level0_col0\" class=\"col_heading level0 col0\" >Species present</th>\n",
       "      <th id=\"T_dd781_level0_col1\" class=\"col_heading level0 col1\" >Score</th>\n",
       "    </tr>\n",
       "  </thead>\n",
       "  <tbody>\n",
       "    <tr>\n",
       "      <td id=\"T_dd781_row0_col0\" class=\"data row0 col0\" >$CH_3Cl$+$CH_3CN$+$CH_3OH$</td>\n",
       "      <td id=\"T_dd781_row0_col1\" class=\"data row0 col1\" >0.999165</td>\n",
       "    </tr>\n",
       "    <tr>\n",
       "      <td id=\"T_dd781_row1_col0\" class=\"data row1 col0\" >$C_2H_5OH$+$CH_3Cl$+$CH_3CN$+$CH_3OH$</td>\n",
       "      <td id=\"T_dd781_row1_col1\" class=\"data row1 col1\" >0.000830</td>\n",
       "    </tr>\n",
       "    <tr>\n",
       "      <td id=\"T_dd781_row2_col0\" class=\"data row2 col0\" >$CH_3Cl$+$CH_3CN$+$CH_3OH$+$HCOOH$</td>\n",
       "      <td id=\"T_dd781_row2_col1\" class=\"data row2 col1\" >0.000004</td>\n",
       "    </tr>\n",
       "    <tr>\n",
       "      <td id=\"T_dd781_row3_col0\" class=\"data row3 col0\" >$CH_3Cl$+$CH_3CN$+$CH_3OH$+$HNO_3$</td>\n",
       "      <td id=\"T_dd781_row3_col1\" class=\"data row3 col1\" >0.000000</td>\n",
       "    </tr>\n",
       "    <tr>\n",
       "      <td id=\"T_dd781_row4_col0\" class=\"data row4 col0\" >$CH_3Cl$+$CH_3OH$</td>\n",
       "      <td id=\"T_dd781_row4_col1\" class=\"data row4 col1\" >0.000000</td>\n",
       "    </tr>\n",
       "  </tbody>\n",
       "</table>\n"
      ],
      "text/plain": [
       "<pandas.io.formats.style.Styler at 0x7efda0bc57f0>"
      ]
     },
     "metadata": {},
     "output_type": "display_data"
    },
    {
     "name": "stderr",
     "output_type": "stream",
     "text": [
      "/tmp/ipykernel_58735/2175816645.py:75: FutureWarning: this method is deprecated in favour of `Styler.hide(axis='index')`\n",
      "  dfi.export(sorted_scoresDf.style.hide_index(), r\"RESULTS/results_figures/result_df_\" + str(idx) + \".png\", table_conversion='matplotlib',dpi=150)\n"
     ]
    },
    {
     "name": "stdout",
     "output_type": "stream",
     "text": [
      "1/1 [==============================] - 0s 33ms/step\n",
      "1/1 [==============================] - 0s 32ms/step\n",
      "Experiment name:  4 Comp-mix_ 67% CH3OH + 30% CH3CHO + 2% CH3Cl + 1% CH3CN\n",
      "File name:  0.67 CH3OH + 0.3 CH3CHO + 0.02 CH3Cl + 0.01 CH3CN - v2.xlsx\n",
      "predicted index  82\n",
      "predicted label $CH_3Cl$+$CH_3CN$+$CH_3OH$\n",
      "-----------------------------------------------------\n"
     ]
    },
    {
     "name": "stderr",
     "output_type": "stream",
     "text": [
      "/tmp/ipykernel_58735/2175816645.py:72: FutureWarning: this method is deprecated in favour of `Styler.hide(axis='index')`\n",
      "  display(sorted_scoresDf.style.hide_index())\n"
     ]
    },
    {
     "data": {
      "text/html": [
       "<style type=\"text/css\">\n",
       "</style>\n",
       "<table id=\"T_f5249\">\n",
       "  <thead>\n",
       "    <tr>\n",
       "      <th id=\"T_f5249_level0_col0\" class=\"col_heading level0 col0\" >Species present</th>\n",
       "      <th id=\"T_f5249_level0_col1\" class=\"col_heading level0 col1\" >Score</th>\n",
       "    </tr>\n",
       "  </thead>\n",
       "  <tbody>\n",
       "    <tr>\n",
       "      <td id=\"T_f5249_row0_col0\" class=\"data row0 col0\" >$CH_3Cl$+$CH_3CN$+$CH_3OH$</td>\n",
       "      <td id=\"T_f5249_row0_col1\" class=\"data row0 col1\" >0.985995</td>\n",
       "    </tr>\n",
       "    <tr>\n",
       "      <td id=\"T_f5249_row1_col0\" class=\"data row1 col0\" >$CH_3Cl$+$CH_3CN$+$CH_3OH$+$HNO_3$</td>\n",
       "      <td id=\"T_f5249_row1_col1\" class=\"data row1 col1\" >0.012360</td>\n",
       "    </tr>\n",
       "    <tr>\n",
       "      <td id=\"T_f5249_row2_col0\" class=\"data row2 col0\" >$CH_3CN$+$CH_3OH$</td>\n",
       "      <td id=\"T_f5249_row2_col1\" class=\"data row2 col1\" >0.001638</td>\n",
       "    </tr>\n",
       "    <tr>\n",
       "      <td id=\"T_f5249_row3_col0\" class=\"data row3 col0\" >$CH_3Cl$+$CH_3CN$+$CH_3OH$+$HCOOH$</td>\n",
       "      <td id=\"T_f5249_row3_col1\" class=\"data row3 col1\" >0.000007</td>\n",
       "    </tr>\n",
       "    <tr>\n",
       "      <td id=\"T_f5249_row4_col0\" class=\"data row4 col0\" >$CH_3CN$+$CH_3OH$+$HNO_3$</td>\n",
       "      <td id=\"T_f5249_row4_col1\" class=\"data row4 col1\" >0.000000</td>\n",
       "    </tr>\n",
       "  </tbody>\n",
       "</table>\n"
      ],
      "text/plain": [
       "<pandas.io.formats.style.Styler at 0x7efd74c6dfd0>"
      ]
     },
     "metadata": {},
     "output_type": "display_data"
    },
    {
     "name": "stderr",
     "output_type": "stream",
     "text": [
      "/tmp/ipykernel_58735/2175816645.py:75: FutureWarning: this method is deprecated in favour of `Styler.hide(axis='index')`\n",
      "  dfi.export(sorted_scoresDf.style.hide_index(), r\"RESULTS/results_figures/result_df_\" + str(idx) + \".png\", table_conversion='matplotlib',dpi=150)\n"
     ]
    }
   ],
   "source": [
    "\n",
    "# exps = ['2 Comp-mix_ 30 % CH3Cl - 70% CH3CN/Mix 50% Dilute CM-ACN.xlsx',\n",
    "# '2 Comp-mix_ 30 % CH3Cl - 70% CH3CN/Pure Mix CM-ACN.xlsx',\n",
    "# '2 Comp-mix_ 30 % CH3Cl - 70% CH3CN/Mix 90% Dilute CM-ACN.xlsx',\n",
    "# '3 Comp-mix_ 90+% CH3OH + 5-% CH3CN + 5-% CH3CL/0.9 CH3OH + 0.05 CH3CN + 0.05 CH3Cl - 1.xlsx',\n",
    "# '3 Comp-mix_ 90+% CH3OH + 5-% CH3CN + 5-% CH3CL/0.9 CH3OH + 0.05 CH3CN + 0.05 CH3Cl - 2.xlsx',\n",
    "# '4 Comp-mix_ 67% CH3OH + 30% CH3CHO + 2% CH3Cl + 1% CH3CN/0.67 CH3OH + 0.3 CH3CHO + 0.02 CH3Cl + 0.01 CH3CN - v2.xlsx',\n",
    "# '4 Comp-mix_ 67% CH3OH + 30% CH3CHO + 2% CH3Cl + 1% CH3CN/90% Dilute in N2 - 0.67 CH3OH + 0.3 CH3CHO + 0.02 CH3Cl + 0.01 CH3CN'       ]\n",
    "\n",
    "# true_label=[81,81,81,82,82,19,19]\n",
    "\n",
    "exps = ['2 Comp-mix_ 30 % CH3Cl - 70% CH3CN/Mix 50% Dilute CM-ACN.xlsx',\n",
    "'2 Comp-mix_ 30 % CH3Cl - 70% CH3CN/Pure Mix CM-ACN.xlsx',\n",
    "'2 Comp-mix_ 30 % CH3Cl - 70% CH3CN/Mix 90% Dilute CM-ACN.xlsx',\n",
    "'3 Comp-mix_ 90+% CH3OH + 5-% CH3CN + 5-% CH3CL/0.9 CH3OH + 0.05 CH3CN + 0.05 CH3Cl - 1.xlsx',\n",
    "'3 Comp-mix_ 90+% CH3OH + 5-% CH3CN + 5-% CH3CL/0.9 CH3OH + 0.05 CH3CN + 0.05 CH3Cl - 2.xlsx',\n",
    "'4 Comp-mix_ 67% CH3OH + 30% CH3CHO + 2% CH3Cl + 1% CH3CN/0.67 CH3OH + 0.3 CH3CHO + 0.02 CH3Cl + 0.01 CH3CN - v2.xlsx',\n",
    "]\n",
    "\n",
    "true_label=[81,81,81,82,82,19]\n",
    "\n",
    "exp_path = '../../data/Mixture_exp_data/'\n",
    "exp_filepath = '4 Comp-mix_ 67% CH3OH + 30% CH3CHO + 2% CH3Cl + 1% CH3CN/0.67 CH3OH + 0.3 CH3CHO + 0.02 CH3Cl + 0.01 CH3CN - v2.xlsx'\n",
    "\n",
    "\n",
    "def classify_exp(exp_path,exp_filepath,mixture_types,true_label, excel=True):\n",
    "    all_unique_labels= mixture_types\n",
    "    if excel:\n",
    "        df_exp1 = pd.read_excel(exp_path + exp_filepath)\n",
    "    else:\n",
    "        df_exp1 = pd.read_csv(exp_path + exp_filepath)\n",
    "\n",
    "\n",
    "    freq_exp1 = df_exp1[df_exp1.columns[0]].to_numpy()\n",
    "    abs_exp1 = df_exp1[df_exp1.columns[1]].to_numpy()\n",
    "    \n",
    "#     fft_filter(freq_exp1, abs_exp1, factor=75)\n",
    "\n",
    "    dfy_resampled= signal.resample(abs_exp1, len(m.frequencies))\n",
    "    dfx_resampled= signal.resample(freq_exp1, len(m.frequencies))\n",
    "    expanded_abs = np.expand_dims(np.expand_dims(dfy_resampled, axis=-1), axis=0)\n",
    "    pred_exp_label = np.argmax(model.predict(expanded_abs), axis=-1)[0]\n",
    "    \n",
    "    score_predictions = probability_model.predict(expanded_abs)\n",
    "    scoreDf = pd.DataFrame()\n",
    "    scoreDf['species'] = mixture_types\n",
    "#     scoreDf['Label'] = scoreDf.index\n",
    "    scoreDf['Species present'] = mixture_types\n",
    "    scoreDf.drop('species',axis=1, inplace=True)\n",
    "#     import pdb; pdb.set_trace()\n",
    "    scoreDf['Score'] = score_predictions[0]\n",
    "#     scoreDf.to_csv(r'RESULTS/exp_preds/' + 'exp' + str(idx) + '.csv')\n",
    "    \n",
    "    sorted_scoresDf = scoreDf.sort_values(by='Score', ascending=False).head(n=5)\n",
    "    \n",
    "#     print(score_predictions)\n",
    "    print('Experiment name: ',exp_filepath.split('/')[0])\n",
    "    print('File name: ',exp_filepath.split('/')[1])\n",
    "    print('predicted index ', pred_exp_label)\n",
    "    print('predicted label', mixture_types[pred_exp_label])\n",
    "#     display(sorted_scoresDf)\n",
    "    print('-----------------------------------------------------')\n",
    "    \n",
    "\n",
    "    return pred_exp_label, sorted_scoresDf\n",
    "idx = 0 \n",
    "for experiment in exps:\n",
    "    pred_exp_label, sorted_scoresDf = classify_exp(exp_path,experiment,mixture_types, true_label[idx],excel=True)\n",
    "    \n",
    "#     sorted_scoresDf.style.set_properties(**{'background-color': 'white',\n",
    "#                            'color': 'blue'})\n",
    "    \n",
    "    display(sorted_scoresDf.style.hide_index())\n",
    "#     df_styled = sorted_scoresDf.style.background_gradient(cmap='Blues',low=0, high=0)\n",
    "#     dfi.export(df_styled,\"result_df_\" + str(idx) + \".png\")\n",
    "    dfi.export(sorted_scoresDf.style.hide_index(), r\"RESULTS/results_figures/result_df_\" + str(idx) + \".png\", table_conversion='matplotlib',dpi=150)\n",
    "    idx+=1"
   ]
  },
  {
   "cell_type": "code",
   "execution_count": null,
   "id": "b0c155c2",
   "metadata": {},
   "outputs": [],
   "source": []
  },
  {
   "cell_type": "markdown",
   "id": "e46a27ce",
   "metadata": {},
   "source": [
    "# classify some pure spectra"
   ]
  },
  {
   "cell_type": "code",
   "execution_count": 27,
   "id": "c5b7928d",
   "metadata": {
    "scrolled": false
   },
   "outputs": [
    {
     "name": "stdout",
     "output_type": "stream",
     "text": [
      "1/1 [==============================] - 0s 22ms/step\n",
      "1/1 [==============================] - 0s 34ms/step\n",
      "Experiment name:  1 comp\n",
      "File name:  Methanol 1 Torr WDL 8.csv\n",
      "predicted index  112\n",
      "predicted label $CH_3OH$\n"
     ]
    },
    {
     "name": "stderr",
     "output_type": "stream",
     "text": [
      "/tmp/ipykernel_58735/1398306016.py:51: FutureWarning: this method is deprecated in favour of `Styler.hide(axis='index')`\n",
      "  display(sorted_scoresDf.style.hide_index())\n"
     ]
    },
    {
     "data": {
      "text/html": [
       "<style type=\"text/css\">\n",
       "</style>\n",
       "<table id=\"T_df659\">\n",
       "  <thead>\n",
       "    <tr>\n",
       "      <th id=\"T_df659_level0_col0\" class=\"col_heading level0 col0\" >Species present</th>\n",
       "      <th id=\"T_df659_level0_col1\" class=\"col_heading level0 col1\" >Score</th>\n",
       "    </tr>\n",
       "  </thead>\n",
       "  <tbody>\n",
       "    <tr>\n",
       "      <td id=\"T_df659_row0_col0\" class=\"data row0 col0\" >$CH_3OH$</td>\n",
       "      <td id=\"T_df659_row0_col1\" class=\"data row0 col1\" >0.999994</td>\n",
       "    </tr>\n",
       "    <tr>\n",
       "      <td id=\"T_df659_row1_col0\" class=\"data row1 col0\" >$CH_3CHO$+$CH_3CN$+$CH_3OH$</td>\n",
       "      <td id=\"T_df659_row1_col1\" class=\"data row1 col1\" >0.000006</td>\n",
       "    </tr>\n",
       "    <tr>\n",
       "      <td id=\"T_df659_row2_col0\" class=\"data row2 col0\" >$CH_3CN$+$CH_3OH$</td>\n",
       "      <td id=\"T_df659_row2_col1\" class=\"data row2 col1\" >0.000000</td>\n",
       "    </tr>\n",
       "    <tr>\n",
       "      <td id=\"T_df659_row3_col0\" class=\"data row3 col0\" >$C_2H_5OH$+$CH_3CN$+$CH_3OH$</td>\n",
       "      <td id=\"T_df659_row3_col1\" class=\"data row3 col1\" >0.000000</td>\n",
       "    </tr>\n",
       "    <tr>\n",
       "      <td id=\"T_df659_row4_col0\" class=\"data row4 col0\" >$CH_3Cl$+$CH_3OH$</td>\n",
       "      <td id=\"T_df659_row4_col1\" class=\"data row4 col1\" >0.000000</td>\n",
       "    </tr>\n",
       "  </tbody>\n",
       "</table>\n"
      ],
      "text/plain": [
       "<pandas.io.formats.style.Styler at 0x7efd74c83040>"
      ]
     },
     "metadata": {},
     "output_type": "display_data"
    },
    {
     "name": "stdout",
     "output_type": "stream",
     "text": [
      "-----------------------------------------------------\n"
     ]
    },
    {
     "name": "stderr",
     "output_type": "stream",
     "text": [
      "/tmp/ipykernel_58735/1398306016.py:52: FutureWarning: this method is deprecated in favour of `Styler.hide(axis='index')`\n",
      "  dfi.export(sorted_scoresDf.style.hide_index(), r\"RESULTS/results_figures/result_pure_df_\" + str(idx) + \".png\", table_conversion='matplotlib',dpi=150)\n"
     ]
    },
    {
     "name": "stdout",
     "output_type": "stream",
     "text": [
      "1/1 [==============================] - 0s 24ms/step\n",
      "1/1 [==============================] - 0s 22ms/step\n",
      "Experiment name:  1 comp\n",
      "File name:  Formic Acid 1 Torr WDL 5 Notch Shift.csv\n",
      "predicted index  248\n",
      "predicted label $HCOOH$\n"
     ]
    },
    {
     "name": "stderr",
     "output_type": "stream",
     "text": [
      "/tmp/ipykernel_58735/1398306016.py:51: FutureWarning: this method is deprecated in favour of `Styler.hide(axis='index')`\n",
      "  display(sorted_scoresDf.style.hide_index())\n"
     ]
    },
    {
     "data": {
      "text/html": [
       "<style type=\"text/css\">\n",
       "</style>\n",
       "<table id=\"T_dadda\">\n",
       "  <thead>\n",
       "    <tr>\n",
       "      <th id=\"T_dadda_level0_col0\" class=\"col_heading level0 col0\" >Species present</th>\n",
       "      <th id=\"T_dadda_level0_col1\" class=\"col_heading level0 col1\" >Score</th>\n",
       "    </tr>\n",
       "  </thead>\n",
       "  <tbody>\n",
       "    <tr>\n",
       "      <td id=\"T_dadda_row0_col0\" class=\"data row0 col0\" >$HCOOH$</td>\n",
       "      <td id=\"T_dadda_row0_col1\" class=\"data row0 col1\" >0.999988</td>\n",
       "    </tr>\n",
       "    <tr>\n",
       "      <td id=\"T_dadda_row1_col0\" class=\"data row1 col0\" >$C_2H_5OH$+$HCOOH$</td>\n",
       "      <td id=\"T_dadda_row1_col1\" class=\"data row1 col1\" >0.000007</td>\n",
       "    </tr>\n",
       "    <tr>\n",
       "      <td id=\"T_dadda_row2_col0\" class=\"data row2 col0\" >$C_2H_5OH$+$CH_3Cl$+$HCOOH$</td>\n",
       "      <td id=\"T_dadda_row2_col1\" class=\"data row2 col1\" >0.000005</td>\n",
       "    </tr>\n",
       "    <tr>\n",
       "      <td id=\"T_dadda_row3_col0\" class=\"data row3 col0\" >$CH_3Cl$+$HCOOH$</td>\n",
       "      <td id=\"T_dadda_row3_col1\" class=\"data row3 col1\" >0.000000</td>\n",
       "    </tr>\n",
       "    <tr>\n",
       "      <td id=\"T_dadda_row4_col0\" class=\"data row4 col0\" >$H_2CO$+$HCOOH$</td>\n",
       "      <td id=\"T_dadda_row4_col1\" class=\"data row4 col1\" >0.000000</td>\n",
       "    </tr>\n",
       "  </tbody>\n",
       "</table>\n"
      ],
      "text/plain": [
       "<pandas.io.formats.style.Styler at 0x7efd6d576af0>"
      ]
     },
     "metadata": {},
     "output_type": "display_data"
    },
    {
     "name": "stdout",
     "output_type": "stream",
     "text": [
      "-----------------------------------------------------\n"
     ]
    },
    {
     "name": "stderr",
     "output_type": "stream",
     "text": [
      "/tmp/ipykernel_58735/1398306016.py:52: FutureWarning: this method is deprecated in favour of `Styler.hide(axis='index')`\n",
      "  dfi.export(sorted_scoresDf.style.hide_index(), r\"RESULTS/results_figures/result_pure_df_\" + str(idx) + \".png\", table_conversion='matplotlib',dpi=150)\n"
     ]
    },
    {
     "name": "stdout",
     "output_type": "stream",
     "text": [
      "1/1 [==============================] - 0s 23ms/step\n",
      "1/1 [==============================] - 0s 34ms/step\n",
      "Experiment name:  1 comp\n",
      "File name:  Acetaldehyde 1 Torr WDL 6 Notch.csv\n",
      "predicted index  122\n",
      "predicted label $C_2H_5OH$+$CH_3CHO$+$CH_3CN$\n"
     ]
    },
    {
     "name": "stderr",
     "output_type": "stream",
     "text": [
      "/tmp/ipykernel_58735/1398306016.py:51: FutureWarning: this method is deprecated in favour of `Styler.hide(axis='index')`\n",
      "  display(sorted_scoresDf.style.hide_index())\n"
     ]
    },
    {
     "data": {
      "text/html": [
       "<style type=\"text/css\">\n",
       "</style>\n",
       "<table id=\"T_cc548\">\n",
       "  <thead>\n",
       "    <tr>\n",
       "      <th id=\"T_cc548_level0_col0\" class=\"col_heading level0 col0\" >Species present</th>\n",
       "      <th id=\"T_cc548_level0_col1\" class=\"col_heading level0 col1\" >Score</th>\n",
       "    </tr>\n",
       "  </thead>\n",
       "  <tbody>\n",
       "    <tr>\n",
       "      <td id=\"T_cc548_row0_col0\" class=\"data row0 col0\" >$C_2H_5OH$+$CH_3CHO$+$CH_3CN$</td>\n",
       "      <td id=\"T_cc548_row0_col1\" class=\"data row0 col1\" >0.843115</td>\n",
       "    </tr>\n",
       "    <tr>\n",
       "      <td id=\"T_cc548_row1_col0\" class=\"data row1 col0\" >$C_2H_5OH$+$CH_3CHO$+$CH_3CN$+$HNO_3$</td>\n",
       "      <td id=\"T_cc548_row1_col1\" class=\"data row1 col1\" >0.136387</td>\n",
       "    </tr>\n",
       "    <tr>\n",
       "      <td id=\"T_cc548_row2_col0\" class=\"data row2 col0\" >$C_2H_5OH$+$CH_3CHO$+$HNO_3$</td>\n",
       "      <td id=\"T_cc548_row2_col1\" class=\"data row2 col1\" >0.006015</td>\n",
       "    </tr>\n",
       "    <tr>\n",
       "      <td id=\"T_cc548_row3_col0\" class=\"data row3 col0\" >$CH_3CHO$+$HNO_3$</td>\n",
       "      <td id=\"T_cc548_row3_col1\" class=\"data row3 col1\" >0.005360</td>\n",
       "    </tr>\n",
       "    <tr>\n",
       "      <td id=\"T_cc548_row4_col0\" class=\"data row4 col0\" >$CH_3CHO$+$CH_3CN$+$HNO_3$</td>\n",
       "      <td id=\"T_cc548_row4_col1\" class=\"data row4 col1\" >0.004531</td>\n",
       "    </tr>\n",
       "  </tbody>\n",
       "</table>\n"
      ],
      "text/plain": [
       "<pandas.io.formats.style.Styler at 0x7efd6d42e310>"
      ]
     },
     "metadata": {},
     "output_type": "display_data"
    },
    {
     "name": "stdout",
     "output_type": "stream",
     "text": [
      "-----------------------------------------------------\n"
     ]
    },
    {
     "name": "stderr",
     "output_type": "stream",
     "text": [
      "/tmp/ipykernel_58735/1398306016.py:52: FutureWarning: this method is deprecated in favour of `Styler.hide(axis='index')`\n",
      "  dfi.export(sorted_scoresDf.style.hide_index(), r\"RESULTS/results_figures/result_pure_df_\" + str(idx) + \".png\", table_conversion='matplotlib',dpi=150)\n"
     ]
    },
    {
     "name": "stdout",
     "output_type": "stream",
     "text": [
      "1/1 [==============================] - 0s 23ms/step\n",
      "1/1 [==============================] - 0s 39ms/step\n",
      "Experiment name:  1 comp\n",
      "File name:  1-Sweep CH3Cl 220-330-1 Torr.csv\n",
      "predicted index  80\n",
      "predicted label $CH_3Cl$\n"
     ]
    },
    {
     "name": "stderr",
     "output_type": "stream",
     "text": [
      "/tmp/ipykernel_58735/1398306016.py:51: FutureWarning: this method is deprecated in favour of `Styler.hide(axis='index')`\n",
      "  display(sorted_scoresDf.style.hide_index())\n"
     ]
    },
    {
     "data": {
      "text/html": [
       "<style type=\"text/css\">\n",
       "</style>\n",
       "<table id=\"T_c0c01\">\n",
       "  <thead>\n",
       "    <tr>\n",
       "      <th id=\"T_c0c01_level0_col0\" class=\"col_heading level0 col0\" >Species present</th>\n",
       "      <th id=\"T_c0c01_level0_col1\" class=\"col_heading level0 col1\" >Score</th>\n",
       "    </tr>\n",
       "  </thead>\n",
       "  <tbody>\n",
       "    <tr>\n",
       "      <td id=\"T_c0c01_row0_col0\" class=\"data row0 col0\" >$CH_3Cl$</td>\n",
       "      <td id=\"T_c0c01_row0_col1\" class=\"data row0 col1\" >0.999838</td>\n",
       "    </tr>\n",
       "    <tr>\n",
       "      <td id=\"T_c0c01_row1_col0\" class=\"data row1 col0\" >$CH_3Cl$+$CH_3CN$</td>\n",
       "      <td id=\"T_c0c01_row1_col1\" class=\"data row1 col1\" >0.000125</td>\n",
       "    </tr>\n",
       "    <tr>\n",
       "      <td id=\"T_c0c01_row2_col0\" class=\"data row2 col0\" >$CH_3CHO$+$CH_3Cl$+$CH_3CN$</td>\n",
       "      <td id=\"T_c0c01_row2_col1\" class=\"data row2 col1\" >0.000035</td>\n",
       "    </tr>\n",
       "    <tr>\n",
       "      <td id=\"T_c0c01_row3_col0\" class=\"data row3 col0\" >$CH_3CHO$+$CH_3Cl$</td>\n",
       "      <td id=\"T_c0c01_row3_col1\" class=\"data row3 col1\" >0.000001</td>\n",
       "    </tr>\n",
       "    <tr>\n",
       "      <td id=\"T_c0c01_row4_col0\" class=\"data row4 col0\" >$CH_3CHO$+$CH_3Cl$+$CH_3CN$+$HNO_3$</td>\n",
       "      <td id=\"T_c0c01_row4_col1\" class=\"data row4 col1\" >0.000000</td>\n",
       "    </tr>\n",
       "  </tbody>\n",
       "</table>\n"
      ],
      "text/plain": [
       "<pandas.io.formats.style.Styler at 0x7efd6d418ac0>"
      ]
     },
     "metadata": {},
     "output_type": "display_data"
    },
    {
     "name": "stdout",
     "output_type": "stream",
     "text": [
      "-----------------------------------------------------\n"
     ]
    },
    {
     "name": "stderr",
     "output_type": "stream",
     "text": [
      "/tmp/ipykernel_58735/1398306016.py:52: FutureWarning: this method is deprecated in favour of `Styler.hide(axis='index')`\n",
      "  dfi.export(sorted_scoresDf.style.hide_index(), r\"RESULTS/results_figures/result_pure_df_\" + str(idx) + \".png\", table_conversion='matplotlib',dpi=150)\n"
     ]
    },
    {
     "name": "stdout",
     "output_type": "stream",
     "text": [
      "1/1 [==============================] - 0s 25ms/step\n",
      "1/1 [==============================] - 0s 25ms/step\n",
      "Experiment name:  1 comp\n",
      "File name:  1-Sweep 0p5 Torr-CH3CN.csv\n",
      "predicted index  64\n",
      "predicted label $CH_3CN$\n"
     ]
    },
    {
     "name": "stderr",
     "output_type": "stream",
     "text": [
      "/tmp/ipykernel_58735/1398306016.py:51: FutureWarning: this method is deprecated in favour of `Styler.hide(axis='index')`\n",
      "  display(sorted_scoresDf.style.hide_index())\n"
     ]
    },
    {
     "data": {
      "text/html": [
       "<style type=\"text/css\">\n",
       "</style>\n",
       "<table id=\"T_fa651\">\n",
       "  <thead>\n",
       "    <tr>\n",
       "      <th id=\"T_fa651_level0_col0\" class=\"col_heading level0 col0\" >Species present</th>\n",
       "      <th id=\"T_fa651_level0_col1\" class=\"col_heading level0 col1\" >Score</th>\n",
       "    </tr>\n",
       "  </thead>\n",
       "  <tbody>\n",
       "    <tr>\n",
       "      <td id=\"T_fa651_row0_col0\" class=\"data row0 col0\" >$CH_3CN$</td>\n",
       "      <td id=\"T_fa651_row0_col1\" class=\"data row0 col1\" >0.998151</td>\n",
       "    </tr>\n",
       "    <tr>\n",
       "      <td id=\"T_fa651_row1_col0\" class=\"data row1 col0\" >$CH_3CN$+$CH_3OH$</td>\n",
       "      <td id=\"T_fa651_row1_col1\" class=\"data row1 col1\" >0.001848</td>\n",
       "    </tr>\n",
       "    <tr>\n",
       "      <td id=\"T_fa651_row2_col0\" class=\"data row2 col0\" >$CH_3Cl$+$CH_3CN$</td>\n",
       "      <td id=\"T_fa651_row2_col1\" class=\"data row2 col1\" >0.000000</td>\n",
       "    </tr>\n",
       "    <tr>\n",
       "      <td id=\"T_fa651_row3_col0\" class=\"data row3 col0\" >$CH_3Cl$+$CH_3CN$+$CH_3OH$</td>\n",
       "      <td id=\"T_fa651_row3_col1\" class=\"data row3 col1\" >0.000000</td>\n",
       "    </tr>\n",
       "    <tr>\n",
       "      <td id=\"T_fa651_row4_col0\" class=\"data row4 col0\" >$C_2H_5OH$+$CH_3CN$</td>\n",
       "      <td id=\"T_fa651_row4_col1\" class=\"data row4 col1\" >0.000000</td>\n",
       "    </tr>\n",
       "  </tbody>\n",
       "</table>\n"
      ],
      "text/plain": [
       "<pandas.io.formats.style.Styler at 0x7efd9215c790>"
      ]
     },
     "metadata": {},
     "output_type": "display_data"
    },
    {
     "name": "stdout",
     "output_type": "stream",
     "text": [
      "-----------------------------------------------------\n"
     ]
    },
    {
     "name": "stderr",
     "output_type": "stream",
     "text": [
      "/tmp/ipykernel_58735/1398306016.py:52: FutureWarning: this method is deprecated in favour of `Styler.hide(axis='index')`\n",
      "  dfi.export(sorted_scoresDf.style.hide_index(), r\"RESULTS/results_figures/result_pure_df_\" + str(idx) + \".png\", table_conversion='matplotlib',dpi=150)\n"
     ]
    }
   ],
   "source": [
    "\n",
    "\n",
    "exps = [\n",
    "       '1 comp/Methanol 1 Torr WDL 8.csv',\n",
    "       '1 comp/Formic Acid 1 Torr WDL 5 Notch Shift.csv',\n",
    "       '1 comp/Acetaldehyde 1 Torr WDL 6 Notch.csv',\n",
    "       \n",
    "       \n",
    "       '1 comp/1-Sweep CH3Cl 220-330-1 Torr.csv',\n",
    "       \n",
    "       '1 comp/1-Sweep 0p5 Torr-CH3CN.csv',]\n",
    "true_label=[112,248,0,80,64]\n",
    "\n",
    "exp_path = '../../data/Mixture_exp_data/'\n",
    "exp_filepath = '4 Comp-mix_ 67% CH3OH + 30% CH3CHO + 2% CH3Cl + 1% CH3CN/0.67 CH3OH + 0.3 CH3CHO + 0.02 CH3Cl + 0.01 CH3CN - v2.xlsx'\n",
    "\n",
    "\n",
    "def classify_exp(exp_path,exp_filepath,mixture_types,true_label, excel=True):\n",
    "    all_unique_labels= mixture_types\n",
    "    if excel:\n",
    "        df_exp1 = pd.read_excel(exp_path + exp_filepath)\n",
    "    else:\n",
    "        df_exp1 = pd.read_csv(exp_path + exp_filepath)\n",
    "\n",
    "\n",
    "    freq_exp1 = df_exp1[df_exp1.columns[0]].to_numpy()\n",
    "    abs_exp1 = df_exp1[df_exp1.columns[1]].to_numpy()\n",
    "    \n",
    "#     fft_filter(freq_exp1, abs_exp1, factor=75)\n",
    "\n",
    "    dfy_resampled= signal.resample(abs_exp1, len(m.frequencies))\n",
    "    dfx_resampled= signal.resample(freq_exp1, len(m.frequencies))\n",
    "    expanded_abs = np.expand_dims(np.expand_dims(dfy_resampled, axis=-1), axis=0)\n",
    "    pred_exp_label = np.argmax(model.predict(expanded_abs), axis=-1)[0]\n",
    "    \n",
    "    score_predictions = probability_model.predict(expanded_abs)\n",
    "    scoreDf = pd.DataFrame()\n",
    "    scoreDf['species'] = mixture_types\n",
    "#     scoreDf['Label'] = scoreDf.index\n",
    "    scoreDf['Species present'] = mixture_types\n",
    "    scoreDf.drop('species',axis=1, inplace=True)\n",
    "#     import pdb; pdb.set_trace()\n",
    "    scoreDf['Score'] = score_predictions[0]\n",
    "#     scoreDf.to_csv(r'RESULTS/exp_preds/' + 'exp' + str(idx) + '.csv')\n",
    "    \n",
    "    sorted_scoresDf = scoreDf.sort_values(by='Score', ascending=False).head(n=5)\n",
    "    \n",
    "#     print(score_predictions)\n",
    "    print('Experiment name: ',exp_filepath.split('/')[0])\n",
    "    print('File name: ',exp_filepath.split('/')[1])\n",
    "    print('predicted index ', pred_exp_label)\n",
    "    print('predicted label', mixture_types[pred_exp_label])\n",
    "    display(sorted_scoresDf.style.hide_index())\n",
    "    dfi.export(sorted_scoresDf.style.hide_index(), r\"RESULTS/results_figures/result_pure_df_\" + str(idx) + \".png\", table_conversion='matplotlib',dpi=150)\n",
    "    print('-----------------------------------------------------')\n",
    "    \n",
    "\n",
    "    return pred_exp_label\n",
    "idx = 0 \n",
    "for experiment in exps:\n",
    "    classify_exp(exp_path,experiment,mixture_types, true_label[0],excel=False)\n",
    "    \n",
    "    idx+=1"
   ]
  },
  {
   "cell_type": "code",
   "execution_count": null,
   "id": "a31b58d2",
   "metadata": {},
   "outputs": [],
   "source": []
  },
  {
   "cell_type": "code",
   "execution_count": null,
   "id": "876f856e",
   "metadata": {},
   "outputs": [],
   "source": []
  },
  {
   "cell_type": "code",
   "execution_count": 39,
   "id": "1394d0ea",
   "metadata": {},
   "outputs": [],
   "source": [
    "fig = plot_spectrum_with_scores(np.squeeze(x_val), y_val, predictions, m.frequencies,mixture_types, 19, dpi = 300)\n"
   ]
  }
 ],
 "metadata": {
  "kernelspec": {
   "display_name": "Python 3 (ipykernel)",
   "language": "python",
   "name": "python3"
  },
  "language_info": {
   "codemirror_mode": {
    "name": "ipython",
    "version": 3
   },
   "file_extension": ".py",
   "mimetype": "text/x-python",
   "name": "python",
   "nbconvert_exporter": "python",
   "pygments_lexer": "ipython3",
   "version": "3.8.8"
  }
 },
 "nbformat": 4,
 "nbformat_minor": 5
}
