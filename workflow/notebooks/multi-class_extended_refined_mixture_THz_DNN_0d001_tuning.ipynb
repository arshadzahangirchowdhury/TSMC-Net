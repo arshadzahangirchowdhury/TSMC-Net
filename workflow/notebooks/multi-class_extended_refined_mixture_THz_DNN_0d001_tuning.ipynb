{
 "cells": [
  {
   "cell_type": "markdown",
   "id": "9472f796",
   "metadata": {},
   "source": [
    "# A notebook to tine multi-label classification in keras tensorflow\n",
    "\n",
    "https://www.analyticsvidhya.com/blog/2017/08/introduction-to-multi-label-classification\n",
    "\n",
    "\n"
   ]
  },
  {
   "cell_type": "code",
   "execution_count": 1,
   "id": "4031617b",
   "metadata": {
    "scrolled": true
   },
   "outputs": [
    {
     "name": "stderr",
     "output_type": "stream",
     "text": [
      "2022-08-04 19:45:22.088445: I tensorflow/stream_executor/platform/default/dso_loader.cc:53] Successfully opened dynamic library libcudart.so.11.0\n",
      "2022-08-04 19:45:29.255644: I tensorflow/stream_executor/platform/default/dso_loader.cc:53] Successfully opened dynamic library libcuda.so.1\n",
      "2022-08-04 19:45:29.345576: I tensorflow/core/common_runtime/gpu/gpu_device.cc:1733] Found device 0 with properties: \n",
      "pciBusID: 0000:65:00.0 name: Quadro RTX 4000 computeCapability: 7.5\n",
      "coreClock: 1.545GHz coreCount: 36 deviceMemorySize: 7.79GiB deviceMemoryBandwidth: 387.49GiB/s\n",
      "2022-08-04 19:45:29.345661: I tensorflow/stream_executor/platform/default/dso_loader.cc:53] Successfully opened dynamic library libcudart.so.11.0\n",
      "2022-08-04 19:45:29.582796: I tensorflow/stream_executor/platform/default/dso_loader.cc:53] Successfully opened dynamic library libcublas.so.11\n",
      "2022-08-04 19:45:29.583009: I tensorflow/stream_executor/platform/default/dso_loader.cc:53] Successfully opened dynamic library libcublasLt.so.11\n",
      "2022-08-04 19:45:29.673525: I tensorflow/stream_executor/platform/default/dso_loader.cc:53] Successfully opened dynamic library libcufft.so.10\n",
      "2022-08-04 19:45:29.762274: I tensorflow/stream_executor/platform/default/dso_loader.cc:53] Successfully opened dynamic library libcurand.so.10\n",
      "2022-08-04 19:45:29.823527: I tensorflow/stream_executor/platform/default/dso_loader.cc:53] Successfully opened dynamic library libcusolver.so.11\n",
      "2022-08-04 19:45:29.908637: I tensorflow/stream_executor/platform/default/dso_loader.cc:53] Successfully opened dynamic library libcusparse.so.11\n",
      "2022-08-04 19:45:29.939964: I tensorflow/stream_executor/platform/default/dso_loader.cc:53] Successfully opened dynamic library libcudnn.so.8\n",
      "2022-08-04 19:45:29.952273: I tensorflow/core/common_runtime/gpu/gpu_device.cc:1871] Adding visible gpu devices: 0\n",
      "2022-08-04 19:45:29.964515: I tensorflow/core/platform/cpu_feature_guard.cc:142] This TensorFlow binary is optimized with oneAPI Deep Neural Network Library (oneDNN) to use the following CPU instructions in performance-critical operations:  AVX2 AVX512F FMA\n",
      "To enable them in other operations, rebuild TensorFlow with the appropriate compiler flags.\n",
      "2022-08-04 19:45:29.979524: I tensorflow/core/common_runtime/gpu/gpu_device.cc:1733] Found device 0 with properties: \n",
      "pciBusID: 0000:65:00.0 name: Quadro RTX 4000 computeCapability: 7.5\n",
      "coreClock: 1.545GHz coreCount: 36 deviceMemorySize: 7.79GiB deviceMemoryBandwidth: 387.49GiB/s\n",
      "2022-08-04 19:45:29.981093: I tensorflow/core/common_runtime/gpu/gpu_device.cc:1871] Adding visible gpu devices: 0\n",
      "2022-08-04 19:45:29.989882: I tensorflow/stream_executor/platform/default/dso_loader.cc:53] Successfully opened dynamic library libcudart.so.11.0\n",
      "2022-08-04 19:45:33.369282: I tensorflow/core/common_runtime/gpu/gpu_device.cc:1258] Device interconnect StreamExecutor with strength 1 edge matrix:\n",
      "2022-08-04 19:45:33.369341: I tensorflow/core/common_runtime/gpu/gpu_device.cc:1264]      0 \n",
      "2022-08-04 19:45:33.369349: I tensorflow/core/common_runtime/gpu/gpu_device.cc:1277] 0:   N \n",
      "2022-08-04 19:45:33.371203: I tensorflow/core/common_runtime/gpu/gpu_device.cc:1418] Created TensorFlow device (/job:localhost/replica:0/task:0/device:GPU:0 with 5433 MB memory) -> physical GPU (device: 0, name: Quadro RTX 4000, pci bus id: 0000:65:00.0, compute capability: 7.5)\n"
     ]
    }
   ],
   "source": [
    "%matplotlib inline \n",
    "import matplotlib as mpl\n",
    "import matplotlib.pyplot as plt\n",
    "from matplotlib.pyplot import figure\n",
    "from matplotlib.ticker import MaxNLocator\n",
    "import numpy as np\n",
    "from numpy import asarray\n",
    "import pandas as pd\n",
    "import math\n",
    "import seaborn as sns  #heat map\n",
    "import glob # batch processing of images\n",
    "\n",
    "\n",
    "import matplotlib.font_manager as fm\n",
    "import random\n",
    "import sys\n",
    "import os\n",
    "\n",
    "from sklearn.datasets import make_regression\n",
    "import tensorflow as tf\n",
    "from sklearn.metrics import confusion_matrix    #confusion matrix\n",
    "from tensorflow.keras.models import Sequential\n",
    "from tensorflow.keras.layers import Dense\n",
    "\n",
    "# Collect all the font names available to matplotlib\n",
    "font_names = [f.name for f in fm.fontManager.ttflist]\n",
    "# print(font_names)\n",
    "\n",
    "from scipy import signal\n",
    "from scipy import interpolate\n",
    "\n",
    "from sklearn.preprocessing import LabelBinarizer\n",
    "from sklearn.metrics import roc_curve \n",
    "from sklearn.metrics import auc\n",
    "from sklearn.metrics import roc_auc_score\n",
    "\n",
    "\n",
    "from sklearn.gaussian_process import GaussianProcessRegressor\n",
    "from sklearn.gaussian_process.kernels import DotProduct, WhiteKernel\n",
    "from sklearn.gaussian_process.kernels import RBF\n",
    "\n",
    "#Sklearn model saving and loading\n",
    "from joblib import dump, load\n",
    "\n",
    "if '../../' not in sys.path:\n",
    "    sys.path.append('../../')\n",
    "\n",
    "from aimos.spectral_datasets.THz_datasets import THz_data\n",
    "\n",
    "from aimos.misc.utils import simple_plotter\n",
    "\n",
    "\n",
    "#Set random seed\n",
    "os.environ['PYTHONHASHSEED'] = str(42)\n",
    "os.environ['TF_DETERMINISTIC_OPS'] = '1'\n",
    "tf.random.set_seed(42)  \n",
    "tf.random.get_global_generator().reset_from_seed(42)\n",
    "np.random.seed(42)\n",
    "random.seed(42)\n",
    "import pydot\n",
    "import graphviz\n"
   ]
  },
  {
   "cell_type": "code",
   "execution_count": 2,
   "id": "b4f6a2de",
   "metadata": {},
   "outputs": [],
   "source": [
    "from oneida import THz_mixture_data"
   ]
  },
  {
   "cell_type": "code",
   "execution_count": 3,
   "id": "4b69f7cd",
   "metadata": {},
   "outputs": [],
   "source": [
    "def concentrations_to_one_hot_encode(y):\n",
    "    '''\n",
    "    args:\n",
    "    y, a vector containing the concentration values for each component.\n",
    "    \n",
    "    return vector containing binary one hot encoding\n",
    "    '''\n",
    "    \n",
    "    \n",
    "    y_ohe = y\n",
    "    for i in range(y.shape[0]):\n",
    "\n",
    "        for j in range(y.shape[1]):\n",
    "            if y[i][j] > 0:\n",
    "                y_ohe[i][j]=1    \n",
    "                \n",
    "    return y_ohe"
   ]
  },
  {
   "cell_type": "code",
   "execution_count": 4,
   "id": "7d2061f8",
   "metadata": {},
   "outputs": [],
   "source": [
    "def create_mixture_names(ohe_label,n_mixture_component_max,reduced_labels):\n",
    "    \n",
    "    '''\n",
    "    args:\n",
    "    ohe_label: a one-hot encoded label corresponding to a mixture with components in it contain.\n",
    "    n_mixture_component_max: maximum number of pure components in the mixture.\n",
    "    reduced_labels: label list containing the names of only the pure mixtures.\n",
    "    \n",
    "    \n",
    "    '''\n",
    "    \n",
    "    \n",
    "    capture_labels=[]\n",
    "    for _ in range(n_mixture_component_max):\n",
    "        if ohe_label[_]==1:\n",
    "            capture_labels.append(reduced_labels[_])\n",
    "        \n",
    "        \n",
    "    mixture_name_label=\"\"\n",
    "    for i in capture_labels:\n",
    "        mixture_name_label+= i +\"+\"\n",
    "\n",
    "    \n",
    "    \n",
    "    \n",
    "    return mixture_name_label.strip(mixture_name_label[-1])"
   ]
  },
  {
   "cell_type": "code",
   "execution_count": 5,
   "id": "eec84430",
   "metadata": {},
   "outputs": [],
   "source": [
    "import operator as op\n",
    "from functools import reduce\n",
    "\n",
    "def ncr(n, r):\n",
    "    r = min(r, n-r)\n",
    "    numer = reduce(op.mul, range(n, n-r, -1), 1)\n",
    "    denom = reduce(op.mul, range(1, r+1), 1)\n",
    "    return numer // denom  # or / in Python 2"
   ]
  },
  {
   "cell_type": "code",
   "execution_count": 6,
   "id": "02cc2173",
   "metadata": {},
   "outputs": [],
   "source": [
    "def grad_cam(layer_name, data, model):\n",
    "    grad_model = tf.keras.models.Model(\n",
    "        [model.inputs], [model.get_layer(layer_name).output, model.output]\n",
    "    )\n",
    "    last_conv_layer_output, preds = grad_model(data)\n",
    "\n",
    "    with tf.GradientTape() as tape:\n",
    "        last_conv_layer_output, preds = grad_model(data)\n",
    "        pred_index = tf.argmax(preds[0])\n",
    "        class_channel = preds[:, pred_index]\n",
    "\n",
    "    grads = tape.gradient(class_channel, last_conv_layer_output)\n",
    "\n",
    "    pooled_grads = tf.reduce_mean(grads, axis=(0))\n",
    "\n",
    "    last_conv_layer_output = last_conv_layer_output[0]\n",
    "\n",
    "    heatmap = last_conv_layer_output * pooled_grads\n",
    "    heatmap = tf.reduce_mean(heatmap, axis=(1))\n",
    "    heatmap = np.expand_dims(heatmap,0)\n",
    "    return heatmap\n",
    "\n",
    "# layer_name = \"C3\"\n",
    "\n",
    "# font = {'family': 'serif',\n",
    "#         'color':  'black',\n",
    "#         'weight': 'bold',\n",
    "#         'size': 16,\n",
    "#         }\n",
    "\n",
    "\n",
    "# count = 0\n",
    "# for i,j in zip(Xexp,yexp):\n",
    "    \n",
    "#     data = np.expand_dims(i,0)\n",
    "#     heatmap = grad_cam(layer_name,data)\n",
    "\n",
    "#     fig = plt.figure(figsize=(30,4),dpi=300)\n",
    "#     plt.imshow(np.expand_dims(heatmap,axis=2),cmap='YlGnBu', aspect=\"auto\", interpolation='nearest',extent=[0,229,i.min(),i.max()], alpha=0.8)\n",
    "    \n",
    "#     ticklist = range(0,229)\n",
    "#     plt.xticks(ticklist[::30], np.round(s.frequencies.tolist()[::30], decimals=1) ) # tick every 40th frequency\n",
    "#     plt.plot(i,'k')\n",
    "#     plt.title(f'{s.labels[j]}', fontdict=font)\n",
    "#     plt.colorbar()\n",
    "#     plt.clim(np.min(heatmap),np.max(heatmap))\n",
    "    \n",
    "#     plt.show()\n",
    "    \n",
    "#     fig.savefig(r'RESULTS/class_activation_maps/CAM_exp' + str(count) + '.png', bbox_inches='tight')\n",
    "#     count = count + 1"
   ]
  },
  {
   "cell_type": "markdown",
   "id": "b47e9f5e",
   "metadata": {},
   "source": [
    "# Create controlled test mixtures"
   ]
  },
  {
   "cell_type": "code",
   "execution_count": 7,
   "id": "f4fd26ba",
   "metadata": {},
   "outputs": [
    {
     "name": "stdout",
     "output_type": "stream",
     "text": [
      "Components :  [[0 1 2 3 4 5]]\n",
      "Components shape :  (1, 6)\n"
     ]
    }
   ],
   "source": [
    "m = THz_mixture_data(resolution=0.001, pressure='1 Torr', verbosity=False)\n",
    "m.initiate_THz_mixture_data()"
   ]
  },
  {
   "cell_type": "code",
   "execution_count": 8,
   "id": "f98982fb",
   "metadata": {},
   "outputs": [
    {
     "name": "stdout",
     "output_type": "stream",
     "text": [
      "['$CH_3CHO$', '$CH_3Cl$', '$CH_3CN$', '$CH_3OH$', '$HNO_3$']\n"
     ]
    }
   ],
   "source": [
    "reduced_labels = m.labels\n",
    "reduced_labels.remove('')\n",
    "reduced_labels.remove(' ')\n",
    "reduced_labels.remove('Diluent')\n",
    "print(reduced_labels)\n"
   ]
  },
  {
   "cell_type": "code",
   "execution_count": 9,
   "id": "9325b44c",
   "metadata": {
    "scrolled": false
   },
   "outputs": [
    {
     "name": "stdout",
     "output_type": "stream",
     "text": [
      "\n",
      " ...generating 1-component mixtures data...\n",
      "\n",
      "\n",
      " ...generating 2-component mixtures data...\n",
      "\n",
      "\n",
      " ...generating 3-component mixtures data...\n",
      "\n",
      "\n",
      " ...generating 4-component mixtures data...\n",
      "\n",
      "\n",
      " ...generating 5-component mixtures data...\n",
      "\n",
      "Time elasped: 669.0930000000001\n",
      "Total number of test mixtures :  25000\n",
      "\n",
      "Combined test simulated mixtures\n",
      "\n",
      "No. of test mixtures:  25000\n",
      "test_targets data type:  object\n",
      "test_targets data shape:  (25000, 5)\n",
      "Time elaspsed:  20478.662\n",
      "numpy random state:  804035397\n",
      "test_mixtures data type:  object\n",
      "test_mixtures shape:  (24977, 1, 3670)\n",
      "test_targets data type:  object\n",
      "test_targets shape:  (24977, 5)\n",
      "Adjusted n_test_mixtures:  24977\n",
      "Total spectra with weak components in testing dataset: (77,)\n",
      "test_mixtures data type:  object\n",
      "test_mixtures shape:  (24900, 5)\n",
      "test_targets data type:  object\n",
      "test_targets shape:  (24900, 5)\n",
      "Adjusted n_test_mixtures after removing spectra with weak components:  24900\n"
     ]
    }
   ],
   "source": [
    "# m.make_controlled_test_mixtures(equal_amount = 10000, tweleve_component_amount=10000,\n",
    "#                                 abs_threshold=0.001, test_Species_Abs_Threshold=0.0001,\n",
    "#                                 save_to_file = False)\n",
    "\n",
    "\n",
    "#TO-do fix error when there is no indices to remove\n",
    "# 200000\n",
    "m.make_controlled_test_mixtures(equal_amount = 5000,\n",
    "                                abs_threshold=0.001, test_Species_Abs_Threshold=0.0001,\n",
    "                                save_to_file = False)"
   ]
  },
  {
   "cell_type": "code",
   "execution_count": 10,
   "id": "e45c708e",
   "metadata": {},
   "outputs": [
    {
     "name": "stdout",
     "output_type": "stream",
     "text": [
      "31\n"
     ]
    }
   ],
   "source": [
    "n_compounds = m.n_compounds\n",
    "unique_mixture_numbers = ncr(n_compounds,1) + ncr(n_compounds,2) + ncr(n_compounds,3) + ncr(n_compounds,4) + ncr(n_compounds,5) \n",
    "# unique_mixture_numbers = ncr(n_compounds,1) + ncr(n_compounds,2) + ncr(n_compounds,3) + ncr(n_compounds,4) + ncr(n_compounds,5) + ncr(n_compounds,6) + ncr(n_compounds,7) +ncr(n_compounds,8) + ncr(n_compounds,9) + ncr(n_compounds,10) + ncr(n_compounds,11) + ncr(n_compounds,12)\n",
    "print(unique_mixture_numbers)"
   ]
  },
  {
   "cell_type": "markdown",
   "id": "3456b433",
   "metadata": {},
   "source": [
    "# view attributes of the controlled test mixtures data"
   ]
  },
  {
   "cell_type": "code",
   "execution_count": 11,
   "id": "a2809ed4",
   "metadata": {},
   "outputs": [
    {
     "name": "stdout",
     "output_type": "stream",
     "text": [
      "number of test mixtures:  24900\n",
      "test mixtures shape:  (24900, 3670)\n",
      "test targets shape:  (24900, 5)\n",
      "test dilutions shape:  (25000,)\n",
      "resolution:  0.001\n",
      "frequencies in the data [ 7.331  7.332  7.333 ... 10.998 10.999 11.   ]\n",
      "pressure:  1 Torr\n",
      "labels:  ['$CH_3CHO$', '$CH_3Cl$', '$CH_3CN$', '$CH_3OH$', '$HNO_3$']\n",
      "label_id:  [ 0  1  2  3  4  5  6  7  8  9 10 11]\n",
      "number of features:  3670\n",
      "no. of compounds:  5\n",
      "no. of spectrum per compound in pure THz data:  164\n",
      "no. of spectra in pure THz data:  1968\n",
      "number ot maximum mixture components:  5\n",
      "integer indices for each of the mixture components [[0 1 2 3 4 5]]\n"
     ]
    }
   ],
   "source": [
    "print('number of test mixtures: ',m.n_test_mixtures)\n",
    "print('test mixtures shape: ',m.test_mixtures.shape)\n",
    "print('test targets shape: ',m.test_targets.shape)\n",
    "print('test dilutions shape: ',m.test_dilution.shape)\n",
    "\n",
    "print('resolution: ',m.resolution)\n",
    "print('frequencies in the data', m.frequencies)\n",
    "\n",
    "print('pressure: ',m.pressure) \n",
    "print('labels: ',m.labels) \n",
    "print('label_id: ',m.label_id) \n",
    "\n",
    "print('number of features: ',m.n_features) \n",
    "print('no. of compounds: ',m.n_compounds)\n",
    "print('no. of spectrum per compound in pure THz data: ' ,m.n_spectrum)\n",
    "print('no. of spectra in pure THz data: ',m.n_spectra) \n",
    "\n",
    "print('number ot maximum mixture components: ',m.n_mixture_component_max)\n",
    "print('integer indices for each of the mixture components',m.components)\n"
   ]
  },
  {
   "cell_type": "markdown",
   "id": "b6b6c646",
   "metadata": {},
   "source": [
    "# assign controlled test mixtures data"
   ]
  },
  {
   "cell_type": "code",
   "execution_count": 12,
   "id": "ce39ad49",
   "metadata": {},
   "outputs": [
    {
     "name": "stdout",
     "output_type": "stream",
     "text": [
      "X shape: (24900, 3670)\n",
      "y_concentrations shape: (24900, 5)\n",
      "X dtype: object\n",
      "y_concentrations dtype: object\n",
      "After data type conversion\n",
      "X dtype: float64\n",
      "y_concentrations dtype: float64\n"
     ]
    },
    {
     "name": "stderr",
     "output_type": "stream",
     "text": [
      "/tmp/ipykernel_5427/1008626817.py:11: DeprecationWarning: `np.float` is a deprecated alias for the builtin `float`. To silence this warning, use `float` by itself. Doing this will not modify any behavior and is safe. If you specifically wanted the numpy scalar type, use `np.float64` here.\n",
      "Deprecated in NumPy 1.20; for more details and guidance: https://numpy.org/devdocs/release/1.20.0-notes.html#deprecations\n",
      "  X=X.astype(np.float)\n",
      "/tmp/ipykernel_5427/1008626817.py:12: DeprecationWarning: `np.float` is a deprecated alias for the builtin `float`. To silence this warning, use `float` by itself. Doing this will not modify any behavior and is safe. If you specifically wanted the numpy scalar type, use `np.float64` here.\n",
      "Deprecated in NumPy 1.20; for more details and guidance: https://numpy.org/devdocs/release/1.20.0-notes.html#deprecations\n",
      "  y_concentrations=y_concentrations.astype(np.float)\n"
     ]
    }
   ],
   "source": [
    "X=m.test_mixtures\n",
    "\n",
    "y_concentrations=m.test_targets\n",
    "\n",
    "print('X shape:', X.shape)\n",
    "print('y_concentrations shape:', y_concentrations.shape)\n",
    "\n",
    "print('X dtype:', X.dtype)\n",
    "print('y_concentrations dtype:', y_concentrations.dtype)\n",
    "\n",
    "X=X.astype(np.float)\n",
    "y_concentrations=y_concentrations.astype(np.float)\n",
    "\n",
    "print('After data type conversion')\n",
    "print('X dtype:', X.dtype)\n",
    "print('y_concentrations dtype:', y_concentrations.dtype)"
   ]
  },
  {
   "cell_type": "code",
   "execution_count": 13,
   "id": "896d5dcf",
   "metadata": {},
   "outputs": [],
   "source": [
    "y_ohe = concentrations_to_one_hot_encode(y_concentrations)"
   ]
  },
  {
   "cell_type": "code",
   "execution_count": 14,
   "id": "6fd916e0",
   "metadata": {},
   "outputs": [],
   "source": [
    "# create_mixture_names(y_ohe[200],m.n_mixture_component_max,reduced_labels)\n",
    "\n",
    "mixture_names= []\n",
    "for _ in range(y_ohe.shape[0]):\n",
    "    mixture_names.append(create_mixture_names(y_ohe[_],m.n_mixture_component_max,reduced_labels))\n",
    "\n",
    "    \n",
    "# for _ in range(y_ohe.shape[0]):\n",
    "#     print(mixture_names[_])"
   ]
  },
  {
   "cell_type": "code",
   "execution_count": 15,
   "id": "7cad7a3a",
   "metadata": {},
   "outputs": [],
   "source": [
    "# mixture_names"
   ]
  },
  {
   "cell_type": "code",
   "execution_count": 16,
   "id": "deadd18e",
   "metadata": {},
   "outputs": [
    {
     "name": "stdout",
     "output_type": "stream",
     "text": [
      "['$CH_3CHO$' '$CH_3CHO$+$CH_3CN$' '$CH_3CHO$+$CH_3CN$+$CH_3OH$'\n",
      " '$CH_3CHO$+$CH_3CN$+$CH_3OH$+$HNO_3$' '$CH_3CHO$+$CH_3CN$+$HNO_3$'\n",
      " '$CH_3CHO$+$CH_3Cl$' '$CH_3CHO$+$CH_3Cl$+$CH_3CN$'\n",
      " '$CH_3CHO$+$CH_3Cl$+$CH_3CN$+$CH_3OH$'\n",
      " '$CH_3CHO$+$CH_3Cl$+$CH_3CN$+$CH_3OH$+$HNO_3$'\n",
      " '$CH_3CHO$+$CH_3Cl$+$CH_3CN$+$HNO_3$' '$CH_3CHO$+$CH_3Cl$+$CH_3OH$'\n",
      " '$CH_3CHO$+$CH_3Cl$+$CH_3OH$+$HNO_3$' '$CH_3CHO$+$CH_3Cl$+$HNO_3$'\n",
      " '$CH_3CHO$+$CH_3OH$' '$CH_3CHO$+$CH_3OH$+$HNO_3$' '$CH_3CHO$+$HNO_3$'\n",
      " '$CH_3CN$' '$CH_3CN$+$CH_3OH$' '$CH_3CN$+$CH_3OH$+$HNO_3$'\n",
      " '$CH_3CN$+$HNO_3$' '$CH_3Cl$' '$CH_3Cl$+$CH_3CN$'\n",
      " '$CH_3Cl$+$CH_3CN$+$CH_3OH$' '$CH_3Cl$+$CH_3CN$+$CH_3OH$+$HNO_3$'\n",
      " '$CH_3Cl$+$CH_3CN$+$HNO_3$' '$CH_3Cl$+$CH_3OH$'\n",
      " '$CH_3Cl$+$CH_3OH$+$HNO_3$' '$CH_3Cl$+$HNO_3$' '$CH_3OH$'\n",
      " '$CH_3OH$+$HNO_3$' '$HNO_3$']\n"
     ]
    }
   ],
   "source": [
    "#encode mixture names as integer index\n",
    "\n",
    "from sklearn import preprocessing\n",
    "\n",
    "le = preprocessing.LabelEncoder()\n",
    "le.fit(mixture_names)\n",
    "y = le.transform(mixture_names)\n",
    "\n",
    "# le.inverse_transform(y)\n",
    "mixture_types=le.classes_\n",
    "print(mixture_types)"
   ]
  },
  {
   "cell_type": "code",
   "execution_count": 17,
   "id": "f1578fe3",
   "metadata": {},
   "outputs": [],
   "source": [
    "# for _ in range(y_ohe.shape[0]):\n",
    "#     print(mixture_names[_],integers[_])"
   ]
  },
  {
   "cell_type": "code",
   "execution_count": 18,
   "id": "32c35cc1",
   "metadata": {},
   "outputs": [
    {
     "data": {
      "text/plain": [
       "(24900,)"
      ]
     },
     "execution_count": 18,
     "metadata": {},
     "output_type": "execute_result"
    }
   ],
   "source": [
    "y.shape"
   ]
  },
  {
   "cell_type": "code",
   "execution_count": 19,
   "id": "d23c34a2",
   "metadata": {},
   "outputs": [
    {
     "name": "stdout",
     "output_type": "stream",
     "text": [
      "31\n"
     ]
    }
   ],
   "source": [
    "final_neuron_number = np.unique(y, axis=0).shape[0]\n",
    "print(final_neuron_number)"
   ]
  },
  {
   "cell_type": "markdown",
   "id": "cc09995e",
   "metadata": {},
   "source": [
    "# preview one test mixture spectra using simple plotter"
   ]
  },
  {
   "cell_type": "code",
   "execution_count": 20,
   "id": "1bfcb777",
   "metadata": {},
   "outputs": [],
   "source": [
    "# simple_plotter(m.frequencies,m.test_mixtures[0],linewidth=0.5,color='black',label='$test-mixture$', \n",
    "#                    majorsize=6,minorsize=2,width=1, labelsize=8,legendsize=3, legendloc=2,  \n",
    "#                    labelpad=4,fontsize='medium',fontweight='bold',\n",
    "#                   xmajormplloc=0.5,xminormplloc=0.2, tickdirection='out')"
   ]
  },
  {
   "cell_type": "code",
   "execution_count": 21,
   "id": "ce721731",
   "metadata": {},
   "outputs": [
    {
     "data": {
      "text/plain": [
       "(24900, 3670)"
      ]
     },
     "execution_count": 21,
     "metadata": {},
     "output_type": "execute_result"
    }
   ],
   "source": [
    "X.shape"
   ]
  },
  {
   "cell_type": "code",
   "execution_count": 22,
   "id": "7c90b97d",
   "metadata": {},
   "outputs": [
    {
     "data": {
      "image/png": "[encoded data removed]",
      "text/plain": [
       "<Figure size 432x288 with 1 Axes>"
      ]
     },
     "metadata": {
      "needs_background": "light"
     },
     "output_type": "display_data"
    }
   ],
   "source": [
    "#see distribution of counts of different types of mixtures.\n",
    "plt.barh(mixture_types,np.bincount(y))\n",
    "plt.xticks(rotation=90);\n",
    "plt.xticks(rotation=0);"
   ]
  },
  {
   "cell_type": "code",
   "execution_count": 23,
   "id": "357e26b4",
   "metadata": {},
   "outputs": [],
   "source": [
    "spectra_df = pd.DataFrame(X)\n",
    "spectra_df['y'] = y\n",
    "spectra_df['mixture_names'] = mixture_names"
   ]
  },
  {
   "cell_type": "code",
   "execution_count": 24,
   "id": "bc781644",
   "metadata": {},
   "outputs": [],
   "source": [
    "mixtures_df_list = []\n",
    "for label in mixture_types:\n",
    "    mixtures_df_list.append(spectra_df[spectra_df['mixture_names'] ==label] )"
   ]
  },
  {
   "cell_type": "code",
   "execution_count": 25,
   "id": "819b877f",
   "metadata": {},
   "outputs": [],
   "source": [
    "# 2000\n",
    "filtered_mixtures_df_list = []\n",
    "for df in mixtures_df_list:\n",
    "    filtered_mixtures_df_list.append(df.sample(n=300))\n",
    "\n",
    "filtered_spectra_df = pd.concat(filtered_mixtures_df_list)    "
   ]
  },
  {
   "cell_type": "code",
   "execution_count": 26,
   "id": "26b2f390",
   "metadata": {},
   "outputs": [
    {
     "data": {
      "text/html": [
       "<div>\n",
       "<style scoped>\n",
       "    .dataframe tbody tr th:only-of-type {\n",
       "        vertical-align: middle;\n",
       "    }\n",
       "\n",
       "    .dataframe tbody tr th {\n",
       "        vertical-align: top;\n",
       "    }\n",
       "\n",
       "    .dataframe thead th {\n",
       "        text-align: right;\n",
       "    }\n",
       "</style>\n",
       "<table border=\"1\" class=\"dataframe\">\n",
       "  <thead>\n",
       "    <tr style=\"text-align: right;\">\n",
       "      <th></th>\n",
       "      <th>0</th>\n",
       "      <th>1</th>\n",
       "      <th>2</th>\n",
       "      <th>3</th>\n",
       "      <th>4</th>\n",
       "      <th>5</th>\n",
       "      <th>6</th>\n",
       "      <th>7</th>\n",
       "      <th>8</th>\n",
       "      <th>9</th>\n",
       "      <th>...</th>\n",
       "      <th>3662</th>\n",
       "      <th>3663</th>\n",
       "      <th>3664</th>\n",
       "      <th>3665</th>\n",
       "      <th>3666</th>\n",
       "      <th>3667</th>\n",
       "      <th>3668</th>\n",
       "      <th>3669</th>\n",
       "      <th>y</th>\n",
       "      <th>mixture_names</th>\n",
       "    </tr>\n",
       "  </thead>\n",
       "  <tbody>\n",
       "    <tr>\n",
       "      <th>221</th>\n",
       "      <td>0.006019</td>\n",
       "      <td>0.005470</td>\n",
       "      <td>0.004342</td>\n",
       "      <td>0.003278</td>\n",
       "      <td>0.002501</td>\n",
       "      <td>0.001985</td>\n",
       "      <td>0.001658</td>\n",
       "      <td>0.001474</td>\n",
       "      <td>0.001400</td>\n",
       "      <td>0.001428</td>\n",
       "      <td>...</td>\n",
       "      <td>0.040994</td>\n",
       "      <td>0.035504</td>\n",
       "      <td>0.029645</td>\n",
       "      <td>0.025014</td>\n",
       "      <td>0.021801</td>\n",
       "      <td>0.019685</td>\n",
       "      <td>0.018030</td>\n",
       "      <td>0.016170</td>\n",
       "      <td>0</td>\n",
       "      <td>$CH_3CHO$</td>\n",
       "    </tr>\n",
       "    <tr>\n",
       "      <th>2635</th>\n",
       "      <td>0.009416</td>\n",
       "      <td>0.008558</td>\n",
       "      <td>0.006792</td>\n",
       "      <td>0.005128</td>\n",
       "      <td>0.003912</td>\n",
       "      <td>0.003105</td>\n",
       "      <td>0.002594</td>\n",
       "      <td>0.002305</td>\n",
       "      <td>0.002190</td>\n",
       "      <td>0.002234</td>\n",
       "      <td>...</td>\n",
       "      <td>0.064128</td>\n",
       "      <td>0.055540</td>\n",
       "      <td>0.046374</td>\n",
       "      <td>0.039130</td>\n",
       "      <td>0.034104</td>\n",
       "      <td>0.030793</td>\n",
       "      <td>0.028205</td>\n",
       "      <td>0.025295</td>\n",
       "      <td>0</td>\n",
       "      <td>$CH_3CHO$</td>\n",
       "    </tr>\n",
       "    <tr>\n",
       "      <th>3294</th>\n",
       "      <td>0.019887</td>\n",
       "      <td>0.018074</td>\n",
       "      <td>0.014345</td>\n",
       "      <td>0.010831</td>\n",
       "      <td>0.008263</td>\n",
       "      <td>0.006557</td>\n",
       "      <td>0.005478</td>\n",
       "      <td>0.004868</td>\n",
       "      <td>0.004625</td>\n",
       "      <td>0.004719</td>\n",
       "      <td>...</td>\n",
       "      <td>0.135439</td>\n",
       "      <td>0.117300</td>\n",
       "      <td>0.097943</td>\n",
       "      <td>0.082643</td>\n",
       "      <td>0.072028</td>\n",
       "      <td>0.065035</td>\n",
       "      <td>0.059569</td>\n",
       "      <td>0.053423</td>\n",
       "      <td>0</td>\n",
       "      <td>$CH_3CHO$</td>\n",
       "    </tr>\n",
       "    <tr>\n",
       "      <th>4993</th>\n",
       "      <td>0.018793</td>\n",
       "      <td>0.017080</td>\n",
       "      <td>0.013556</td>\n",
       "      <td>0.010235</td>\n",
       "      <td>0.007808</td>\n",
       "      <td>0.006197</td>\n",
       "      <td>0.005177</td>\n",
       "      <td>0.004601</td>\n",
       "      <td>0.004371</td>\n",
       "      <td>0.004459</td>\n",
       "      <td>...</td>\n",
       "      <td>0.127991</td>\n",
       "      <td>0.110850</td>\n",
       "      <td>0.092557</td>\n",
       "      <td>0.078098</td>\n",
       "      <td>0.068067</td>\n",
       "      <td>0.061458</td>\n",
       "      <td>0.056293</td>\n",
       "      <td>0.050485</td>\n",
       "      <td>0</td>\n",
       "      <td>$CH_3CHO$</td>\n",
       "    </tr>\n",
       "    <tr>\n",
       "      <th>4144</th>\n",
       "      <td>0.020698</td>\n",
       "      <td>0.018811</td>\n",
       "      <td>0.014930</td>\n",
       "      <td>0.011273</td>\n",
       "      <td>0.008600</td>\n",
       "      <td>0.006825</td>\n",
       "      <td>0.005701</td>\n",
       "      <td>0.005067</td>\n",
       "      <td>0.004814</td>\n",
       "      <td>0.004911</td>\n",
       "      <td>...</td>\n",
       "      <td>0.140965</td>\n",
       "      <td>0.122086</td>\n",
       "      <td>0.101939</td>\n",
       "      <td>0.086015</td>\n",
       "      <td>0.074967</td>\n",
       "      <td>0.067688</td>\n",
       "      <td>0.061999</td>\n",
       "      <td>0.055603</td>\n",
       "      <td>0</td>\n",
       "      <td>$CH_3CHO$</td>\n",
       "    </tr>\n",
       "  </tbody>\n",
       "</table>\n",
       "<p>5 rows × 3672 columns</p>\n",
       "</div>"
      ],
      "text/plain": [
       "             0         1         2         3         4         5         6  \\\n",
       "221   0.006019  0.005470  0.004342  0.003278  0.002501  0.001985  0.001658   \n",
       "2635  0.009416  0.008558  0.006792  0.005128  0.003912  0.003105  0.002594   \n",
       "3294  0.019887  0.018074  0.014345  0.010831  0.008263  0.006557  0.005478   \n",
       "4993  0.018793  0.017080  0.013556  0.010235  0.007808  0.006197  0.005177   \n",
       "4144  0.020698  0.018811  0.014930  0.011273  0.008600  0.006825  0.005701   \n",
       "\n",
       "             7         8         9  ...      3662      3663      3664  \\\n",
       "221   0.001474  0.001400  0.001428  ...  0.040994  0.035504  0.029645   \n",
       "2635  0.002305  0.002190  0.002234  ...  0.064128  0.055540  0.046374   \n",
       "3294  0.004868  0.004625  0.004719  ...  0.135439  0.117300  0.097943   \n",
       "4993  0.004601  0.004371  0.004459  ...  0.127991  0.110850  0.092557   \n",
       "4144  0.005067  0.004814  0.004911  ...  0.140965  0.122086  0.101939   \n",
       "\n",
       "          3665      3666      3667      3668      3669  y  mixture_names  \n",
       "221   0.025014  0.021801  0.019685  0.018030  0.016170  0      $CH_3CHO$  \n",
       "2635  0.039130  0.034104  0.030793  0.028205  0.025295  0      $CH_3CHO$  \n",
       "3294  0.082643  0.072028  0.065035  0.059569  0.053423  0      $CH_3CHO$  \n",
       "4993  0.078098  0.068067  0.061458  0.056293  0.050485  0      $CH_3CHO$  \n",
       "4144  0.086015  0.074967  0.067688  0.061999  0.055603  0      $CH_3CHO$  \n",
       "\n",
       "[5 rows x 3672 columns]"
      ]
     },
     "execution_count": 26,
     "metadata": {},
     "output_type": "execute_result"
    }
   ],
   "source": [
    "filtered_spectra_df.head()"
   ]
  },
  {
   "cell_type": "code",
   "execution_count": 27,
   "id": "f39a2ee8",
   "metadata": {},
   "outputs": [],
   "source": [
    "# filtered_spectra_df[filtered_spectra_df['y']==0]"
   ]
  },
  {
   "cell_type": "code",
   "execution_count": 28,
   "id": "4293e9e2",
   "metadata": {},
   "outputs": [],
   "source": [
    "y_filtered = filtered_spectra_df['y'].to_numpy()\n",
    "mixture_names_filtered = filtered_spectra_df['mixture_names'].to_numpy()\n",
    "X_filtered = filtered_spectra_df.drop(['y', 'mixture_names'],axis=1).to_numpy()"
   ]
  },
  {
   "cell_type": "code",
   "execution_count": 29,
   "id": "1bba8f99",
   "metadata": {},
   "outputs": [],
   "source": [
    "y = y_filtered\n",
    "X= X_filtered\n",
    "mixture_names =  mixture_names_filtered"
   ]
  },
  {
   "cell_type": "code",
   "execution_count": 30,
   "id": "4da5e9cf",
   "metadata": {},
   "outputs": [
    {
     "data": {
      "image/png": "[encoded data removed]",
      "text/plain": [
       "<Figure size 432x288 with 1 Axes>"
      ]
     },
     "metadata": {
      "needs_background": "light"
     },
     "output_type": "display_data"
    }
   ],
   "source": [
    "#see distribution of counts of different types of mixtures.\n",
    "plt.barh(mixture_types,np.bincount(y))\n",
    "plt.xticks(rotation=90);\n",
    "plt.xticks(rotation=0);"
   ]
  },
  {
   "cell_type": "code",
   "execution_count": null,
   "id": "dc997c0f",
   "metadata": {},
   "outputs": [],
   "source": []
  },
  {
   "cell_type": "code",
   "execution_count": 31,
   "id": "f19f87ff",
   "metadata": {},
   "outputs": [
    {
     "name": "stdout",
     "output_type": "stream",
     "text": [
      "range(0, 9300)\n",
      "X_train shape: (2790, 3670, 1)\n",
      "y_ohe_train shape: (2790,)\n",
      "X_test shape: (6510, 3670, 1)\n",
      "y_ohe_test shape: (6510,)\n",
      "All: [3.22580645 3.22580645 3.22580645 3.22580645 3.22580645 3.22580645\n",
      " 3.22580645 3.22580645 3.22580645 3.22580645 3.22580645 3.22580645\n",
      " 3.22580645 3.22580645 3.22580645 3.22580645 3.22580645 3.22580645\n",
      " 3.22580645 3.22580645 3.22580645 3.22580645 3.22580645 3.22580645\n",
      " 3.22580645 3.22580645 3.22580645 3.22580645 3.22580645 3.22580645\n",
      " 3.22580645]\n",
      "Training: [3.22580645 3.22580645 3.22580645 3.22580645 3.22580645 3.22580645\n",
      " 3.22580645 3.22580645 3.22580645 3.22580645 3.22580645 3.22580645\n",
      " 3.22580645 3.22580645 3.22580645 3.22580645 3.22580645 3.22580645\n",
      " 3.22580645 3.22580645 3.22580645 3.22580645 3.22580645 3.22580645\n",
      " 3.22580645 3.22580645 3.22580645 3.22580645 3.22580645 3.22580645\n",
      " 3.22580645]\n",
      "Testing: [3.22580645 3.22580645 3.22580645 3.22580645 3.22580645 3.22580645\n",
      " 3.22580645 3.22580645 3.22580645 3.22580645 3.22580645 3.22580645\n",
      " 3.22580645 3.22580645 3.22580645 3.22580645 3.22580645 3.22580645\n",
      " 3.22580645 3.22580645 3.22580645 3.22580645 3.22580645 3.22580645\n",
      " 3.22580645 3.22580645 3.22580645 3.22580645 3.22580645 3.22580645\n",
      " 3.22580645]\n"
     ]
    }
   ],
   "source": [
    "#split intro train and test set\n",
    "\n",
    "#seeds used 123,237, 786\n",
    "from sklearn.model_selection import train_test_split\n",
    "\n",
    "global_indices=range(0, X.shape[0])\n",
    "print(global_indices)\n",
    "\n",
    "# (np.expand_dims(X,-1)\n",
    "TRAIN_SIZE=0.30\n",
    "TEST_SIZE=1-TRAIN_SIZE\n",
    "\n",
    "x_train, x_test, y_train, y_test, train_indices, test_indices = train_test_split(np.expand_dims(X, axis=-1), y, global_indices, train_size=TRAIN_SIZE,\n",
    "                                                   test_size=TEST_SIZE,\n",
    "                                                   random_state=786,\n",
    "                                                    stratify=y\n",
    "\n",
    "                                                   )\n",
    "\n",
    "print('X_train shape:', x_train.shape)\n",
    "print('y_ohe_train shape:', y_train.shape)\n",
    "\n",
    "print('X_test shape:', x_test.shape)\n",
    "print('y_ohe_test shape:', y_test.shape)\n",
    "\n",
    "\n",
    "print(\"All:\", np.bincount(y) / float(len(y))*100  )\n",
    "print(\"Training:\", np.bincount(y_train) / float(len(y_train))*100  )\n",
    "print(\"Testing:\", np.bincount(y_test) / float(len(y_test))*100  )\n"
   ]
  },
  {
   "cell_type": "code",
   "execution_count": 54,
   "id": "ae275378",
   "metadata": {},
   "outputs": [],
   "source": [
    "def mixture_model(hp):\n",
    "\n",
    "    model = models.Sequential()\n",
    "    \n",
    "#     hp_filters= hp.Int('filters', min_value=2, max_value=4, step=1)\n",
    "#     hp_kernel_size= hp.Int('kernel_size', min_value=10, max_value=60, step=20)\n",
    "#     hp_pool_size=hp.Int('pool_size', min_value=20, max_value=60, step=20)\n",
    "#     hp_stride_size=hp.Int('stride_size', min_value=2, max_value=3, step=1)\n",
    "#     hp_units= hp.Int('units', min_value=24, max_value=48, step=6)\n",
    "    \n",
    "    hp_filters= 3\n",
    "    hp_kernel_size= hp.Int('kernel_size', min_value=10, max_value=60, step=20)\n",
    "    hp_pool_size=hp.Int('pool_size', min_value=20, max_value=60, step=20)\n",
    "    hp_stride_size=hp.Int('stride_size', min_value=2, max_value=3, step=1)\n",
    "    hp_units= hp.Int('units', min_value=24, max_value=48, step=6)\n",
    "#     hp_dropout = hp.Choice('dropout', values=[0.3, 0.5, 0.7])\n",
    "    hp_learning_rate = hp.Choice('learning_rate', values=[1e-2, 1e-3, 1e-4])\n",
    "\n",
    "    model = models.Sequential()\n",
    "\n",
    "    # C1 Convolutional Layer\n",
    "    model.add(layers.Conv1D(filters = hp_filters , kernel_size=hp_kernel_size, activation='relu', input_shape=(3670, 1), name = 'C1') )\n",
    "\n",
    "    # S2 Subsampling Layer\n",
    "    model.add(layers.AveragePooling1D(pool_size = hp_pool_size, strides = hp_stride_size, padding = 'valid', name = 'S2'))\n",
    "    \n",
    "    # C3 Convolutional Layer\n",
    "    model.add(layers.Conv1D(filters = hp_filters , kernel_size=hp_kernel_size, activation='relu', name = 'C3') )\n",
    "    \n",
    "    # S4 Subsampling Layer\n",
    "    model.add(layers.AveragePooling1D(pool_size = hp_pool_size, strides = hp_stride_size, padding = 'valid', name = 'S4'))\n",
    "    \n",
    "    # C5 Convolutional Layer\n",
    "    model.add(layers.Conv1D(filters = hp_filters , kernel_size=hp_kernel_size, activation='relu', name = 'C5') )\n",
    "    \n",
    "    # S6 Subsampling Layer\n",
    "    model.add(layers.AveragePooling1D(pool_size = hp_pool_size, strides = hp_stride_size, padding = 'valid', name = 'S6'))\n",
    "    \n",
    "    # C7 Convolutional Layer\n",
    "    model.add(layers.Conv1D(filters = hp_filters , kernel_size=hp_kernel_size, activation='relu', name = 'C7') )\n",
    "    \n",
    "#\n",
    "\n",
    "    # Flatten the CNN output to feed it with fully connected layers\n",
    "    model.add(layers.Flatten())\n",
    "    \n",
    "    model.add(layers.Dense(hp_units, activation='relu')) \n",
    "    model.add(layers.Dropout(0.5))\n",
    "    model.add(layers.Dense(31))  # number of dense layer would be equal to number of classess\n",
    "    \n",
    "\n",
    "    \n",
    "\n",
    "    model.compile(optimizer=tf.keras.optimizers.Adam(learning_rate=hp_learning_rate),\n",
    "            loss=tf.keras.losses.SparseCategoricalCrossentropy(from_logits=True),\n",
    "                 metrics=[\n",
    "              tf.keras.losses.SparseCategoricalCrossentropy(\n",
    "                  from_logits=True, name='SparseCatCrossentropy'),\n",
    "              'accuracy'])\n",
    "    \n",
    "    model.summary()\n",
    "    \n",
    "    return model"
   ]
  },
  {
   "cell_type": "code",
   "execution_count": 55,
   "id": "34a1e855",
   "metadata": {},
   "outputs": [
    {
     "name": "stdout",
     "output_type": "stream",
     "text": [
      "INFO:tensorflow:Reloading Oracle from existing project keras_hp_tuner/mixture_model/oracle.json\n",
      "Model: \"sequential_3\"\n",
      "_________________________________________________________________\n",
      "Layer (type)                 Output Shape              Param #   \n",
      "=================================================================\n",
      "C1 (Conv1D)                  (None, 3661, 3)           33        \n",
      "_________________________________________________________________\n",
      "S2 (AveragePooling1D)        (None, 1821, 3)           0         \n",
      "_________________________________________________________________\n",
      "C3 (Conv1D)                  (None, 1812, 3)           93        \n",
      "_________________________________________________________________\n",
      "S4 (AveragePooling1D)        (None, 897, 3)            0         \n",
      "_________________________________________________________________\n",
      "C5 (Conv1D)                  (None, 888, 3)            93        \n",
      "_________________________________________________________________\n",
      "S6 (AveragePooling1D)        (None, 435, 3)            0         \n",
      "_________________________________________________________________\n",
      "C7 (Conv1D)                  (None, 426, 3)            93        \n",
      "_________________________________________________________________\n",
      "flatten (Flatten)            (None, 1278)              0         \n",
      "_________________________________________________________________\n",
      "dense (Dense)                (None, 24)                30696     \n",
      "_________________________________________________________________\n",
      "dropout (Dropout)            (None, 24)                0         \n",
      "_________________________________________________________________\n",
      "dense_1 (Dense)              (None, 31)                775       \n",
      "=================================================================\n",
      "Total params: 31,783\n",
      "Trainable params: 31,783\n",
      "Non-trainable params: 0\n",
      "_________________________________________________________________\n",
      "INFO:tensorflow:Reloading Tuner from keras_hp_tuner/mixture_model/tuner0.json\n"
     ]
    }
   ],
   "source": [
    "from tensorflow.keras import layers\n",
    "from tensorflow.keras import models\n",
    "from tensorflow.keras import regularizers\n",
    "\n",
    "import tensorflow_docs.plots\n",
    "import tensorflow_docs as tfdocs\n",
    "import tensorflow_docs.modeling\n",
    "\n",
    "\n",
    "\n",
    "import pathlib\n",
    "import shutil\n",
    "import tempfile\n",
    "from tensorflow import keras\n",
    "import keras_tuner as kt\n",
    "tuner = kt.Hyperband(mixture_model,\n",
    "                     objective='accuracy',\n",
    "                     max_epochs=10,\n",
    "                     factor=3,\n",
    "                     directory='keras_hp_tuner',\n",
    "                     project_name='mixture_model')"
   ]
  },
  {
   "cell_type": "code",
   "execution_count": 56,
   "id": "8ce24bc0",
   "metadata": {},
   "outputs": [],
   "source": [
    "stop_early = tf.keras.callbacks.EarlyStopping(monitor='SparseCatCrossentropy', patience=5)"
   ]
  },
  {
   "cell_type": "code",
   "execution_count": null,
   "id": "ac27f404",
   "metadata": {},
   "outputs": [],
   "source": []
  },
  {
   "cell_type": "code",
   "execution_count": 57,
   "id": "832cc562",
   "metadata": {
    "scrolled": false
   },
   "outputs": [
    {
     "name": "stdout",
     "output_type": "stream",
     "text": [
      "\n",
      "Search: Running Trial #10\n",
      "\n",
      "Value             |Best Value So Far |Hyperparameter\n",
      "6                 |8                 |filters\n",
      "70                |70                |kernel_size\n",
      "80                |40                |pool_size\n",
      "3                 |2                 |stride_size\n",
      "24                |36                |units\n",
      "0.001             |0.001             |learning_rate\n",
      "2                 |2                 |tuner/epochs\n",
      "0                 |0                 |tuner/initial_epoch\n",
      "2                 |2                 |tuner/bracket\n",
      "0                 |0                 |tuner/round\n",
      "\n"
     ]
    },
    {
     "name": "stderr",
     "output_type": "stream",
     "text": [
      "Traceback (most recent call last):\n",
      "  File \"/home/reshad812/anaconda3/lib/python3.8/site-packages/tensorflow/python/framework/ops.py\", line 1880, in _create_c_op\n",
      "    c_op = pywrap_tf_session.TF_FinishOperation(op_desc)\n",
      "tensorflow.python.framework.errors_impl.InvalidArgumentError: Negative dimension size caused by subtracting 70 from 65 for '{{node C7/conv1d}} = Conv2D[T=DT_FLOAT, data_format=\"NHWC\", dilations=[1, 1, 1, 1], explicit_paddings=[], padding=\"VALID\", strides=[1, 1, 1, 1], use_cudnn_on_gpu=true](C7/conv1d/ExpandDims, C7/conv1d/ExpandDims_1)' with input shapes: [?,1,65,3], [1,70,3,3].\n",
      "\n",
      "During handling of the above exception, another exception occurred:\n",
      "\n",
      "Traceback (most recent call last):\n",
      "  File \"/home/reshad812/anaconda3/lib/python3.8/site-packages/keras_tuner/engine/tuner.py\", line 158, in _try_build\n",
      "    model = self._build_hypermodel(hp)\n",
      "  File \"/home/reshad812/anaconda3/lib/python3.8/site-packages/keras_tuner/engine/tuner.py\", line 146, in _build_hypermodel\n",
      "    model = self.hypermodel.build(hp)\n",
      "  File \"/tmp/ipykernel_5427/3913334019.py\", line 40, in mixture_model\n",
      "    model.add(layers.Conv1D(filters = hp_filters , kernel_size=hp_kernel_size, activation='relu', name = 'C7') )\n",
      "  File \"/home/reshad812/anaconda3/lib/python3.8/site-packages/tensorflow/python/training/tracking/base.py\", line 522, in _method_wrapper\n",
      "    result = method(self, *args, **kwargs)\n",
      "  File \"/home/reshad812/anaconda3/lib/python3.8/site-packages/tensorflow/python/keras/engine/sequential.py\", line 228, in add\n",
      "    output_tensor = layer(self.outputs[0])\n",
      "  File \"/home/reshad812/anaconda3/lib/python3.8/site-packages/tensorflow/python/keras/engine/base_layer.py\", line 969, in __call__\n",
      "    return self._functional_construction_call(inputs, args, kwargs,\n",
      "  File \"/home/reshad812/anaconda3/lib/python3.8/site-packages/tensorflow/python/keras/engine/base_layer.py\", line 1107, in _functional_construction_call\n",
      "    outputs = self._keras_tensor_symbolic_call(\n",
      "  File \"/home/reshad812/anaconda3/lib/python3.8/site-packages/tensorflow/python/keras/engine/base_layer.py\", line 840, in _keras_tensor_symbolic_call\n",
      "    return self._infer_output_signature(inputs, args, kwargs, input_masks)\n",
      "  File \"/home/reshad812/anaconda3/lib/python3.8/site-packages/tensorflow/python/keras/engine/base_layer.py\", line 880, in _infer_output_signature\n",
      "    outputs = call_fn(inputs, *args, **kwargs)\n",
      "  File \"/home/reshad812/anaconda3/lib/python3.8/site-packages/tensorflow/python/keras/layers/convolutional.py\", line 249, in call\n",
      "    outputs = self._convolution_op(inputs, self.kernel)\n",
      "  File \"/home/reshad812/anaconda3/lib/python3.8/site-packages/tensorflow/python/util/dispatch.py\", line 206, in wrapper\n",
      "    return target(*args, **kwargs)\n",
      "  File \"/home/reshad812/anaconda3/lib/python3.8/site-packages/tensorflow/python/ops/nn_ops.py\", line 1012, in convolution_v2\n",
      "    return convolution_internal(\n",
      "  File \"/home/reshad812/anaconda3/lib/python3.8/site-packages/tensorflow/python/ops/nn_ops.py\", line 1142, in convolution_internal\n",
      "    return op(\n",
      "  File \"/home/reshad812/anaconda3/lib/python3.8/site-packages/tensorflow/python/util/dispatch.py\", line 206, in wrapper\n",
      "    return target(*args, **kwargs)\n",
      "  File \"/home/reshad812/anaconda3/lib/python3.8/site-packages/tensorflow/python/util/deprecation.py\", line 602, in new_func\n",
      "    return func(*args, **kwargs)\n",
      "  File \"/home/reshad812/anaconda3/lib/python3.8/site-packages/tensorflow/python/util/deprecation.py\", line 602, in new_func\n",
      "    return func(*args, **kwargs)\n",
      "  File \"/home/reshad812/anaconda3/lib/python3.8/site-packages/tensorflow/python/ops/nn_ops.py\", line 1884, in conv1d\n",
      "    result = gen_nn_ops.conv2d(\n",
      "  File \"/home/reshad812/anaconda3/lib/python3.8/site-packages/tensorflow/python/ops/gen_nn_ops.py\", line 969, in conv2d\n",
      "    _, _, _op, _outputs = _op_def_library._apply_op_helper(\n",
      "  File \"/home/reshad812/anaconda3/lib/python3.8/site-packages/tensorflow/python/framework/op_def_library.py\", line 748, in _apply_op_helper\n",
      "    op = g._create_op_internal(op_type_name, inputs, dtypes=None,\n",
      "  File \"/home/reshad812/anaconda3/lib/python3.8/site-packages/tensorflow/python/framework/func_graph.py\", line 599, in _create_op_internal\n",
      "    return super(FuncGraph, self)._create_op_internal(  # pylint: disable=protected-access\n",
      "  File \"/home/reshad812/anaconda3/lib/python3.8/site-packages/tensorflow/python/framework/ops.py\", line 3557, in _create_op_internal\n",
      "    ret = Operation(\n",
      "  File \"/home/reshad812/anaconda3/lib/python3.8/site-packages/tensorflow/python/framework/ops.py\", line 2041, in __init__\n",
      "    self._c_op = _create_c_op(self._graph, node_def, inputs,\n",
      "  File \"/home/reshad812/anaconda3/lib/python3.8/site-packages/tensorflow/python/framework/ops.py\", line 1883, in _create_c_op\n",
      "    raise ValueError(str(e))\n",
      "ValueError: Negative dimension size caused by subtracting 70 from 65 for '{{node C7/conv1d}} = Conv2D[T=DT_FLOAT, data_format=\"NHWC\", dilations=[1, 1, 1, 1], explicit_paddings=[], padding=\"VALID\", strides=[1, 1, 1, 1], use_cudnn_on_gpu=true](C7/conv1d/ExpandDims, C7/conv1d/ExpandDims_1)' with input shapes: [?,1,65,3], [1,70,3,3].\n"
     ]
    },
    {
     "name": "stdout",
     "output_type": "stream",
     "text": [
      "Invalid model 0/5\n"
     ]
    },
    {
     "name": "stderr",
     "output_type": "stream",
     "text": [
      "Traceback (most recent call last):\n",
      "  File \"/home/reshad812/anaconda3/lib/python3.8/site-packages/tensorflow/python/framework/ops.py\", line 1880, in _create_c_op\n",
      "    c_op = pywrap_tf_session.TF_FinishOperation(op_desc)\n",
      "tensorflow.python.framework.errors_impl.InvalidArgumentError: Negative dimension size caused by subtracting 70 from 65 for '{{node C7/conv1d}} = Conv2D[T=DT_FLOAT, data_format=\"NHWC\", dilations=[1, 1, 1, 1], explicit_paddings=[], padding=\"VALID\", strides=[1, 1, 1, 1], use_cudnn_on_gpu=true](C7/conv1d/ExpandDims, C7/conv1d/ExpandDims_1)' with input shapes: [?,1,65,3], [1,70,3,3].\n",
      "\n",
      "During handling of the above exception, another exception occurred:\n",
      "\n",
      "Traceback (most recent call last):\n",
      "  File \"/home/reshad812/anaconda3/lib/python3.8/site-packages/keras_tuner/engine/tuner.py\", line 158, in _try_build\n",
      "    model = self._build_hypermodel(hp)\n",
      "  File \"/home/reshad812/anaconda3/lib/python3.8/site-packages/keras_tuner/engine/tuner.py\", line 146, in _build_hypermodel\n",
      "    model = self.hypermodel.build(hp)\n",
      "  File \"/tmp/ipykernel_5427/3913334019.py\", line 40, in mixture_model\n",
      "    model.add(layers.Conv1D(filters = hp_filters , kernel_size=hp_kernel_size, activation='relu', name = 'C7') )\n",
      "  File \"/home/reshad812/anaconda3/lib/python3.8/site-packages/tensorflow/python/training/tracking/base.py\", line 522, in _method_wrapper\n",
      "    result = method(self, *args, **kwargs)\n",
      "  File \"/home/reshad812/anaconda3/lib/python3.8/site-packages/tensorflow/python/keras/engine/sequential.py\", line 228, in add\n",
      "    output_tensor = layer(self.outputs[0])\n",
      "  File \"/home/reshad812/anaconda3/lib/python3.8/site-packages/tensorflow/python/keras/engine/base_layer.py\", line 969, in __call__\n",
      "    return self._functional_construction_call(inputs, args, kwargs,\n",
      "  File \"/home/reshad812/anaconda3/lib/python3.8/site-packages/tensorflow/python/keras/engine/base_layer.py\", line 1107, in _functional_construction_call\n",
      "    outputs = self._keras_tensor_symbolic_call(\n",
      "  File \"/home/reshad812/anaconda3/lib/python3.8/site-packages/tensorflow/python/keras/engine/base_layer.py\", line 840, in _keras_tensor_symbolic_call\n",
      "    return self._infer_output_signature(inputs, args, kwargs, input_masks)\n",
      "  File \"/home/reshad812/anaconda3/lib/python3.8/site-packages/tensorflow/python/keras/engine/base_layer.py\", line 880, in _infer_output_signature\n",
      "    outputs = call_fn(inputs, *args, **kwargs)\n",
      "  File \"/home/reshad812/anaconda3/lib/python3.8/site-packages/tensorflow/python/keras/layers/convolutional.py\", line 249, in call\n",
      "    outputs = self._convolution_op(inputs, self.kernel)\n",
      "  File \"/home/reshad812/anaconda3/lib/python3.8/site-packages/tensorflow/python/util/dispatch.py\", line 206, in wrapper\n",
      "    return target(*args, **kwargs)\n",
      "  File \"/home/reshad812/anaconda3/lib/python3.8/site-packages/tensorflow/python/ops/nn_ops.py\", line 1012, in convolution_v2\n",
      "    return convolution_internal(\n",
      "  File \"/home/reshad812/anaconda3/lib/python3.8/site-packages/tensorflow/python/ops/nn_ops.py\", line 1142, in convolution_internal\n",
      "    return op(\n",
      "  File \"/home/reshad812/anaconda3/lib/python3.8/site-packages/tensorflow/python/util/dispatch.py\", line 206, in wrapper\n",
      "    return target(*args, **kwargs)\n",
      "  File \"/home/reshad812/anaconda3/lib/python3.8/site-packages/tensorflow/python/util/deprecation.py\", line 602, in new_func\n",
      "    return func(*args, **kwargs)\n",
      "  File \"/home/reshad812/anaconda3/lib/python3.8/site-packages/tensorflow/python/util/deprecation.py\", line 602, in new_func\n",
      "    return func(*args, **kwargs)\n",
      "  File \"/home/reshad812/anaconda3/lib/python3.8/site-packages/tensorflow/python/ops/nn_ops.py\", line 1884, in conv1d\n",
      "    result = gen_nn_ops.conv2d(\n",
      "  File \"/home/reshad812/anaconda3/lib/python3.8/site-packages/tensorflow/python/ops/gen_nn_ops.py\", line 969, in conv2d\n",
      "    _, _, _op, _outputs = _op_def_library._apply_op_helper(\n",
      "  File \"/home/reshad812/anaconda3/lib/python3.8/site-packages/tensorflow/python/framework/op_def_library.py\", line 748, in _apply_op_helper\n",
      "    op = g._create_op_internal(op_type_name, inputs, dtypes=None,\n",
      "  File \"/home/reshad812/anaconda3/lib/python3.8/site-packages/tensorflow/python/framework/func_graph.py\", line 599, in _create_op_internal\n",
      "    return super(FuncGraph, self)._create_op_internal(  # pylint: disable=protected-access\n",
      "  File \"/home/reshad812/anaconda3/lib/python3.8/site-packages/tensorflow/python/framework/ops.py\", line 3557, in _create_op_internal\n",
      "    ret = Operation(\n",
      "  File \"/home/reshad812/anaconda3/lib/python3.8/site-packages/tensorflow/python/framework/ops.py\", line 2041, in __init__\n",
      "    self._c_op = _create_c_op(self._graph, node_def, inputs,\n",
      "  File \"/home/reshad812/anaconda3/lib/python3.8/site-packages/tensorflow/python/framework/ops.py\", line 1883, in _create_c_op\n",
      "    raise ValueError(str(e))\n",
      "ValueError: Negative dimension size caused by subtracting 70 from 65 for '{{node C7/conv1d}} = Conv2D[T=DT_FLOAT, data_format=\"NHWC\", dilations=[1, 1, 1, 1], explicit_paddings=[], padding=\"VALID\", strides=[1, 1, 1, 1], use_cudnn_on_gpu=true](C7/conv1d/ExpandDims, C7/conv1d/ExpandDims_1)' with input shapes: [?,1,65,3], [1,70,3,3].\n"
     ]
    },
    {
     "name": "stdout",
     "output_type": "stream",
     "text": [
      "Invalid model 1/5\n"
     ]
    },
    {
     "name": "stderr",
     "output_type": "stream",
     "text": [
      "Traceback (most recent call last):\n",
      "  File \"/home/reshad812/anaconda3/lib/python3.8/site-packages/tensorflow/python/framework/ops.py\", line 1880, in _create_c_op\n",
      "    c_op = pywrap_tf_session.TF_FinishOperation(op_desc)\n",
      "tensorflow.python.framework.errors_impl.InvalidArgumentError: Negative dimension size caused by subtracting 70 from 65 for '{{node C7/conv1d}} = Conv2D[T=DT_FLOAT, data_format=\"NHWC\", dilations=[1, 1, 1, 1], explicit_paddings=[], padding=\"VALID\", strides=[1, 1, 1, 1], use_cudnn_on_gpu=true](C7/conv1d/ExpandDims, C7/conv1d/ExpandDims_1)' with input shapes: [?,1,65,3], [1,70,3,3].\n",
      "\n",
      "During handling of the above exception, another exception occurred:\n",
      "\n",
      "Traceback (most recent call last):\n",
      "  File \"/home/reshad812/anaconda3/lib/python3.8/site-packages/keras_tuner/engine/tuner.py\", line 158, in _try_build\n",
      "    model = self._build_hypermodel(hp)\n",
      "  File \"/home/reshad812/anaconda3/lib/python3.8/site-packages/keras_tuner/engine/tuner.py\", line 146, in _build_hypermodel\n",
      "    model = self.hypermodel.build(hp)\n",
      "  File \"/tmp/ipykernel_5427/3913334019.py\", line 40, in mixture_model\n",
      "    model.add(layers.Conv1D(filters = hp_filters , kernel_size=hp_kernel_size, activation='relu', name = 'C7') )\n",
      "  File \"/home/reshad812/anaconda3/lib/python3.8/site-packages/tensorflow/python/training/tracking/base.py\", line 522, in _method_wrapper\n",
      "    result = method(self, *args, **kwargs)\n",
      "  File \"/home/reshad812/anaconda3/lib/python3.8/site-packages/tensorflow/python/keras/engine/sequential.py\", line 228, in add\n",
      "    output_tensor = layer(self.outputs[0])\n",
      "  File \"/home/reshad812/anaconda3/lib/python3.8/site-packages/tensorflow/python/keras/engine/base_layer.py\", line 969, in __call__\n",
      "    return self._functional_construction_call(inputs, args, kwargs,\n",
      "  File \"/home/reshad812/anaconda3/lib/python3.8/site-packages/tensorflow/python/keras/engine/base_layer.py\", line 1107, in _functional_construction_call\n",
      "    outputs = self._keras_tensor_symbolic_call(\n",
      "  File \"/home/reshad812/anaconda3/lib/python3.8/site-packages/tensorflow/python/keras/engine/base_layer.py\", line 840, in _keras_tensor_symbolic_call\n",
      "    return self._infer_output_signature(inputs, args, kwargs, input_masks)\n",
      "  File \"/home/reshad812/anaconda3/lib/python3.8/site-packages/tensorflow/python/keras/engine/base_layer.py\", line 880, in _infer_output_signature\n",
      "    outputs = call_fn(inputs, *args, **kwargs)\n",
      "  File \"/home/reshad812/anaconda3/lib/python3.8/site-packages/tensorflow/python/keras/layers/convolutional.py\", line 249, in call\n",
      "    outputs = self._convolution_op(inputs, self.kernel)\n",
      "  File \"/home/reshad812/anaconda3/lib/python3.8/site-packages/tensorflow/python/util/dispatch.py\", line 206, in wrapper\n",
      "    return target(*args, **kwargs)\n",
      "  File \"/home/reshad812/anaconda3/lib/python3.8/site-packages/tensorflow/python/ops/nn_ops.py\", line 1012, in convolution_v2\n",
      "    return convolution_internal(\n",
      "  File \"/home/reshad812/anaconda3/lib/python3.8/site-packages/tensorflow/python/ops/nn_ops.py\", line 1142, in convolution_internal\n",
      "    return op(\n",
      "  File \"/home/reshad812/anaconda3/lib/python3.8/site-packages/tensorflow/python/util/dispatch.py\", line 206, in wrapper\n",
      "    return target(*args, **kwargs)\n",
      "  File \"/home/reshad812/anaconda3/lib/python3.8/site-packages/tensorflow/python/util/deprecation.py\", line 602, in new_func\n",
      "    return func(*args, **kwargs)\n",
      "  File \"/home/reshad812/anaconda3/lib/python3.8/site-packages/tensorflow/python/util/deprecation.py\", line 602, in new_func\n",
      "    return func(*args, **kwargs)\n",
      "  File \"/home/reshad812/anaconda3/lib/python3.8/site-packages/tensorflow/python/ops/nn_ops.py\", line 1884, in conv1d\n",
      "    result = gen_nn_ops.conv2d(\n",
      "  File \"/home/reshad812/anaconda3/lib/python3.8/site-packages/tensorflow/python/ops/gen_nn_ops.py\", line 969, in conv2d\n",
      "    _, _, _op, _outputs = _op_def_library._apply_op_helper(\n",
      "  File \"/home/reshad812/anaconda3/lib/python3.8/site-packages/tensorflow/python/framework/op_def_library.py\", line 748, in _apply_op_helper\n",
      "    op = g._create_op_internal(op_type_name, inputs, dtypes=None,\n",
      "  File \"/home/reshad812/anaconda3/lib/python3.8/site-packages/tensorflow/python/framework/func_graph.py\", line 599, in _create_op_internal\n",
      "    return super(FuncGraph, self)._create_op_internal(  # pylint: disable=protected-access\n",
      "  File \"/home/reshad812/anaconda3/lib/python3.8/site-packages/tensorflow/python/framework/ops.py\", line 3557, in _create_op_internal\n",
      "    ret = Operation(\n",
      "  File \"/home/reshad812/anaconda3/lib/python3.8/site-packages/tensorflow/python/framework/ops.py\", line 2041, in __init__\n",
      "    self._c_op = _create_c_op(self._graph, node_def, inputs,\n",
      "  File \"/home/reshad812/anaconda3/lib/python3.8/site-packages/tensorflow/python/framework/ops.py\", line 1883, in _create_c_op\n",
      "    raise ValueError(str(e))\n",
      "ValueError: Negative dimension size caused by subtracting 70 from 65 for '{{node C7/conv1d}} = Conv2D[T=DT_FLOAT, data_format=\"NHWC\", dilations=[1, 1, 1, 1], explicit_paddings=[], padding=\"VALID\", strides=[1, 1, 1, 1], use_cudnn_on_gpu=true](C7/conv1d/ExpandDims, C7/conv1d/ExpandDims_1)' with input shapes: [?,1,65,3], [1,70,3,3].\n"
     ]
    },
    {
     "name": "stdout",
     "output_type": "stream",
     "text": [
      "Invalid model 2/5\n"
     ]
    },
    {
     "name": "stderr",
     "output_type": "stream",
     "text": [
      "Traceback (most recent call last):\n",
      "  File \"/home/reshad812/anaconda3/lib/python3.8/site-packages/tensorflow/python/framework/ops.py\", line 1880, in _create_c_op\n",
      "    c_op = pywrap_tf_session.TF_FinishOperation(op_desc)\n",
      "tensorflow.python.framework.errors_impl.InvalidArgumentError: Negative dimension size caused by subtracting 70 from 65 for '{{node C7/conv1d}} = Conv2D[T=DT_FLOAT, data_format=\"NHWC\", dilations=[1, 1, 1, 1], explicit_paddings=[], padding=\"VALID\", strides=[1, 1, 1, 1], use_cudnn_on_gpu=true](C7/conv1d/ExpandDims, C7/conv1d/ExpandDims_1)' with input shapes: [?,1,65,3], [1,70,3,3].\n",
      "\n",
      "During handling of the above exception, another exception occurred:\n",
      "\n",
      "Traceback (most recent call last):\n",
      "  File \"/home/reshad812/anaconda3/lib/python3.8/site-packages/keras_tuner/engine/tuner.py\", line 158, in _try_build\n",
      "    model = self._build_hypermodel(hp)\n",
      "  File \"/home/reshad812/anaconda3/lib/python3.8/site-packages/keras_tuner/engine/tuner.py\", line 146, in _build_hypermodel\n",
      "    model = self.hypermodel.build(hp)\n",
      "  File \"/tmp/ipykernel_5427/3913334019.py\", line 40, in mixture_model\n",
      "    model.add(layers.Conv1D(filters = hp_filters , kernel_size=hp_kernel_size, activation='relu', name = 'C7') )\n",
      "  File \"/home/reshad812/anaconda3/lib/python3.8/site-packages/tensorflow/python/training/tracking/base.py\", line 522, in _method_wrapper\n",
      "    result = method(self, *args, **kwargs)\n",
      "  File \"/home/reshad812/anaconda3/lib/python3.8/site-packages/tensorflow/python/keras/engine/sequential.py\", line 228, in add\n",
      "    output_tensor = layer(self.outputs[0])\n",
      "  File \"/home/reshad812/anaconda3/lib/python3.8/site-packages/tensorflow/python/keras/engine/base_layer.py\", line 969, in __call__\n",
      "    return self._functional_construction_call(inputs, args, kwargs,\n",
      "  File \"/home/reshad812/anaconda3/lib/python3.8/site-packages/tensorflow/python/keras/engine/base_layer.py\", line 1107, in _functional_construction_call\n",
      "    outputs = self._keras_tensor_symbolic_call(\n",
      "  File \"/home/reshad812/anaconda3/lib/python3.8/site-packages/tensorflow/python/keras/engine/base_layer.py\", line 840, in _keras_tensor_symbolic_call\n",
      "    return self._infer_output_signature(inputs, args, kwargs, input_masks)\n",
      "  File \"/home/reshad812/anaconda3/lib/python3.8/site-packages/tensorflow/python/keras/engine/base_layer.py\", line 880, in _infer_output_signature\n",
      "    outputs = call_fn(inputs, *args, **kwargs)\n",
      "  File \"/home/reshad812/anaconda3/lib/python3.8/site-packages/tensorflow/python/keras/layers/convolutional.py\", line 249, in call\n",
      "    outputs = self._convolution_op(inputs, self.kernel)\n",
      "  File \"/home/reshad812/anaconda3/lib/python3.8/site-packages/tensorflow/python/util/dispatch.py\", line 206, in wrapper\n",
      "    return target(*args, **kwargs)\n",
      "  File \"/home/reshad812/anaconda3/lib/python3.8/site-packages/tensorflow/python/ops/nn_ops.py\", line 1012, in convolution_v2\n",
      "    return convolution_internal(\n",
      "  File \"/home/reshad812/anaconda3/lib/python3.8/site-packages/tensorflow/python/ops/nn_ops.py\", line 1142, in convolution_internal\n",
      "    return op(\n",
      "  File \"/home/reshad812/anaconda3/lib/python3.8/site-packages/tensorflow/python/util/dispatch.py\", line 206, in wrapper\n",
      "    return target(*args, **kwargs)\n",
      "  File \"/home/reshad812/anaconda3/lib/python3.8/site-packages/tensorflow/python/util/deprecation.py\", line 602, in new_func\n",
      "    return func(*args, **kwargs)\n",
      "  File \"/home/reshad812/anaconda3/lib/python3.8/site-packages/tensorflow/python/util/deprecation.py\", line 602, in new_func\n",
      "    return func(*args, **kwargs)\n",
      "  File \"/home/reshad812/anaconda3/lib/python3.8/site-packages/tensorflow/python/ops/nn_ops.py\", line 1884, in conv1d\n",
      "    result = gen_nn_ops.conv2d(\n",
      "  File \"/home/reshad812/anaconda3/lib/python3.8/site-packages/tensorflow/python/ops/gen_nn_ops.py\", line 969, in conv2d\n",
      "    _, _, _op, _outputs = _op_def_library._apply_op_helper(\n",
      "  File \"/home/reshad812/anaconda3/lib/python3.8/site-packages/tensorflow/python/framework/op_def_library.py\", line 748, in _apply_op_helper\n",
      "    op = g._create_op_internal(op_type_name, inputs, dtypes=None,\n",
      "  File \"/home/reshad812/anaconda3/lib/python3.8/site-packages/tensorflow/python/framework/func_graph.py\", line 599, in _create_op_internal\n",
      "    return super(FuncGraph, self)._create_op_internal(  # pylint: disable=protected-access\n",
      "  File \"/home/reshad812/anaconda3/lib/python3.8/site-packages/tensorflow/python/framework/ops.py\", line 3557, in _create_op_internal\n",
      "    ret = Operation(\n",
      "  File \"/home/reshad812/anaconda3/lib/python3.8/site-packages/tensorflow/python/framework/ops.py\", line 2041, in __init__\n",
      "    self._c_op = _create_c_op(self._graph, node_def, inputs,\n",
      "  File \"/home/reshad812/anaconda3/lib/python3.8/site-packages/tensorflow/python/framework/ops.py\", line 1883, in _create_c_op\n",
      "    raise ValueError(str(e))\n",
      "ValueError: Negative dimension size caused by subtracting 70 from 65 for '{{node C7/conv1d}} = Conv2D[T=DT_FLOAT, data_format=\"NHWC\", dilations=[1, 1, 1, 1], explicit_paddings=[], padding=\"VALID\", strides=[1, 1, 1, 1], use_cudnn_on_gpu=true](C7/conv1d/ExpandDims, C7/conv1d/ExpandDims_1)' with input shapes: [?,1,65,3], [1,70,3,3].\n"
     ]
    },
    {
     "name": "stdout",
     "output_type": "stream",
     "text": [
      "Invalid model 3/5\n"
     ]
    },
    {
     "name": "stderr",
     "output_type": "stream",
     "text": [
      "Traceback (most recent call last):\n",
      "  File \"/home/reshad812/anaconda3/lib/python3.8/site-packages/tensorflow/python/framework/ops.py\", line 1880, in _create_c_op\n",
      "    c_op = pywrap_tf_session.TF_FinishOperation(op_desc)\n",
      "tensorflow.python.framework.errors_impl.InvalidArgumentError: Negative dimension size caused by subtracting 70 from 65 for '{{node C7/conv1d}} = Conv2D[T=DT_FLOAT, data_format=\"NHWC\", dilations=[1, 1, 1, 1], explicit_paddings=[], padding=\"VALID\", strides=[1, 1, 1, 1], use_cudnn_on_gpu=true](C7/conv1d/ExpandDims, C7/conv1d/ExpandDims_1)' with input shapes: [?,1,65,3], [1,70,3,3].\n",
      "\n",
      "During handling of the above exception, another exception occurred:\n",
      "\n",
      "Traceback (most recent call last):\n",
      "  File \"/home/reshad812/anaconda3/lib/python3.8/site-packages/keras_tuner/engine/tuner.py\", line 158, in _try_build\n",
      "    model = self._build_hypermodel(hp)\n",
      "  File \"/home/reshad812/anaconda3/lib/python3.8/site-packages/keras_tuner/engine/tuner.py\", line 146, in _build_hypermodel\n",
      "    model = self.hypermodel.build(hp)\n",
      "  File \"/tmp/ipykernel_5427/3913334019.py\", line 40, in mixture_model\n",
      "    model.add(layers.Conv1D(filters = hp_filters , kernel_size=hp_kernel_size, activation='relu', name = 'C7') )\n",
      "  File \"/home/reshad812/anaconda3/lib/python3.8/site-packages/tensorflow/python/training/tracking/base.py\", line 522, in _method_wrapper\n",
      "    result = method(self, *args, **kwargs)\n",
      "  File \"/home/reshad812/anaconda3/lib/python3.8/site-packages/tensorflow/python/keras/engine/sequential.py\", line 228, in add\n",
      "    output_tensor = layer(self.outputs[0])\n",
      "  File \"/home/reshad812/anaconda3/lib/python3.8/site-packages/tensorflow/python/keras/engine/base_layer.py\", line 969, in __call__\n",
      "    return self._functional_construction_call(inputs, args, kwargs,\n",
      "  File \"/home/reshad812/anaconda3/lib/python3.8/site-packages/tensorflow/python/keras/engine/base_layer.py\", line 1107, in _functional_construction_call\n",
      "    outputs = self._keras_tensor_symbolic_call(\n",
      "  File \"/home/reshad812/anaconda3/lib/python3.8/site-packages/tensorflow/python/keras/engine/base_layer.py\", line 840, in _keras_tensor_symbolic_call\n",
      "    return self._infer_output_signature(inputs, args, kwargs, input_masks)\n",
      "  File \"/home/reshad812/anaconda3/lib/python3.8/site-packages/tensorflow/python/keras/engine/base_layer.py\", line 880, in _infer_output_signature\n",
      "    outputs = call_fn(inputs, *args, **kwargs)\n",
      "  File \"/home/reshad812/anaconda3/lib/python3.8/site-packages/tensorflow/python/keras/layers/convolutional.py\", line 249, in call\n",
      "    outputs = self._convolution_op(inputs, self.kernel)\n",
      "  File \"/home/reshad812/anaconda3/lib/python3.8/site-packages/tensorflow/python/util/dispatch.py\", line 206, in wrapper\n",
      "    return target(*args, **kwargs)\n",
      "  File \"/home/reshad812/anaconda3/lib/python3.8/site-packages/tensorflow/python/ops/nn_ops.py\", line 1012, in convolution_v2\n",
      "    return convolution_internal(\n",
      "  File \"/home/reshad812/anaconda3/lib/python3.8/site-packages/tensorflow/python/ops/nn_ops.py\", line 1142, in convolution_internal\n",
      "    return op(\n",
      "  File \"/home/reshad812/anaconda3/lib/python3.8/site-packages/tensorflow/python/util/dispatch.py\", line 206, in wrapper\n",
      "    return target(*args, **kwargs)\n",
      "  File \"/home/reshad812/anaconda3/lib/python3.8/site-packages/tensorflow/python/util/deprecation.py\", line 602, in new_func\n",
      "    return func(*args, **kwargs)\n",
      "  File \"/home/reshad812/anaconda3/lib/python3.8/site-packages/tensorflow/python/util/deprecation.py\", line 602, in new_func\n",
      "    return func(*args, **kwargs)\n",
      "  File \"/home/reshad812/anaconda3/lib/python3.8/site-packages/tensorflow/python/ops/nn_ops.py\", line 1884, in conv1d\n",
      "    result = gen_nn_ops.conv2d(\n",
      "  File \"/home/reshad812/anaconda3/lib/python3.8/site-packages/tensorflow/python/ops/gen_nn_ops.py\", line 969, in conv2d\n",
      "    _, _, _op, _outputs = _op_def_library._apply_op_helper(\n",
      "  File \"/home/reshad812/anaconda3/lib/python3.8/site-packages/tensorflow/python/framework/op_def_library.py\", line 748, in _apply_op_helper\n",
      "    op = g._create_op_internal(op_type_name, inputs, dtypes=None,\n",
      "  File \"/home/reshad812/anaconda3/lib/python3.8/site-packages/tensorflow/python/framework/func_graph.py\", line 599, in _create_op_internal\n",
      "    return super(FuncGraph, self)._create_op_internal(  # pylint: disable=protected-access\n",
      "  File \"/home/reshad812/anaconda3/lib/python3.8/site-packages/tensorflow/python/framework/ops.py\", line 3557, in _create_op_internal\n",
      "    ret = Operation(\n",
      "  File \"/home/reshad812/anaconda3/lib/python3.8/site-packages/tensorflow/python/framework/ops.py\", line 2041, in __init__\n",
      "    self._c_op = _create_c_op(self._graph, node_def, inputs,\n",
      "  File \"/home/reshad812/anaconda3/lib/python3.8/site-packages/tensorflow/python/framework/ops.py\", line 1883, in _create_c_op\n",
      "    raise ValueError(str(e))\n",
      "ValueError: Negative dimension size caused by subtracting 70 from 65 for '{{node C7/conv1d}} = Conv2D[T=DT_FLOAT, data_format=\"NHWC\", dilations=[1, 1, 1, 1], explicit_paddings=[], padding=\"VALID\", strides=[1, 1, 1, 1], use_cudnn_on_gpu=true](C7/conv1d/ExpandDims, C7/conv1d/ExpandDims_1)' with input shapes: [?,1,65,3], [1,70,3,3].\n"
     ]
    },
    {
     "name": "stdout",
     "output_type": "stream",
     "text": [
      "Invalid model 4/5\n"
     ]
    },
    {
     "name": "stderr",
     "output_type": "stream",
     "text": [
      "Traceback (most recent call last):\n",
      "  File \"/home/reshad812/anaconda3/lib/python3.8/site-packages/tensorflow/python/framework/ops.py\", line 1880, in _create_c_op\n",
      "    c_op = pywrap_tf_session.TF_FinishOperation(op_desc)\n",
      "tensorflow.python.framework.errors_impl.InvalidArgumentError: Negative dimension size caused by subtracting 70 from 65 for '{{node C7/conv1d}} = Conv2D[T=DT_FLOAT, data_format=\"NHWC\", dilations=[1, 1, 1, 1], explicit_paddings=[], padding=\"VALID\", strides=[1, 1, 1, 1], use_cudnn_on_gpu=true](C7/conv1d/ExpandDims, C7/conv1d/ExpandDims_1)' with input shapes: [?,1,65,3], [1,70,3,3].\n",
      "\n",
      "During handling of the above exception, another exception occurred:\n",
      "\n",
      "Traceback (most recent call last):\n",
      "  File \"/home/reshad812/anaconda3/lib/python3.8/site-packages/keras_tuner/engine/tuner.py\", line 158, in _try_build\n",
      "    model = self._build_hypermodel(hp)\n",
      "  File \"/home/reshad812/anaconda3/lib/python3.8/site-packages/keras_tuner/engine/tuner.py\", line 146, in _build_hypermodel\n",
      "    model = self.hypermodel.build(hp)\n",
      "  File \"/tmp/ipykernel_5427/3913334019.py\", line 40, in mixture_model\n",
      "    model.add(layers.Conv1D(filters = hp_filters , kernel_size=hp_kernel_size, activation='relu', name = 'C7') )\n",
      "  File \"/home/reshad812/anaconda3/lib/python3.8/site-packages/tensorflow/python/training/tracking/base.py\", line 522, in _method_wrapper\n",
      "    result = method(self, *args, **kwargs)\n",
      "  File \"/home/reshad812/anaconda3/lib/python3.8/site-packages/tensorflow/python/keras/engine/sequential.py\", line 228, in add\n",
      "    output_tensor = layer(self.outputs[0])\n",
      "  File \"/home/reshad812/anaconda3/lib/python3.8/site-packages/tensorflow/python/keras/engine/base_layer.py\", line 969, in __call__\n",
      "    return self._functional_construction_call(inputs, args, kwargs,\n",
      "  File \"/home/reshad812/anaconda3/lib/python3.8/site-packages/tensorflow/python/keras/engine/base_layer.py\", line 1107, in _functional_construction_call\n",
      "    outputs = self._keras_tensor_symbolic_call(\n",
      "  File \"/home/reshad812/anaconda3/lib/python3.8/site-packages/tensorflow/python/keras/engine/base_layer.py\", line 840, in _keras_tensor_symbolic_call\n",
      "    return self._infer_output_signature(inputs, args, kwargs, input_masks)\n",
      "  File \"/home/reshad812/anaconda3/lib/python3.8/site-packages/tensorflow/python/keras/engine/base_layer.py\", line 880, in _infer_output_signature\n",
      "    outputs = call_fn(inputs, *args, **kwargs)\n",
      "  File \"/home/reshad812/anaconda3/lib/python3.8/site-packages/tensorflow/python/keras/layers/convolutional.py\", line 249, in call\n",
      "    outputs = self._convolution_op(inputs, self.kernel)\n",
      "  File \"/home/reshad812/anaconda3/lib/python3.8/site-packages/tensorflow/python/util/dispatch.py\", line 206, in wrapper\n",
      "    return target(*args, **kwargs)\n",
      "  File \"/home/reshad812/anaconda3/lib/python3.8/site-packages/tensorflow/python/ops/nn_ops.py\", line 1012, in convolution_v2\n",
      "    return convolution_internal(\n",
      "  File \"/home/reshad812/anaconda3/lib/python3.8/site-packages/tensorflow/python/ops/nn_ops.py\", line 1142, in convolution_internal\n",
      "    return op(\n",
      "  File \"/home/reshad812/anaconda3/lib/python3.8/site-packages/tensorflow/python/util/dispatch.py\", line 206, in wrapper\n",
      "    return target(*args, **kwargs)\n",
      "  File \"/home/reshad812/anaconda3/lib/python3.8/site-packages/tensorflow/python/util/deprecation.py\", line 602, in new_func\n",
      "    return func(*args, **kwargs)\n",
      "  File \"/home/reshad812/anaconda3/lib/python3.8/site-packages/tensorflow/python/util/deprecation.py\", line 602, in new_func\n",
      "    return func(*args, **kwargs)\n",
      "  File \"/home/reshad812/anaconda3/lib/python3.8/site-packages/tensorflow/python/ops/nn_ops.py\", line 1884, in conv1d\n",
      "    result = gen_nn_ops.conv2d(\n",
      "  File \"/home/reshad812/anaconda3/lib/python3.8/site-packages/tensorflow/python/ops/gen_nn_ops.py\", line 969, in conv2d\n",
      "    _, _, _op, _outputs = _op_def_library._apply_op_helper(\n",
      "  File \"/home/reshad812/anaconda3/lib/python3.8/site-packages/tensorflow/python/framework/op_def_library.py\", line 748, in _apply_op_helper\n",
      "    op = g._create_op_internal(op_type_name, inputs, dtypes=None,\n",
      "  File \"/home/reshad812/anaconda3/lib/python3.8/site-packages/tensorflow/python/framework/func_graph.py\", line 599, in _create_op_internal\n",
      "    return super(FuncGraph, self)._create_op_internal(  # pylint: disable=protected-access\n",
      "  File \"/home/reshad812/anaconda3/lib/python3.8/site-packages/tensorflow/python/framework/ops.py\", line 3557, in _create_op_internal\n",
      "    ret = Operation(\n",
      "  File \"/home/reshad812/anaconda3/lib/python3.8/site-packages/tensorflow/python/framework/ops.py\", line 2041, in __init__\n",
      "    self._c_op = _create_c_op(self._graph, node_def, inputs,\n",
      "  File \"/home/reshad812/anaconda3/lib/python3.8/site-packages/tensorflow/python/framework/ops.py\", line 1883, in _create_c_op\n",
      "    raise ValueError(str(e))\n",
      "ValueError: Negative dimension size caused by subtracting 70 from 65 for '{{node C7/conv1d}} = Conv2D[T=DT_FLOAT, data_format=\"NHWC\", dilations=[1, 1, 1, 1], explicit_paddings=[], padding=\"VALID\", strides=[1, 1, 1, 1], use_cudnn_on_gpu=true](C7/conv1d/ExpandDims, C7/conv1d/ExpandDims_1)' with input shapes: [?,1,65,3], [1,70,3,3].\n"
     ]
    },
    {
     "name": "stdout",
     "output_type": "stream",
     "text": [
      "Invalid model 5/5\n"
     ]
    },
    {
     "ename": "RuntimeError",
     "evalue": "Too many failed attempts to build model.",
     "output_type": "error",
     "traceback": [
      "\u001b[0;31m---------------------------------------------------------------------------\u001b[0m",
      "\u001b[0;31mInvalidArgumentError\u001b[0m                      Traceback (most recent call last)",
      "File \u001b[0;32m~/anaconda3/lib/python3.8/site-packages/tensorflow/python/framework/ops.py:1880\u001b[0m, in \u001b[0;36m_create_c_op\u001b[0;34m(graph, node_def, inputs, control_inputs, op_def)\u001b[0m\n\u001b[1;32m   1879\u001b[0m \u001b[38;5;28;01mtry\u001b[39;00m:\n\u001b[0;32m-> 1880\u001b[0m   c_op \u001b[38;5;241m=\u001b[39m \u001b[43mpywrap_tf_session\u001b[49m\u001b[38;5;241;43m.\u001b[39;49m\u001b[43mTF_FinishOperation\u001b[49m\u001b[43m(\u001b[49m\u001b[43mop_desc\u001b[49m\u001b[43m)\u001b[49m\n\u001b[1;32m   1881\u001b[0m \u001b[38;5;28;01mexcept\u001b[39;00m errors\u001b[38;5;241m.\u001b[39mInvalidArgumentError \u001b[38;5;28;01mas\u001b[39;00m e:\n\u001b[1;32m   1882\u001b[0m   \u001b[38;5;66;03m# Convert to ValueError for backwards compatibility.\u001b[39;00m\n",
      "\u001b[0;31mInvalidArgumentError\u001b[0m: Negative dimension size caused by subtracting 70 from 65 for '{{node C7/conv1d}} = Conv2D[T=DT_FLOAT, data_format=\"NHWC\", dilations=[1, 1, 1, 1], explicit_paddings=[], padding=\"VALID\", strides=[1, 1, 1, 1], use_cudnn_on_gpu=true](C7/conv1d/ExpandDims, C7/conv1d/ExpandDims_1)' with input shapes: [?,1,65,3], [1,70,3,3].",
      "\nDuring handling of the above exception, another exception occurred:\n",
      "\u001b[0;31mValueError\u001b[0m                                Traceback (most recent call last)",
      "File \u001b[0;32m~/anaconda3/lib/python3.8/site-packages/keras_tuner/engine/tuner.py:158\u001b[0m, in \u001b[0;36mTuner._try_build\u001b[0;34m(self, hp)\u001b[0m\n\u001b[1;32m    157\u001b[0m \u001b[38;5;28;01mtry\u001b[39;00m:\n\u001b[0;32m--> 158\u001b[0m     model \u001b[38;5;241m=\u001b[39m \u001b[38;5;28;43mself\u001b[39;49m\u001b[38;5;241;43m.\u001b[39;49m\u001b[43m_build_hypermodel\u001b[49m\u001b[43m(\u001b[49m\u001b[43mhp\u001b[49m\u001b[43m)\u001b[49m\n\u001b[1;32m    159\u001b[0m \u001b[38;5;28;01mexcept\u001b[39;00m:\n",
      "File \u001b[0;32m~/anaconda3/lib/python3.8/site-packages/keras_tuner/engine/tuner.py:146\u001b[0m, in \u001b[0;36mTuner._build_hypermodel\u001b[0;34m(self, hp)\u001b[0m\n\u001b[1;32m    145\u001b[0m \u001b[38;5;28;01mwith\u001b[39;00m maybe_distribute(\u001b[38;5;28mself\u001b[39m\u001b[38;5;241m.\u001b[39mdistribution_strategy):\n\u001b[0;32m--> 146\u001b[0m     model \u001b[38;5;241m=\u001b[39m \u001b[38;5;28;43mself\u001b[39;49m\u001b[38;5;241;43m.\u001b[39;49m\u001b[43mhypermodel\u001b[49m\u001b[38;5;241;43m.\u001b[39;49m\u001b[43mbuild\u001b[49m\u001b[43m(\u001b[49m\u001b[43mhp\u001b[49m\u001b[43m)\u001b[49m\n\u001b[1;32m    147\u001b[0m     \u001b[38;5;28mself\u001b[39m\u001b[38;5;241m.\u001b[39m_override_compile_args(model)\n",
      "Input \u001b[0;32mIn [54]\u001b[0m, in \u001b[0;36mmixture_model\u001b[0;34m(hp)\u001b[0m\n\u001b[1;32m     39\u001b[0m     \u001b[38;5;66;03m# C7 Convolutional Layer\u001b[39;00m\n\u001b[0;32m---> 40\u001b[0m     \u001b[43mmodel\u001b[49m\u001b[38;5;241;43m.\u001b[39;49m\u001b[43madd\u001b[49m\u001b[43m(\u001b[49m\u001b[43mlayers\u001b[49m\u001b[38;5;241;43m.\u001b[39;49m\u001b[43mConv1D\u001b[49m\u001b[43m(\u001b[49m\u001b[43mfilters\u001b[49m\u001b[43m \u001b[49m\u001b[38;5;241;43m=\u001b[39;49m\u001b[43m \u001b[49m\u001b[43mhp_filters\u001b[49m\u001b[43m \u001b[49m\u001b[43m,\u001b[49m\u001b[43m \u001b[49m\u001b[43mkernel_size\u001b[49m\u001b[38;5;241;43m=\u001b[39;49m\u001b[43mhp_kernel_size\u001b[49m\u001b[43m,\u001b[49m\u001b[43m \u001b[49m\u001b[43mactivation\u001b[49m\u001b[38;5;241;43m=\u001b[39;49m\u001b[38;5;124;43m'\u001b[39;49m\u001b[38;5;124;43mrelu\u001b[39;49m\u001b[38;5;124;43m'\u001b[39;49m\u001b[43m,\u001b[49m\u001b[43m \u001b[49m\u001b[43mname\u001b[49m\u001b[43m \u001b[49m\u001b[38;5;241;43m=\u001b[39;49m\u001b[43m \u001b[49m\u001b[38;5;124;43m'\u001b[39;49m\u001b[38;5;124;43mC7\u001b[39;49m\u001b[38;5;124;43m'\u001b[39;49m\u001b[43m)\u001b[49m\u001b[43m \u001b[49m\u001b[43m)\u001b[49m\n\u001b[1;32m     42\u001b[0m \u001b[38;5;66;03m#\u001b[39;00m\n\u001b[1;32m     43\u001b[0m \n\u001b[1;32m     44\u001b[0m     \u001b[38;5;66;03m# Flatten the CNN output to feed it with fully connected layers\u001b[39;00m\n",
      "File \u001b[0;32m~/anaconda3/lib/python3.8/site-packages/tensorflow/python/training/tracking/base.py:522\u001b[0m, in \u001b[0;36mno_automatic_dependency_tracking.<locals>._method_wrapper\u001b[0;34m(self, *args, **kwargs)\u001b[0m\n\u001b[1;32m    521\u001b[0m \u001b[38;5;28;01mtry\u001b[39;00m:\n\u001b[0;32m--> 522\u001b[0m   result \u001b[38;5;241m=\u001b[39m \u001b[43mmethod\u001b[49m\u001b[43m(\u001b[49m\u001b[38;5;28;43mself\u001b[39;49m\u001b[43m,\u001b[49m\u001b[43m \u001b[49m\u001b[38;5;241;43m*\u001b[39;49m\u001b[43margs\u001b[49m\u001b[43m,\u001b[49m\u001b[43m \u001b[49m\u001b[38;5;241;43m*\u001b[39;49m\u001b[38;5;241;43m*\u001b[39;49m\u001b[43mkwargs\u001b[49m\u001b[43m)\u001b[49m\n\u001b[1;32m    523\u001b[0m \u001b[38;5;28;01mfinally\u001b[39;00m:\n",
      "File \u001b[0;32m~/anaconda3/lib/python3.8/site-packages/tensorflow/python/keras/engine/sequential.py:228\u001b[0m, in \u001b[0;36mSequential.add\u001b[0;34m(self, layer)\u001b[0m\n\u001b[1;32m    225\u001b[0m \u001b[38;5;28;01melif\u001b[39;00m \u001b[38;5;28mself\u001b[39m\u001b[38;5;241m.\u001b[39moutputs:\n\u001b[1;32m    226\u001b[0m   \u001b[38;5;66;03m# If the model is being built continuously on top of an input layer:\u001b[39;00m\n\u001b[1;32m    227\u001b[0m   \u001b[38;5;66;03m# refresh its output.\u001b[39;00m\n\u001b[0;32m--> 228\u001b[0m   output_tensor \u001b[38;5;241m=\u001b[39m \u001b[43mlayer\u001b[49m\u001b[43m(\u001b[49m\u001b[38;5;28;43mself\u001b[39;49m\u001b[38;5;241;43m.\u001b[39;49m\u001b[43moutputs\u001b[49m\u001b[43m[\u001b[49m\u001b[38;5;241;43m0\u001b[39;49m\u001b[43m]\u001b[49m\u001b[43m)\u001b[49m\n\u001b[1;32m    229\u001b[0m   \u001b[38;5;28;01mif\u001b[39;00m \u001b[38;5;28mlen\u001b[39m(nest\u001b[38;5;241m.\u001b[39mflatten(output_tensor)) \u001b[38;5;241m!=\u001b[39m \u001b[38;5;241m1\u001b[39m:\n",
      "File \u001b[0;32m~/anaconda3/lib/python3.8/site-packages/tensorflow/python/keras/engine/base_layer.py:969\u001b[0m, in \u001b[0;36mLayer.__call__\u001b[0;34m(self, *args, **kwargs)\u001b[0m\n\u001b[1;32m    968\u001b[0m \u001b[38;5;28;01mif\u001b[39;00m _in_functional_construction_mode(\u001b[38;5;28mself\u001b[39m, inputs, args, kwargs, input_list):\n\u001b[0;32m--> 969\u001b[0m   \u001b[38;5;28;01mreturn\u001b[39;00m \u001b[38;5;28;43mself\u001b[39;49m\u001b[38;5;241;43m.\u001b[39;49m\u001b[43m_functional_construction_call\u001b[49m\u001b[43m(\u001b[49m\u001b[43minputs\u001b[49m\u001b[43m,\u001b[49m\u001b[43m \u001b[49m\u001b[43margs\u001b[49m\u001b[43m,\u001b[49m\u001b[43m \u001b[49m\u001b[43mkwargs\u001b[49m\u001b[43m,\u001b[49m\n\u001b[1;32m    970\u001b[0m \u001b[43m                                            \u001b[49m\u001b[43minput_list\u001b[49m\u001b[43m)\u001b[49m\n\u001b[1;32m    972\u001b[0m \u001b[38;5;66;03m# Maintains info about the `Layer.call` stack.\u001b[39;00m\n",
      "File \u001b[0;32m~/anaconda3/lib/python3.8/site-packages/tensorflow/python/keras/engine/base_layer.py:1107\u001b[0m, in \u001b[0;36mLayer._functional_construction_call\u001b[0;34m(self, inputs, args, kwargs, input_list)\u001b[0m\n\u001b[1;32m   1104\u001b[0m \u001b[38;5;28;01mwith\u001b[39;00m call_context\u001b[38;5;241m.\u001b[39menter(\n\u001b[1;32m   1105\u001b[0m     layer\u001b[38;5;241m=\u001b[39m\u001b[38;5;28mself\u001b[39m, inputs\u001b[38;5;241m=\u001b[39minputs, build_graph\u001b[38;5;241m=\u001b[39m\u001b[38;5;28;01mTrue\u001b[39;00m, training\u001b[38;5;241m=\u001b[39mtraining_value):\n\u001b[1;32m   1106\u001b[0m   \u001b[38;5;66;03m# Check input assumptions set after layer building, e.g. input shape.\u001b[39;00m\n\u001b[0;32m-> 1107\u001b[0m   outputs \u001b[38;5;241m=\u001b[39m \u001b[38;5;28;43mself\u001b[39;49m\u001b[38;5;241;43m.\u001b[39;49m\u001b[43m_keras_tensor_symbolic_call\u001b[49m\u001b[43m(\u001b[49m\n\u001b[1;32m   1108\u001b[0m \u001b[43m      \u001b[49m\u001b[43minputs\u001b[49m\u001b[43m,\u001b[49m\u001b[43m \u001b[49m\u001b[43minput_masks\u001b[49m\u001b[43m,\u001b[49m\u001b[43m \u001b[49m\u001b[43margs\u001b[49m\u001b[43m,\u001b[49m\u001b[43m \u001b[49m\u001b[43mkwargs\u001b[49m\u001b[43m)\u001b[49m\n\u001b[1;32m   1110\u001b[0m   \u001b[38;5;28;01mif\u001b[39;00m outputs \u001b[38;5;129;01mis\u001b[39;00m \u001b[38;5;28;01mNone\u001b[39;00m:\n",
      "File \u001b[0;32m~/anaconda3/lib/python3.8/site-packages/tensorflow/python/keras/engine/base_layer.py:840\u001b[0m, in \u001b[0;36mLayer._keras_tensor_symbolic_call\u001b[0;34m(self, inputs, input_masks, args, kwargs)\u001b[0m\n\u001b[1;32m    839\u001b[0m \u001b[38;5;28;01melse\u001b[39;00m:\n\u001b[0;32m--> 840\u001b[0m   \u001b[38;5;28;01mreturn\u001b[39;00m \u001b[38;5;28;43mself\u001b[39;49m\u001b[38;5;241;43m.\u001b[39;49m\u001b[43m_infer_output_signature\u001b[49m\u001b[43m(\u001b[49m\u001b[43minputs\u001b[49m\u001b[43m,\u001b[49m\u001b[43m \u001b[49m\u001b[43margs\u001b[49m\u001b[43m,\u001b[49m\u001b[43m \u001b[49m\u001b[43mkwargs\u001b[49m\u001b[43m,\u001b[49m\u001b[43m \u001b[49m\u001b[43minput_masks\u001b[49m\u001b[43m)\u001b[49m\n",
      "File \u001b[0;32m~/anaconda3/lib/python3.8/site-packages/tensorflow/python/keras/engine/base_layer.py:880\u001b[0m, in \u001b[0;36mLayer._infer_output_signature\u001b[0;34m(self, inputs, args, kwargs, input_masks)\u001b[0m\n\u001b[1;32m    879\u001b[0m   inputs \u001b[38;5;241m=\u001b[39m \u001b[38;5;28mself\u001b[39m\u001b[38;5;241m.\u001b[39m_maybe_cast_inputs(inputs)\n\u001b[0;32m--> 880\u001b[0m   outputs \u001b[38;5;241m=\u001b[39m \u001b[43mcall_fn\u001b[49m\u001b[43m(\u001b[49m\u001b[43minputs\u001b[49m\u001b[43m,\u001b[49m\u001b[43m \u001b[49m\u001b[38;5;241;43m*\u001b[39;49m\u001b[43margs\u001b[49m\u001b[43m,\u001b[49m\u001b[43m \u001b[49m\u001b[38;5;241;43m*\u001b[39;49m\u001b[38;5;241;43m*\u001b[39;49m\u001b[43mkwargs\u001b[49m\u001b[43m)\u001b[49m\n\u001b[1;32m    882\u001b[0m \u001b[38;5;28mself\u001b[39m\u001b[38;5;241m.\u001b[39m_handle_activity_regularization(inputs, outputs)\n",
      "File \u001b[0;32m~/anaconda3/lib/python3.8/site-packages/tensorflow/python/keras/layers/convolutional.py:249\u001b[0m, in \u001b[0;36mConv.call\u001b[0;34m(self, inputs)\u001b[0m\n\u001b[1;32m    247\u001b[0m   inputs \u001b[38;5;241m=\u001b[39m array_ops\u001b[38;5;241m.\u001b[39mpad(inputs, \u001b[38;5;28mself\u001b[39m\u001b[38;5;241m.\u001b[39m_compute_causal_padding(inputs))\n\u001b[0;32m--> 249\u001b[0m outputs \u001b[38;5;241m=\u001b[39m \u001b[38;5;28;43mself\u001b[39;49m\u001b[38;5;241;43m.\u001b[39;49m\u001b[43m_convolution_op\u001b[49m\u001b[43m(\u001b[49m\u001b[43minputs\u001b[49m\u001b[43m,\u001b[49m\u001b[43m \u001b[49m\u001b[38;5;28;43mself\u001b[39;49m\u001b[38;5;241;43m.\u001b[39;49m\u001b[43mkernel\u001b[49m\u001b[43m)\u001b[49m\n\u001b[1;32m    251\u001b[0m \u001b[38;5;28;01mif\u001b[39;00m \u001b[38;5;28mself\u001b[39m\u001b[38;5;241m.\u001b[39muse_bias:\n",
      "File \u001b[0;32m~/anaconda3/lib/python3.8/site-packages/tensorflow/python/util/dispatch.py:206\u001b[0m, in \u001b[0;36madd_dispatch_support.<locals>.wrapper\u001b[0;34m(*args, **kwargs)\u001b[0m\n\u001b[1;32m    205\u001b[0m \u001b[38;5;28;01mtry\u001b[39;00m:\n\u001b[0;32m--> 206\u001b[0m   \u001b[38;5;28;01mreturn\u001b[39;00m \u001b[43mtarget\u001b[49m\u001b[43m(\u001b[49m\u001b[38;5;241;43m*\u001b[39;49m\u001b[43margs\u001b[49m\u001b[43m,\u001b[49m\u001b[43m \u001b[49m\u001b[38;5;241;43m*\u001b[39;49m\u001b[38;5;241;43m*\u001b[39;49m\u001b[43mkwargs\u001b[49m\u001b[43m)\u001b[49m\n\u001b[1;32m    207\u001b[0m \u001b[38;5;28;01mexcept\u001b[39;00m (\u001b[38;5;167;01mTypeError\u001b[39;00m, \u001b[38;5;167;01mValueError\u001b[39;00m):\n\u001b[1;32m    208\u001b[0m   \u001b[38;5;66;03m# Note: convert_to_eager_tensor currently raises a ValueError, not a\u001b[39;00m\n\u001b[1;32m    209\u001b[0m   \u001b[38;5;66;03m# TypeError, when given unexpected types.  So we need to catch both.\u001b[39;00m\n",
      "File \u001b[0;32m~/anaconda3/lib/python3.8/site-packages/tensorflow/python/ops/nn_ops.py:1012\u001b[0m, in \u001b[0;36mconvolution_v2\u001b[0;34m(input, filters, strides, padding, data_format, dilations, name)\u001b[0m\n\u001b[1;32m   1002\u001b[0m \u001b[38;5;129m@tf_export\u001b[39m(\u001b[38;5;124m\"\u001b[39m\u001b[38;5;124mnn.convolution\u001b[39m\u001b[38;5;124m\"\u001b[39m, v1\u001b[38;5;241m=\u001b[39m[])\n\u001b[1;32m   1003\u001b[0m \u001b[38;5;129m@dispatch\u001b[39m\u001b[38;5;241m.\u001b[39madd_dispatch_support\n\u001b[1;32m   1004\u001b[0m \u001b[38;5;28;01mdef\u001b[39;00m \u001b[38;5;21mconvolution_v2\u001b[39m(  \u001b[38;5;66;03m# pylint: disable=missing-docstring\u001b[39;00m\n\u001b[0;32m   (...)\u001b[0m\n\u001b[1;32m   1010\u001b[0m     dilations\u001b[38;5;241m=\u001b[39m\u001b[38;5;28;01mNone\u001b[39;00m,\n\u001b[1;32m   1011\u001b[0m     name\u001b[38;5;241m=\u001b[39m\u001b[38;5;28;01mNone\u001b[39;00m):\n\u001b[0;32m-> 1012\u001b[0m   \u001b[38;5;28;01mreturn\u001b[39;00m \u001b[43mconvolution_internal\u001b[49m\u001b[43m(\u001b[49m\n\u001b[1;32m   1013\u001b[0m \u001b[43m      \u001b[49m\u001b[38;5;28;43minput\u001b[39;49m\u001b[43m,\u001b[49m\u001b[43m  \u001b[49m\u001b[38;5;66;43;03m# pylint: disable=redefined-builtin\u001b[39;49;00m\n\u001b[1;32m   1014\u001b[0m \u001b[43m      \u001b[49m\u001b[43mfilters\u001b[49m\u001b[43m,\u001b[49m\n\u001b[1;32m   1015\u001b[0m \u001b[43m      \u001b[49m\u001b[43mstrides\u001b[49m\u001b[38;5;241;43m=\u001b[39;49m\u001b[43mstrides\u001b[49m\u001b[43m,\u001b[49m\n\u001b[1;32m   1016\u001b[0m \u001b[43m      \u001b[49m\u001b[43mpadding\u001b[49m\u001b[38;5;241;43m=\u001b[39;49m\u001b[43mpadding\u001b[49m\u001b[43m,\u001b[49m\n\u001b[1;32m   1017\u001b[0m \u001b[43m      \u001b[49m\u001b[43mdata_format\u001b[49m\u001b[38;5;241;43m=\u001b[39;49m\u001b[43mdata_format\u001b[49m\u001b[43m,\u001b[49m\n\u001b[1;32m   1018\u001b[0m \u001b[43m      \u001b[49m\u001b[43mdilations\u001b[49m\u001b[38;5;241;43m=\u001b[39;49m\u001b[43mdilations\u001b[49m\u001b[43m,\u001b[49m\n\u001b[1;32m   1019\u001b[0m \u001b[43m      \u001b[49m\u001b[43mname\u001b[49m\u001b[38;5;241;43m=\u001b[39;49m\u001b[43mname\u001b[49m\u001b[43m)\u001b[49m\n",
      "File \u001b[0;32m~/anaconda3/lib/python3.8/site-packages/tensorflow/python/ops/nn_ops.py:1142\u001b[0m, in \u001b[0;36mconvolution_internal\u001b[0;34m(input, filters, strides, padding, data_format, dilations, name, call_from_convolution, num_spatial_dims)\u001b[0m\n\u001b[1;32m   1140\u001b[0m     op \u001b[38;5;241m=\u001b[39m conv1d\n\u001b[0;32m-> 1142\u001b[0m   \u001b[38;5;28;01mreturn\u001b[39;00m \u001b[43mop\u001b[49m\u001b[43m(\u001b[49m\n\u001b[1;32m   1143\u001b[0m \u001b[43m      \u001b[49m\u001b[38;5;28;43minput\u001b[39;49m\u001b[43m,\u001b[49m\n\u001b[1;32m   1144\u001b[0m \u001b[43m      \u001b[49m\u001b[43mfilters\u001b[49m\u001b[43m,\u001b[49m\n\u001b[1;32m   1145\u001b[0m \u001b[43m      \u001b[49m\u001b[43mstrides\u001b[49m\u001b[43m,\u001b[49m\n\u001b[1;32m   1146\u001b[0m \u001b[43m      \u001b[49m\u001b[43mpadding\u001b[49m\u001b[38;5;241;43m=\u001b[39;49m\u001b[43mpadding\u001b[49m\u001b[43m,\u001b[49m\n\u001b[1;32m   1147\u001b[0m \u001b[43m      \u001b[49m\u001b[43mdata_format\u001b[49m\u001b[38;5;241;43m=\u001b[39;49m\u001b[43mdata_format\u001b[49m\u001b[43m,\u001b[49m\n\u001b[1;32m   1148\u001b[0m \u001b[43m      \u001b[49m\u001b[43mdilations\u001b[49m\u001b[38;5;241;43m=\u001b[39;49m\u001b[43mdilations\u001b[49m\u001b[43m,\u001b[49m\n\u001b[1;32m   1149\u001b[0m \u001b[43m      \u001b[49m\u001b[43mname\u001b[49m\u001b[38;5;241;43m=\u001b[39;49m\u001b[43mname\u001b[49m\u001b[43m)\u001b[49m\n\u001b[1;32m   1150\u001b[0m \u001b[38;5;28;01melse\u001b[39;00m:\n",
      "File \u001b[0;32m~/anaconda3/lib/python3.8/site-packages/tensorflow/python/util/dispatch.py:206\u001b[0m, in \u001b[0;36madd_dispatch_support.<locals>.wrapper\u001b[0;34m(*args, **kwargs)\u001b[0m\n\u001b[1;32m    205\u001b[0m \u001b[38;5;28;01mtry\u001b[39;00m:\n\u001b[0;32m--> 206\u001b[0m   \u001b[38;5;28;01mreturn\u001b[39;00m \u001b[43mtarget\u001b[49m\u001b[43m(\u001b[49m\u001b[38;5;241;43m*\u001b[39;49m\u001b[43margs\u001b[49m\u001b[43m,\u001b[49m\u001b[43m \u001b[49m\u001b[38;5;241;43m*\u001b[39;49m\u001b[38;5;241;43m*\u001b[39;49m\u001b[43mkwargs\u001b[49m\u001b[43m)\u001b[49m\n\u001b[1;32m    207\u001b[0m \u001b[38;5;28;01mexcept\u001b[39;00m (\u001b[38;5;167;01mTypeError\u001b[39;00m, \u001b[38;5;167;01mValueError\u001b[39;00m):\n\u001b[1;32m    208\u001b[0m   \u001b[38;5;66;03m# Note: convert_to_eager_tensor currently raises a ValueError, not a\u001b[39;00m\n\u001b[1;32m    209\u001b[0m   \u001b[38;5;66;03m# TypeError, when given unexpected types.  So we need to catch both.\u001b[39;00m\n",
      "File \u001b[0;32m~/anaconda3/lib/python3.8/site-packages/tensorflow/python/util/deprecation.py:602\u001b[0m, in \u001b[0;36mdeprecated_arg_values.<locals>.deprecated_wrapper.<locals>.new_func\u001b[0;34m(*args, **kwargs)\u001b[0m\n\u001b[1;32m    596\u001b[0m         logging\u001b[38;5;241m.\u001b[39mwarning(\n\u001b[1;32m    597\u001b[0m             \u001b[38;5;124m'\u001b[39m\u001b[38;5;124mFrom \u001b[39m\u001b[38;5;132;01m%s\u001b[39;00m\u001b[38;5;124m: calling \u001b[39m\u001b[38;5;132;01m%s\u001b[39;00m\u001b[38;5;124m (from \u001b[39m\u001b[38;5;132;01m%s\u001b[39;00m\u001b[38;5;124m) with \u001b[39m\u001b[38;5;132;01m%s\u001b[39;00m\u001b[38;5;124m=\u001b[39m\u001b[38;5;132;01m%s\u001b[39;00m\u001b[38;5;124m is deprecated and \u001b[39m\u001b[38;5;124m'\u001b[39m\n\u001b[1;32m    598\u001b[0m             \u001b[38;5;124m'\u001b[39m\u001b[38;5;124mwill be removed \u001b[39m\u001b[38;5;132;01m%s\u001b[39;00m\u001b[38;5;124m.\u001b[39m\u001b[38;5;130;01m\\n\u001b[39;00m\u001b[38;5;124mInstructions for updating:\u001b[39m\u001b[38;5;130;01m\\n\u001b[39;00m\u001b[38;5;132;01m%s\u001b[39;00m\u001b[38;5;124m'\u001b[39m,\n\u001b[1;32m    599\u001b[0m             _call_location(), decorator_utils\u001b[38;5;241m.\u001b[39mget_qualified_name(func),\n\u001b[1;32m    600\u001b[0m             func\u001b[38;5;241m.\u001b[39m\u001b[38;5;18m__module__\u001b[39m, arg_name, arg_value, \u001b[38;5;124m'\u001b[39m\u001b[38;5;124min a future version\u001b[39m\u001b[38;5;124m'\u001b[39m\n\u001b[1;32m    601\u001b[0m             \u001b[38;5;28;01mif\u001b[39;00m date \u001b[38;5;129;01mis\u001b[39;00m \u001b[38;5;28;01mNone\u001b[39;00m \u001b[38;5;28;01melse\u001b[39;00m (\u001b[38;5;124m'\u001b[39m\u001b[38;5;124mafter \u001b[39m\u001b[38;5;132;01m%s\u001b[39;00m\u001b[38;5;124m'\u001b[39m \u001b[38;5;241m%\u001b[39m date), instructions)\n\u001b[0;32m--> 602\u001b[0m \u001b[38;5;28;01mreturn\u001b[39;00m \u001b[43mfunc\u001b[49m\u001b[43m(\u001b[49m\u001b[38;5;241;43m*\u001b[39;49m\u001b[43margs\u001b[49m\u001b[43m,\u001b[49m\u001b[43m \u001b[49m\u001b[38;5;241;43m*\u001b[39;49m\u001b[38;5;241;43m*\u001b[39;49m\u001b[43mkwargs\u001b[49m\u001b[43m)\u001b[49m\n",
      "File \u001b[0;32m~/anaconda3/lib/python3.8/site-packages/tensorflow/python/util/deprecation.py:602\u001b[0m, in \u001b[0;36mdeprecated_arg_values.<locals>.deprecated_wrapper.<locals>.new_func\u001b[0;34m(*args, **kwargs)\u001b[0m\n\u001b[1;32m    596\u001b[0m         logging\u001b[38;5;241m.\u001b[39mwarning(\n\u001b[1;32m    597\u001b[0m             \u001b[38;5;124m'\u001b[39m\u001b[38;5;124mFrom \u001b[39m\u001b[38;5;132;01m%s\u001b[39;00m\u001b[38;5;124m: calling \u001b[39m\u001b[38;5;132;01m%s\u001b[39;00m\u001b[38;5;124m (from \u001b[39m\u001b[38;5;132;01m%s\u001b[39;00m\u001b[38;5;124m) with \u001b[39m\u001b[38;5;132;01m%s\u001b[39;00m\u001b[38;5;124m=\u001b[39m\u001b[38;5;132;01m%s\u001b[39;00m\u001b[38;5;124m is deprecated and \u001b[39m\u001b[38;5;124m'\u001b[39m\n\u001b[1;32m    598\u001b[0m             \u001b[38;5;124m'\u001b[39m\u001b[38;5;124mwill be removed \u001b[39m\u001b[38;5;132;01m%s\u001b[39;00m\u001b[38;5;124m.\u001b[39m\u001b[38;5;130;01m\\n\u001b[39;00m\u001b[38;5;124mInstructions for updating:\u001b[39m\u001b[38;5;130;01m\\n\u001b[39;00m\u001b[38;5;132;01m%s\u001b[39;00m\u001b[38;5;124m'\u001b[39m,\n\u001b[1;32m    599\u001b[0m             _call_location(), decorator_utils\u001b[38;5;241m.\u001b[39mget_qualified_name(func),\n\u001b[1;32m    600\u001b[0m             func\u001b[38;5;241m.\u001b[39m\u001b[38;5;18m__module__\u001b[39m, arg_name, arg_value, \u001b[38;5;124m'\u001b[39m\u001b[38;5;124min a future version\u001b[39m\u001b[38;5;124m'\u001b[39m\n\u001b[1;32m    601\u001b[0m             \u001b[38;5;28;01mif\u001b[39;00m date \u001b[38;5;129;01mis\u001b[39;00m \u001b[38;5;28;01mNone\u001b[39;00m \u001b[38;5;28;01melse\u001b[39;00m (\u001b[38;5;124m'\u001b[39m\u001b[38;5;124mafter \u001b[39m\u001b[38;5;132;01m%s\u001b[39;00m\u001b[38;5;124m'\u001b[39m \u001b[38;5;241m%\u001b[39m date), instructions)\n\u001b[0;32m--> 602\u001b[0m \u001b[38;5;28;01mreturn\u001b[39;00m \u001b[43mfunc\u001b[49m\u001b[43m(\u001b[49m\u001b[38;5;241;43m*\u001b[39;49m\u001b[43margs\u001b[49m\u001b[43m,\u001b[49m\u001b[43m \u001b[49m\u001b[38;5;241;43m*\u001b[39;49m\u001b[38;5;241;43m*\u001b[39;49m\u001b[43mkwargs\u001b[49m\u001b[43m)\u001b[49m\n",
      "File \u001b[0;32m~/anaconda3/lib/python3.8/site-packages/tensorflow/python/ops/nn_ops.py:1884\u001b[0m, in \u001b[0;36mconv1d\u001b[0;34m(value, filters, stride, padding, use_cudnn_on_gpu, data_format, name, input, dilations)\u001b[0m\n\u001b[1;32m   1883\u001b[0m \u001b[38;5;28;01mif\u001b[39;00m value\u001b[38;5;241m.\u001b[39mshape\u001b[38;5;241m.\u001b[39mndims \u001b[38;5;129;01min\u001b[39;00m (\u001b[38;5;241m4\u001b[39m, \u001b[38;5;241m3\u001b[39m, \u001b[38;5;241m2\u001b[39m, \u001b[38;5;241m1\u001b[39m, \u001b[38;5;241m0\u001b[39m, \u001b[38;5;28;01mNone\u001b[39;00m):\n\u001b[0;32m-> 1884\u001b[0m   result \u001b[38;5;241m=\u001b[39m \u001b[43mgen_nn_ops\u001b[49m\u001b[38;5;241;43m.\u001b[39;49m\u001b[43mconv2d\u001b[49m\u001b[43m(\u001b[49m\n\u001b[1;32m   1885\u001b[0m \u001b[43m      \u001b[49m\u001b[43mvalue\u001b[49m\u001b[43m,\u001b[49m\n\u001b[1;32m   1886\u001b[0m \u001b[43m      \u001b[49m\u001b[43mfilters\u001b[49m\u001b[43m,\u001b[49m\n\u001b[1;32m   1887\u001b[0m \u001b[43m      \u001b[49m\u001b[43mstrides\u001b[49m\u001b[43m,\u001b[49m\n\u001b[1;32m   1888\u001b[0m \u001b[43m      \u001b[49m\u001b[43mpadding\u001b[49m\u001b[43m,\u001b[49m\n\u001b[1;32m   1889\u001b[0m \u001b[43m      \u001b[49m\u001b[43muse_cudnn_on_gpu\u001b[49m\u001b[38;5;241;43m=\u001b[39;49m\u001b[43muse_cudnn_on_gpu\u001b[49m\u001b[43m,\u001b[49m\n\u001b[1;32m   1890\u001b[0m \u001b[43m      \u001b[49m\u001b[43mdata_format\u001b[49m\u001b[38;5;241;43m=\u001b[39;49m\u001b[43mdata_format\u001b[49m\u001b[43m,\u001b[49m\n\u001b[1;32m   1891\u001b[0m \u001b[43m      \u001b[49m\u001b[43mdilations\u001b[49m\u001b[38;5;241;43m=\u001b[39;49m\u001b[43mdilations\u001b[49m\u001b[43m,\u001b[49m\n\u001b[1;32m   1892\u001b[0m \u001b[43m      \u001b[49m\u001b[43mname\u001b[49m\u001b[38;5;241;43m=\u001b[39;49m\u001b[43mname\u001b[49m\u001b[43m)\u001b[49m\n\u001b[1;32m   1893\u001b[0m \u001b[38;5;28;01melse\u001b[39;00m:\n",
      "File \u001b[0;32m~/anaconda3/lib/python3.8/site-packages/tensorflow/python/ops/gen_nn_ops.py:969\u001b[0m, in \u001b[0;36mconv2d\u001b[0;34m(input, filter, strides, padding, use_cudnn_on_gpu, explicit_paddings, data_format, dilations, name)\u001b[0m\n\u001b[1;32m    968\u001b[0m dilations \u001b[38;5;241m=\u001b[39m [_execute\u001b[38;5;241m.\u001b[39mmake_int(_i, \u001b[38;5;124m\"\u001b[39m\u001b[38;5;124mdilations\u001b[39m\u001b[38;5;124m\"\u001b[39m) \u001b[38;5;28;01mfor\u001b[39;00m _i \u001b[38;5;129;01min\u001b[39;00m dilations]\n\u001b[0;32m--> 969\u001b[0m _, _, _op, _outputs \u001b[38;5;241m=\u001b[39m \u001b[43m_op_def_library\u001b[49m\u001b[38;5;241;43m.\u001b[39;49m\u001b[43m_apply_op_helper\u001b[49m\u001b[43m(\u001b[49m\n\u001b[1;32m    970\u001b[0m \u001b[43m      \u001b[49m\u001b[38;5;124;43m\"\u001b[39;49m\u001b[38;5;124;43mConv2D\u001b[39;49m\u001b[38;5;124;43m\"\u001b[39;49m\u001b[43m,\u001b[49m\u001b[43m \u001b[49m\u001b[38;5;28;43minput\u001b[39;49m\u001b[38;5;241;43m=\u001b[39;49m\u001b[38;5;28;43minput\u001b[39;49m\u001b[43m,\u001b[49m\u001b[43m \u001b[49m\u001b[38;5;28;43mfilter\u001b[39;49m\u001b[38;5;241;43m=\u001b[39;49m\u001b[38;5;28;43mfilter\u001b[39;49m\u001b[43m,\u001b[49m\u001b[43m \u001b[49m\u001b[43mstrides\u001b[49m\u001b[38;5;241;43m=\u001b[39;49m\u001b[43mstrides\u001b[49m\u001b[43m,\u001b[49m\n\u001b[1;32m    971\u001b[0m \u001b[43m                \u001b[49m\u001b[43mpadding\u001b[49m\u001b[38;5;241;43m=\u001b[39;49m\u001b[43mpadding\u001b[49m\u001b[43m,\u001b[49m\u001b[43m \u001b[49m\u001b[43muse_cudnn_on_gpu\u001b[49m\u001b[38;5;241;43m=\u001b[39;49m\u001b[43muse_cudnn_on_gpu\u001b[49m\u001b[43m,\u001b[49m\n\u001b[1;32m    972\u001b[0m \u001b[43m                \u001b[49m\u001b[43mexplicit_paddings\u001b[49m\u001b[38;5;241;43m=\u001b[39;49m\u001b[43mexplicit_paddings\u001b[49m\u001b[43m,\u001b[49m\n\u001b[1;32m    973\u001b[0m \u001b[43m                \u001b[49m\u001b[43mdata_format\u001b[49m\u001b[38;5;241;43m=\u001b[39;49m\u001b[43mdata_format\u001b[49m\u001b[43m,\u001b[49m\u001b[43m \u001b[49m\u001b[43mdilations\u001b[49m\u001b[38;5;241;43m=\u001b[39;49m\u001b[43mdilations\u001b[49m\u001b[43m,\u001b[49m\u001b[43m \u001b[49m\u001b[43mname\u001b[49m\u001b[38;5;241;43m=\u001b[39;49m\u001b[43mname\u001b[49m\u001b[43m)\u001b[49m\n\u001b[1;32m    974\u001b[0m _result \u001b[38;5;241m=\u001b[39m _outputs[:]\n",
      "File \u001b[0;32m~/anaconda3/lib/python3.8/site-packages/tensorflow/python/framework/op_def_library.py:748\u001b[0m, in \u001b[0;36m_apply_op_helper\u001b[0;34m(op_type_name, name, **keywords)\u001b[0m\n\u001b[1;32m    745\u001b[0m \u001b[38;5;28;01mwith\u001b[39;00m _MaybeColocateWith(must_colocate_inputs):\n\u001b[1;32m    746\u001b[0m   \u001b[38;5;66;03m# Add Op to graph\u001b[39;00m\n\u001b[1;32m    747\u001b[0m   \u001b[38;5;66;03m# pylint: disable=protected-access\u001b[39;00m\n\u001b[0;32m--> 748\u001b[0m   op \u001b[38;5;241m=\u001b[39m \u001b[43mg\u001b[49m\u001b[38;5;241;43m.\u001b[39;49m\u001b[43m_create_op_internal\u001b[49m\u001b[43m(\u001b[49m\u001b[43mop_type_name\u001b[49m\u001b[43m,\u001b[49m\u001b[43m \u001b[49m\u001b[43minputs\u001b[49m\u001b[43m,\u001b[49m\u001b[43m \u001b[49m\u001b[43mdtypes\u001b[49m\u001b[38;5;241;43m=\u001b[39;49m\u001b[38;5;28;43;01mNone\u001b[39;49;00m\u001b[43m,\u001b[49m\n\u001b[1;32m    749\u001b[0m \u001b[43m                             \u001b[49m\u001b[43mname\u001b[49m\u001b[38;5;241;43m=\u001b[39;49m\u001b[43mscope\u001b[49m\u001b[43m,\u001b[49m\u001b[43m \u001b[49m\u001b[43minput_types\u001b[49m\u001b[38;5;241;43m=\u001b[39;49m\u001b[43minput_types\u001b[49m\u001b[43m,\u001b[49m\n\u001b[1;32m    750\u001b[0m \u001b[43m                             \u001b[49m\u001b[43mattrs\u001b[49m\u001b[38;5;241;43m=\u001b[39;49m\u001b[43mattr_protos\u001b[49m\u001b[43m,\u001b[49m\u001b[43m \u001b[49m\u001b[43mop_def\u001b[49m\u001b[38;5;241;43m=\u001b[39;49m\u001b[43mop_def\u001b[49m\u001b[43m)\u001b[49m\n\u001b[1;32m    752\u001b[0m \u001b[38;5;66;03m# `outputs` is returned as a separate return value so that the output\u001b[39;00m\n\u001b[1;32m    753\u001b[0m \u001b[38;5;66;03m# tensors can the `op` per se can be decoupled so that the\u001b[39;00m\n\u001b[1;32m    754\u001b[0m \u001b[38;5;66;03m# `op_callbacks` can function properly. See framework/op_callbacks.py\u001b[39;00m\n\u001b[1;32m    755\u001b[0m \u001b[38;5;66;03m# for more details.\u001b[39;00m\n",
      "File \u001b[0;32m~/anaconda3/lib/python3.8/site-packages/tensorflow/python/framework/func_graph.py:599\u001b[0m, in \u001b[0;36mFuncGraph._create_op_internal\u001b[0;34m(self, op_type, inputs, dtypes, input_types, name, attrs, op_def, compute_device)\u001b[0m\n\u001b[1;32m    598\u001b[0m   captured_inputs\u001b[38;5;241m.\u001b[39mappend(inp)\n\u001b[0;32m--> 599\u001b[0m \u001b[38;5;28;01mreturn\u001b[39;00m \u001b[38;5;28;43msuper\u001b[39;49m\u001b[43m(\u001b[49m\u001b[43mFuncGraph\u001b[49m\u001b[43m,\u001b[49m\u001b[43m \u001b[49m\u001b[38;5;28;43mself\u001b[39;49m\u001b[43m)\u001b[49m\u001b[38;5;241;43m.\u001b[39;49m\u001b[43m_create_op_internal\u001b[49m\u001b[43m(\u001b[49m\u001b[43m  \u001b[49m\u001b[38;5;66;43;03m# pylint: disable=protected-access\u001b[39;49;00m\n\u001b[1;32m    600\u001b[0m \u001b[43m    \u001b[49m\u001b[43mop_type\u001b[49m\u001b[43m,\u001b[49m\u001b[43m \u001b[49m\u001b[43mcaptured_inputs\u001b[49m\u001b[43m,\u001b[49m\u001b[43m \u001b[49m\u001b[43mdtypes\u001b[49m\u001b[43m,\u001b[49m\u001b[43m \u001b[49m\u001b[43minput_types\u001b[49m\u001b[43m,\u001b[49m\u001b[43m \u001b[49m\u001b[43mname\u001b[49m\u001b[43m,\u001b[49m\u001b[43m \u001b[49m\u001b[43mattrs\u001b[49m\u001b[43m,\u001b[49m\u001b[43m \u001b[49m\u001b[43mop_def\u001b[49m\u001b[43m,\u001b[49m\n\u001b[1;32m    601\u001b[0m \u001b[43m    \u001b[49m\u001b[43mcompute_device\u001b[49m\u001b[43m)\u001b[49m\n",
      "File \u001b[0;32m~/anaconda3/lib/python3.8/site-packages/tensorflow/python/framework/ops.py:3557\u001b[0m, in \u001b[0;36mGraph._create_op_internal\u001b[0;34m(self, op_type, inputs, dtypes, input_types, name, attrs, op_def, compute_device)\u001b[0m\n\u001b[1;32m   3556\u001b[0m \u001b[38;5;28;01mwith\u001b[39;00m \u001b[38;5;28mself\u001b[39m\u001b[38;5;241m.\u001b[39m_mutation_lock():\n\u001b[0;32m-> 3557\u001b[0m   ret \u001b[38;5;241m=\u001b[39m \u001b[43mOperation\u001b[49m\u001b[43m(\u001b[49m\n\u001b[1;32m   3558\u001b[0m \u001b[43m      \u001b[49m\u001b[43mnode_def\u001b[49m\u001b[43m,\u001b[49m\n\u001b[1;32m   3559\u001b[0m \u001b[43m      \u001b[49m\u001b[38;5;28;43mself\u001b[39;49m\u001b[43m,\u001b[49m\n\u001b[1;32m   3560\u001b[0m \u001b[43m      \u001b[49m\u001b[43minputs\u001b[49m\u001b[38;5;241;43m=\u001b[39;49m\u001b[43minputs\u001b[49m\u001b[43m,\u001b[49m\n\u001b[1;32m   3561\u001b[0m \u001b[43m      \u001b[49m\u001b[43moutput_types\u001b[49m\u001b[38;5;241;43m=\u001b[39;49m\u001b[43mdtypes\u001b[49m\u001b[43m,\u001b[49m\n\u001b[1;32m   3562\u001b[0m \u001b[43m      \u001b[49m\u001b[43mcontrol_inputs\u001b[49m\u001b[38;5;241;43m=\u001b[39;49m\u001b[43mcontrol_inputs\u001b[49m\u001b[43m,\u001b[49m\n\u001b[1;32m   3563\u001b[0m \u001b[43m      \u001b[49m\u001b[43minput_types\u001b[49m\u001b[38;5;241;43m=\u001b[39;49m\u001b[43minput_types\u001b[49m\u001b[43m,\u001b[49m\n\u001b[1;32m   3564\u001b[0m \u001b[43m      \u001b[49m\u001b[43moriginal_op\u001b[49m\u001b[38;5;241;43m=\u001b[39;49m\u001b[38;5;28;43mself\u001b[39;49m\u001b[38;5;241;43m.\u001b[39;49m\u001b[43m_default_original_op\u001b[49m\u001b[43m,\u001b[49m\n\u001b[1;32m   3565\u001b[0m \u001b[43m      \u001b[49m\u001b[43mop_def\u001b[49m\u001b[38;5;241;43m=\u001b[39;49m\u001b[43mop_def\u001b[49m\u001b[43m)\u001b[49m\n\u001b[1;32m   3566\u001b[0m   \u001b[38;5;28mself\u001b[39m\u001b[38;5;241m.\u001b[39m_create_op_helper(ret, compute_device\u001b[38;5;241m=\u001b[39mcompute_device)\n",
      "File \u001b[0;32m~/anaconda3/lib/python3.8/site-packages/tensorflow/python/framework/ops.py:2041\u001b[0m, in \u001b[0;36mOperation.__init__\u001b[0;34m(self, node_def, g, inputs, output_types, control_inputs, input_types, original_op, op_def)\u001b[0m\n\u001b[1;32m   2040\u001b[0m   op_def \u001b[38;5;241m=\u001b[39m \u001b[38;5;28mself\u001b[39m\u001b[38;5;241m.\u001b[39m_graph\u001b[38;5;241m.\u001b[39m_get_op_def(node_def\u001b[38;5;241m.\u001b[39mop)\n\u001b[0;32m-> 2041\u001b[0m \u001b[38;5;28mself\u001b[39m\u001b[38;5;241m.\u001b[39m_c_op \u001b[38;5;241m=\u001b[39m \u001b[43m_create_c_op\u001b[49m\u001b[43m(\u001b[49m\u001b[38;5;28;43mself\u001b[39;49m\u001b[38;5;241;43m.\u001b[39;49m\u001b[43m_graph\u001b[49m\u001b[43m,\u001b[49m\u001b[43m \u001b[49m\u001b[43mnode_def\u001b[49m\u001b[43m,\u001b[49m\u001b[43m \u001b[49m\u001b[43minputs\u001b[49m\u001b[43m,\u001b[49m\n\u001b[1;32m   2042\u001b[0m \u001b[43m                          \u001b[49m\u001b[43mcontrol_input_ops\u001b[49m\u001b[43m,\u001b[49m\u001b[43m \u001b[49m\u001b[43mop_def\u001b[49m\u001b[43m)\u001b[49m\n\u001b[1;32m   2043\u001b[0m name \u001b[38;5;241m=\u001b[39m compat\u001b[38;5;241m.\u001b[39mas_str(node_def\u001b[38;5;241m.\u001b[39mname)\n",
      "File \u001b[0;32m~/anaconda3/lib/python3.8/site-packages/tensorflow/python/framework/ops.py:1883\u001b[0m, in \u001b[0;36m_create_c_op\u001b[0;34m(graph, node_def, inputs, control_inputs, op_def)\u001b[0m\n\u001b[1;32m   1881\u001b[0m \u001b[38;5;28;01mexcept\u001b[39;00m errors\u001b[38;5;241m.\u001b[39mInvalidArgumentError \u001b[38;5;28;01mas\u001b[39;00m e:\n\u001b[1;32m   1882\u001b[0m   \u001b[38;5;66;03m# Convert to ValueError for backwards compatibility.\u001b[39;00m\n\u001b[0;32m-> 1883\u001b[0m   \u001b[38;5;28;01mraise\u001b[39;00m \u001b[38;5;167;01mValueError\u001b[39;00m(\u001b[38;5;28mstr\u001b[39m(e))\n\u001b[1;32m   1885\u001b[0m \u001b[38;5;28;01mreturn\u001b[39;00m c_op\n",
      "\u001b[0;31mValueError\u001b[0m: Negative dimension size caused by subtracting 70 from 65 for '{{node C7/conv1d}} = Conv2D[T=DT_FLOAT, data_format=\"NHWC\", dilations=[1, 1, 1, 1], explicit_paddings=[], padding=\"VALID\", strides=[1, 1, 1, 1], use_cudnn_on_gpu=true](C7/conv1d/ExpandDims, C7/conv1d/ExpandDims_1)' with input shapes: [?,1,65,3], [1,70,3,3].",
      "\nDuring handling of the above exception, another exception occurred:\n",
      "\u001b[0;31mRuntimeError\u001b[0m                              Traceback (most recent call last)",
      "Input \u001b[0;32mIn [57]\u001b[0m, in \u001b[0;36m<cell line: 2>\u001b[0;34m()\u001b[0m\n\u001b[1;32m      1\u001b[0m \u001b[38;5;66;03m# tuner.search(X, y, epochs=200, validation_split=0.3, callbacks=[stop_early])\u001b[39;00m\n\u001b[0;32m----> 2\u001b[0m \u001b[43mtuner\u001b[49m\u001b[38;5;241;43m.\u001b[39;49m\u001b[43msearch\u001b[49m\u001b[43m(\u001b[49m\u001b[43mnp\u001b[49m\u001b[38;5;241;43m.\u001b[39;49m\u001b[43mexpand_dims\u001b[49m\u001b[43m(\u001b[49m\u001b[43mX\u001b[49m\u001b[43m,\u001b[49m\u001b[43m \u001b[49m\u001b[43maxis\u001b[49m\u001b[38;5;241;43m=\u001b[39;49m\u001b[38;5;241;43m-\u001b[39;49m\u001b[38;5;241;43m1\u001b[39;49m\u001b[43m)\u001b[49m\u001b[43m,\u001b[49m\u001b[43m \u001b[49m\u001b[43my\u001b[49m\u001b[43m,\u001b[49m\u001b[43m \u001b[49m\u001b[43mepochs\u001b[49m\u001b[38;5;241;43m=\u001b[39;49m\u001b[38;5;241;43m50\u001b[39;49m\u001b[43m,\u001b[49m\u001b[43m \u001b[49m\u001b[43mvalidation_data\u001b[49m\u001b[38;5;241;43m=\u001b[39;49m\u001b[43m(\u001b[49m\u001b[43mx_test\u001b[49m\u001b[43m,\u001b[49m\u001b[43m \u001b[49m\u001b[43my_test\u001b[49m\u001b[43m)\u001b[49m\u001b[43m,\u001b[49m\u001b[43m \u001b[49m\u001b[43mcallbacks\u001b[49m\u001b[38;5;241;43m=\u001b[39;49m\u001b[43m[\u001b[49m\u001b[43m]\u001b[49m\u001b[43m)\u001b[49m\n\u001b[1;32m      5\u001b[0m \u001b[38;5;66;03m# Get the optimal hyperparameters\u001b[39;00m\n\u001b[1;32m      6\u001b[0m best_hps\u001b[38;5;241m=\u001b[39mtuner\u001b[38;5;241m.\u001b[39mget_best_hyperparameters(num_trials\u001b[38;5;241m=\u001b[39m\u001b[38;5;241m2\u001b[39m)[\u001b[38;5;241m0\u001b[39m]\n",
      "File \u001b[0;32m~/anaconda3/lib/python3.8/site-packages/keras_tuner/engine/base_tuner.py:179\u001b[0m, in \u001b[0;36mBaseTuner.search\u001b[0;34m(self, *fit_args, **fit_kwargs)\u001b[0m\n\u001b[1;32m    176\u001b[0m     \u001b[38;5;28;01mcontinue\u001b[39;00m\n\u001b[1;32m    178\u001b[0m \u001b[38;5;28mself\u001b[39m\u001b[38;5;241m.\u001b[39mon_trial_begin(trial)\n\u001b[0;32m--> 179\u001b[0m results \u001b[38;5;241m=\u001b[39m \u001b[38;5;28;43mself\u001b[39;49m\u001b[38;5;241;43m.\u001b[39;49m\u001b[43mrun_trial\u001b[49m\u001b[43m(\u001b[49m\u001b[43mtrial\u001b[49m\u001b[43m,\u001b[49m\u001b[43m \u001b[49m\u001b[38;5;241;43m*\u001b[39;49m\u001b[43mfit_args\u001b[49m\u001b[43m,\u001b[49m\u001b[43m \u001b[49m\u001b[38;5;241;43m*\u001b[39;49m\u001b[38;5;241;43m*\u001b[39;49m\u001b[43mfit_kwargs\u001b[49m\u001b[43m)\u001b[49m\n\u001b[1;32m    180\u001b[0m \u001b[38;5;66;03m# `results` is None indicates user updated oracle in `run_trial()`.\u001b[39;00m\n\u001b[1;32m    181\u001b[0m \u001b[38;5;28;01mif\u001b[39;00m results \u001b[38;5;129;01mis\u001b[39;00m \u001b[38;5;28;01mNone\u001b[39;00m:\n",
      "File \u001b[0;32m~/anaconda3/lib/python3.8/site-packages/keras_tuner/tuners/hyperband.py:384\u001b[0m, in \u001b[0;36mHyperband.run_trial\u001b[0;34m(self, trial, *fit_args, **fit_kwargs)\u001b[0m\n\u001b[1;32m    382\u001b[0m     fit_kwargs[\u001b[38;5;124m\"\u001b[39m\u001b[38;5;124mepochs\u001b[39m\u001b[38;5;124m\"\u001b[39m] \u001b[38;5;241m=\u001b[39m hp\u001b[38;5;241m.\u001b[39mvalues[\u001b[38;5;124m\"\u001b[39m\u001b[38;5;124mtuner/epochs\u001b[39m\u001b[38;5;124m\"\u001b[39m]\n\u001b[1;32m    383\u001b[0m     fit_kwargs[\u001b[38;5;124m\"\u001b[39m\u001b[38;5;124minitial_epoch\u001b[39m\u001b[38;5;124m\"\u001b[39m] \u001b[38;5;241m=\u001b[39m hp\u001b[38;5;241m.\u001b[39mvalues[\u001b[38;5;124m\"\u001b[39m\u001b[38;5;124mtuner/initial_epoch\u001b[39m\u001b[38;5;124m\"\u001b[39m]\n\u001b[0;32m--> 384\u001b[0m \u001b[38;5;28;01mreturn\u001b[39;00m \u001b[38;5;28;43msuper\u001b[39;49m\u001b[43m(\u001b[49m\u001b[43mHyperband\u001b[49m\u001b[43m,\u001b[49m\u001b[43m \u001b[49m\u001b[38;5;28;43mself\u001b[39;49m\u001b[43m)\u001b[49m\u001b[38;5;241;43m.\u001b[39;49m\u001b[43mrun_trial\u001b[49m\u001b[43m(\u001b[49m\u001b[43mtrial\u001b[49m\u001b[43m,\u001b[49m\u001b[43m \u001b[49m\u001b[38;5;241;43m*\u001b[39;49m\u001b[43mfit_args\u001b[49m\u001b[43m,\u001b[49m\u001b[43m \u001b[49m\u001b[38;5;241;43m*\u001b[39;49m\u001b[38;5;241;43m*\u001b[39;49m\u001b[43mfit_kwargs\u001b[49m\u001b[43m)\u001b[49m\n",
      "File \u001b[0;32m~/anaconda3/lib/python3.8/site-packages/keras_tuner/engine/tuner.py:294\u001b[0m, in \u001b[0;36mTuner.run_trial\u001b[0;34m(self, trial, *args, **kwargs)\u001b[0m\n\u001b[1;32m    292\u001b[0m     callbacks\u001b[38;5;241m.\u001b[39mappend(model_checkpoint)\n\u001b[1;32m    293\u001b[0m     copied_kwargs[\u001b[38;5;124m\"\u001b[39m\u001b[38;5;124mcallbacks\u001b[39m\u001b[38;5;124m\"\u001b[39m] \u001b[38;5;241m=\u001b[39m callbacks\n\u001b[0;32m--> 294\u001b[0m     obj_value \u001b[38;5;241m=\u001b[39m \u001b[38;5;28;43mself\u001b[39;49m\u001b[38;5;241;43m.\u001b[39;49m\u001b[43m_build_and_fit_model\u001b[49m\u001b[43m(\u001b[49m\u001b[43mtrial\u001b[49m\u001b[43m,\u001b[49m\u001b[43m \u001b[49m\u001b[38;5;241;43m*\u001b[39;49m\u001b[43margs\u001b[49m\u001b[43m,\u001b[49m\u001b[43m \u001b[49m\u001b[38;5;241;43m*\u001b[39;49m\u001b[38;5;241;43m*\u001b[39;49m\u001b[43mcopied_kwargs\u001b[49m\u001b[43m)\u001b[49m\n\u001b[1;32m    296\u001b[0m     histories\u001b[38;5;241m.\u001b[39mappend(obj_value)\n\u001b[1;32m    297\u001b[0m \u001b[38;5;28;01mreturn\u001b[39;00m histories\n",
      "File \u001b[0;32m~/anaconda3/lib/python3.8/site-packages/keras_tuner/engine/tuner.py:221\u001b[0m, in \u001b[0;36mTuner._build_and_fit_model\u001b[0;34m(self, trial, *args, **kwargs)\u001b[0m\n\u001b[1;32m    203\u001b[0m \u001b[38;5;124;03m\"\"\"For AutoKeras to override.\u001b[39;00m\n\u001b[1;32m    204\u001b[0m \n\u001b[1;32m    205\u001b[0m \u001b[38;5;124;03mDO NOT REMOVE this function. AutoKeras overrides the function to tune\u001b[39;00m\n\u001b[0;32m   (...)\u001b[0m\n\u001b[1;32m    218\u001b[0m \u001b[38;5;124;03m    The fit history.\u001b[39;00m\n\u001b[1;32m    219\u001b[0m \u001b[38;5;124;03m\"\"\"\u001b[39;00m\n\u001b[1;32m    220\u001b[0m hp \u001b[38;5;241m=\u001b[39m trial\u001b[38;5;241m.\u001b[39mhyperparameters\n\u001b[0;32m--> 221\u001b[0m model \u001b[38;5;241m=\u001b[39m \u001b[38;5;28;43mself\u001b[39;49m\u001b[38;5;241;43m.\u001b[39;49m\u001b[43m_try_build\u001b[49m\u001b[43m(\u001b[49m\u001b[43mhp\u001b[49m\u001b[43m)\u001b[49m\n\u001b[1;32m    222\u001b[0m results \u001b[38;5;241m=\u001b[39m \u001b[38;5;28mself\u001b[39m\u001b[38;5;241m.\u001b[39mhypermodel\u001b[38;5;241m.\u001b[39mfit(hp, model, \u001b[38;5;241m*\u001b[39margs, \u001b[38;5;241m*\u001b[39m\u001b[38;5;241m*\u001b[39mkwargs)\n\u001b[1;32m    223\u001b[0m \u001b[38;5;28;01mreturn\u001b[39;00m tuner_utils\u001b[38;5;241m.\u001b[39mconvert_to_metrics_dict(\n\u001b[1;32m    224\u001b[0m     results, \u001b[38;5;28mself\u001b[39m\u001b[38;5;241m.\u001b[39moracle\u001b[38;5;241m.\u001b[39mobjective, \u001b[38;5;124m\"\u001b[39m\u001b[38;5;124mHyperModel.fit()\u001b[39m\u001b[38;5;124m\"\u001b[39m\n\u001b[1;32m    225\u001b[0m )\n",
      "File \u001b[0;32m~/anaconda3/lib/python3.8/site-packages/keras_tuner/engine/tuner.py:166\u001b[0m, in \u001b[0;36mTuner._try_build\u001b[0;34m(self, hp)\u001b[0m\n\u001b[1;32m    163\u001b[0m     \u001b[38;5;28mprint\u001b[39m(\u001b[38;5;124m\"\u001b[39m\u001b[38;5;124mInvalid model \u001b[39m\u001b[38;5;132;01m%s\u001b[39;00m\u001b[38;5;124m/\u001b[39m\u001b[38;5;132;01m%s\u001b[39;00m\u001b[38;5;124m\"\u001b[39m \u001b[38;5;241m%\u001b[39m (i, MAX_FAIL_STREAK))\n\u001b[1;32m    165\u001b[0m     \u001b[38;5;28;01mif\u001b[39;00m i \u001b[38;5;241m==\u001b[39m MAX_FAIL_STREAK:\n\u001b[0;32m--> 166\u001b[0m         \u001b[38;5;28;01mraise\u001b[39;00m \u001b[38;5;167;01mRuntimeError\u001b[39;00m(\u001b[38;5;124m\"\u001b[39m\u001b[38;5;124mToo many failed attempts to build model.\u001b[39m\u001b[38;5;124m\"\u001b[39m)\n\u001b[1;32m    167\u001b[0m     \u001b[38;5;28;01mcontinue\u001b[39;00m\n\u001b[1;32m    169\u001b[0m \u001b[38;5;66;03m# Stop if `build()` does not return a valid model.\u001b[39;00m\n",
      "\u001b[0;31mRuntimeError\u001b[0m: Too many failed attempts to build model."
     ]
    }
   ],
   "source": [
    "# tuner.search(X, y, epochs=200, validation_split=0.3, callbacks=[stop_early])\n",
    "tuner.search(np.expand_dims(X, axis=-1), y, epochs=50, validation_data=(x_test, y_test), callbacks=[])\n",
    "\n",
    "\n",
    "# Get the optimal hyperparameters\n",
    "best_hps=tuner.get_best_hyperparameters(num_trials=2)[0]"
   ]
  },
  {
   "cell_type": "code",
   "execution_count": 45,
   "id": "e725583c",
   "metadata": {},
   "outputs": [
    {
     "name": "stdout",
     "output_type": "stream",
     "text": [
      "The hyperparameter search is complete.\n"
     ]
    },
    {
     "ename": "NameError",
     "evalue": "name 'best_hps' is not defined",
     "output_type": "error",
     "traceback": [
      "\u001b[0;31m---------------------------------------------------------------------------\u001b[0m",
      "\u001b[0;31mNameError\u001b[0m                                 Traceback (most recent call last)",
      "Input \u001b[0;32mIn [45]\u001b[0m, in \u001b[0;36m<cell line: 12>\u001b[0;34m()\u001b[0m\n\u001b[1;32m      1\u001b[0m \u001b[38;5;28mprint\u001b[39m(\u001b[38;5;124m\"\"\"\u001b[39m\u001b[38;5;124mThe hyperparameter search is complete.\u001b[39m\u001b[38;5;124m\"\"\"\u001b[39m)\n\u001b[1;32m      2\u001b[0m \u001b[38;5;66;03m# print(f\"\"\"\u001b[39;00m\n\u001b[1;32m      3\u001b[0m \u001b[38;5;66;03m# hp_filters_1= {best_hps.get('filters')}\u001b[39;00m\n\u001b[1;32m      4\u001b[0m \u001b[38;5;66;03m# hp_kernel_size= {best_hps.get('kernel_size')}\u001b[39;00m\n\u001b[0;32m   (...)\u001b[0m\n\u001b[1;32m      9\u001b[0m \u001b[38;5;66;03m# hp_learning_rate =  {best_hps.get('learning_rate')}\u001b[39;00m\n\u001b[1;32m     10\u001b[0m \u001b[38;5;66;03m# \"\"\")\u001b[39;00m\n\u001b[1;32m     12\u001b[0m \u001b[38;5;28mprint\u001b[39m(\u001b[38;5;124mf\u001b[39m\u001b[38;5;124m\"\"\"\u001b[39m\n\u001b[0;32m---> 13\u001b[0m \u001b[38;5;124mhp_filters= \u001b[39m\u001b[38;5;132;01m{\u001b[39;00mbest_hps\u001b[38;5;241m.\u001b[39mget(\u001b[38;5;124m'\u001b[39m\u001b[38;5;124mfilters\u001b[39m\u001b[38;5;124m'\u001b[39m)\u001b[38;5;132;01m}\u001b[39;00m\n\u001b[1;32m     14\u001b[0m \n\u001b[1;32m     15\u001b[0m \n\u001b[1;32m     16\u001b[0m \u001b[38;5;124mhp_units= \u001b[39m\u001b[38;5;132;01m{\u001b[39;00mbest_hps\u001b[38;5;241m.\u001b[39mget(\u001b[38;5;124m'\u001b[39m\u001b[38;5;124munits\u001b[39m\u001b[38;5;124m'\u001b[39m)\u001b[38;5;132;01m}\u001b[39;00m\n\u001b[1;32m     17\u001b[0m \n\u001b[1;32m     18\u001b[0m \u001b[38;5;124mhp_learning_rate =  \u001b[39m\u001b[38;5;132;01m{\u001b[39;00mbest_hps\u001b[38;5;241m.\u001b[39mget(\u001b[38;5;124m'\u001b[39m\u001b[38;5;124mlearning_rate\u001b[39m\u001b[38;5;124m'\u001b[39m)\u001b[38;5;132;01m}\u001b[39;00m\n\u001b[1;32m     19\u001b[0m \u001b[38;5;124m\"\"\"\u001b[39m)\n",
      "\u001b[0;31mNameError\u001b[0m: name 'best_hps' is not defined"
     ]
    }
   ],
   "source": [
    "print(\"\"\"The hyperparameter search is complete.\"\"\")\n",
    "# print(f\"\"\"\n",
    "# hp_filters_1= {best_hps.get('filters')}\n",
    "# hp_kernel_size= {best_hps.get('kernel_size')}\n",
    "# hp_pool_size= {best_hps.get('pool_size')}\n",
    "# hp_stride_size={best_hps.get('stride_size')}\n",
    "# hp_units= {best_hps.get('units')}\n",
    "# hp_dropout = {best_hps.get('dropout')}\n",
    "# hp_learning_rate =  {best_hps.get('learning_rate')}\n",
    "# \"\"\")\n",
    "\n",
    "print(f\"\"\"\n",
    "hp_filters= {best_hps.get('filters')}\n",
    "\n",
    "\n",
    "hp_units= {best_hps.get('units')}\n",
    "\n",
    "hp_learning_rate =  {best_hps.get('learning_rate')}\n",
    "\"\"\")\n",
    "\n"
   ]
  },
  {
   "cell_type": "code",
   "execution_count": null,
   "id": "afdba260",
   "metadata": {},
   "outputs": [],
   "source": []
  },
  {
   "cell_type": "code",
   "execution_count": null,
   "id": "4a24b455",
   "metadata": {},
   "outputs": [],
   "source": [
    "best_hps.space"
   ]
  },
  {
   "cell_type": "code",
   "execution_count": null,
   "id": "77310f62",
   "metadata": {},
   "outputs": [],
   "source": []
  },
  {
   "cell_type": "code",
   "execution_count": null,
   "id": "0b4ded6f",
   "metadata": {},
   "outputs": [],
   "source": []
  },
  {
   "cell_type": "code",
   "execution_count": null,
   "id": "5f7c73f9",
   "metadata": {},
   "outputs": [],
   "source": [
    "# Build the model with the optimal hyperparameters and train it on the data for 50 epochs\n",
    "model = tuner.hypermodel.build(best_hps)\n",
    "history = model.fit(x_train, y_train, epochs=200, validation_data=(x_test, y_test))\n",
    "\n",
    "val_acc_per_epoch = history.history['val_accuracy']\n",
    "best_epoch = val_acc_per_epoch.index(max(val_acc_per_epoch)) + 1\n",
    "print('Best epoch: %d' % (best_epoch,))"
   ]
  },
  {
   "cell_type": "code",
   "execution_count": null,
   "id": "65620ad0",
   "metadata": {},
   "outputs": [],
   "source": []
  }
 ],
 "metadata": {
  "kernelspec": {
   "display_name": "Python 3 (ipykernel)",
   "language": "python",
   "name": "python3"
  },
  "language_info": {
   "codemirror_mode": {
    "name": "ipython",
    "version": 3
   },
   "file_extension": ".py",
   "mimetype": "text/x-python",
   "name": "python",
   "nbconvert_exporter": "python",
   "pygments_lexer": "ipython3",
   "version": "3.8.8"
  }
 },
 "nbformat": 4,
 "nbformat_minor": 5
}
