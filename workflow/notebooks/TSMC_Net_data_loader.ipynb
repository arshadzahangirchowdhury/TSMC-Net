{
 "cells": [
  {
   "cell_type": "markdown",
   "id": "9472f796",
   "metadata": {},
   "source": [
    "# Spectra loader for TSMC-Net.\n",
    "\n"
   ]
  },
  {
   "cell_type": "code",
   "execution_count": 2,
   "id": "4031617b",
   "metadata": {
    "scrolled": true
   },
   "outputs": [
    {
     "name": "stderr",
     "output_type": "stream",
     "text": [
      "2022-09-05 17:46:25.009282: I tensorflow/stream_executor/platform/default/dso_loader.cc:53] Successfully opened dynamic library libcudart.so.11.0\n",
      "2022-09-05 17:46:26.053857: I tensorflow/stream_executor/platform/default/dso_loader.cc:53] Successfully opened dynamic library libcuda.so.1\n",
      "2022-09-05 17:46:26.081847: I tensorflow/core/common_runtime/gpu/gpu_device.cc:1733] Found device 0 with properties: \n",
      "pciBusID: 0000:65:00.0 name: Quadro RTX 4000 computeCapability: 7.5\n",
      "coreClock: 1.545GHz coreCount: 36 deviceMemorySize: 7.79GiB deviceMemoryBandwidth: 387.49GiB/s\n",
      "2022-09-05 17:46:26.081897: I tensorflow/stream_executor/platform/default/dso_loader.cc:53] Successfully opened dynamic library libcudart.so.11.0\n",
      "2022-09-05 17:46:26.087042: I tensorflow/stream_executor/platform/default/dso_loader.cc:53] Successfully opened dynamic library libcublas.so.11\n",
      "2022-09-05 17:46:26.087241: I tensorflow/stream_executor/platform/default/dso_loader.cc:53] Successfully opened dynamic library libcublasLt.so.11\n",
      "2022-09-05 17:46:26.088636: I tensorflow/stream_executor/platform/default/dso_loader.cc:53] Successfully opened dynamic library libcufft.so.10\n",
      "2022-09-05 17:46:26.089094: I tensorflow/stream_executor/platform/default/dso_loader.cc:53] Successfully opened dynamic library libcurand.so.10\n",
      "2022-09-05 17:46:26.089941: I tensorflow/stream_executor/platform/default/dso_loader.cc:53] Successfully opened dynamic library libcusolver.so.11\n",
      "2022-09-05 17:46:26.090933: I tensorflow/stream_executor/platform/default/dso_loader.cc:53] Successfully opened dynamic library libcusparse.so.11\n",
      "2022-09-05 17:46:26.091090: I tensorflow/stream_executor/platform/default/dso_loader.cc:53] Successfully opened dynamic library libcudnn.so.8\n",
      "2022-09-05 17:46:26.091789: I tensorflow/core/common_runtime/gpu/gpu_device.cc:1871] Adding visible gpu devices: 0\n",
      "2022-09-05 17:46:26.092545: I tensorflow/core/platform/cpu_feature_guard.cc:142] This TensorFlow binary is optimized with oneAPI Deep Neural Network Library (oneDNN) to use the following CPU instructions in performance-critical operations:  AVX2 AVX512F FMA\n",
      "To enable them in other operations, rebuild TensorFlow with the appropriate compiler flags.\n",
      "2022-09-05 17:46:26.093404: I tensorflow/core/common_runtime/gpu/gpu_device.cc:1733] Found device 0 with properties: \n",
      "pciBusID: 0000:65:00.0 name: Quadro RTX 4000 computeCapability: 7.5\n",
      "coreClock: 1.545GHz coreCount: 36 deviceMemorySize: 7.79GiB deviceMemoryBandwidth: 387.49GiB/s\n",
      "2022-09-05 17:46:26.093904: I tensorflow/core/common_runtime/gpu/gpu_device.cc:1871] Adding visible gpu devices: 0\n",
      "2022-09-05 17:46:26.093958: I tensorflow/stream_executor/platform/default/dso_loader.cc:53] Successfully opened dynamic library libcudart.so.11.0\n",
      "2022-09-05 17:46:26.549019: I tensorflow/core/common_runtime/gpu/gpu_device.cc:1258] Device interconnect StreamExecutor with strength 1 edge matrix:\n",
      "2022-09-05 17:46:26.549044: I tensorflow/core/common_runtime/gpu/gpu_device.cc:1264]      0 \n",
      "2022-09-05 17:46:26.549049: I tensorflow/core/common_runtime/gpu/gpu_device.cc:1277] 0:   N \n",
      "2022-09-05 17:46:26.549790: I tensorflow/core/common_runtime/gpu/gpu_device.cc:1418] Created TensorFlow device (/job:localhost/replica:0/task:0/device:GPU:0 with 105 MB memory) -> physical GPU (device: 0, name: Quadro RTX 4000, pci bus id: 0000:65:00.0, compute capability: 7.5)\n"
     ]
    }
   ],
   "source": [
    "%matplotlib inline \n",
    "import matplotlib as mpl\n",
    "import matplotlib.pyplot as plt\n",
    "from matplotlib.pyplot import figure\n",
    "from matplotlib.ticker import MaxNLocator\n",
    "import numpy as np\n",
    "from numpy import asarray\n",
    "import pandas as pd\n",
    "import math\n",
    "import seaborn as sns  #heat map\n",
    "import glob # batch processing of images\n",
    "\n",
    "\n",
    "import matplotlib.font_manager as fm\n",
    "import random\n",
    "import sys\n",
    "import os\n",
    "\n",
    "from sklearn.datasets import make_regression\n",
    "import tensorflow as tf\n",
    "from sklearn.metrics import confusion_matrix    #confusion matrix\n",
    "from tensorflow.keras.models import Sequential\n",
    "from tensorflow.keras.layers import Dense\n",
    "\n",
    "# Collect all the font names available to matplotlib\n",
    "font_names = [f.name for f in fm.fontManager.ttflist]\n",
    "# print(font_names)\n",
    "\n",
    "from scipy import signal\n",
    "from scipy import interpolate\n",
    "\n",
    "from sklearn.preprocessing import LabelBinarizer\n",
    "from sklearn.metrics import roc_curve \n",
    "from sklearn.metrics import auc\n",
    "from sklearn.metrics import roc_auc_score\n",
    "\n",
    "\n",
    "from sklearn.gaussian_process import GaussianProcessRegressor\n",
    "from sklearn.gaussian_process.kernels import DotProduct, WhiteKernel\n",
    "from sklearn.gaussian_process.kernels import RBF\n",
    "\n",
    "#Sklearn model saving and loading\n",
    "from joblib import dump, load\n",
    "\n",
    "if '../../' not in sys.path:\n",
    "    sys.path.append('../../')\n",
    "\n",
    "from aimos.spectral_datasets.THz_datasets import THz_data\n",
    "\n",
    "from aimos.misc.utils import simple_plotter\n",
    "\n",
    "\n",
    "#Set random seed\n",
    "os.environ['PYTHONHASHSEED'] = str(42)\n",
    "os.environ['TF_DETERMINISTIC_OPS'] = '1'\n",
    "tf.random.set_seed(42)  \n",
    "tf.random.get_global_generator().reset_from_seed(42)\n",
    "np.random.seed(42)\n",
    "random.seed(42)\n",
    "\n"
   ]
  },
  {
   "cell_type": "code",
   "execution_count": 3,
   "id": "50dd6abf",
   "metadata": {},
   "outputs": [],
   "source": [
    "from oneida import THz_mixture_data\n",
    "from oneida_utils import concentrations_to_one_hot_encode, create_mixture_names"
   ]
  },
  {
   "cell_type": "markdown",
   "id": "b47e9f5e",
   "metadata": {},
   "source": [
    "# Retrieve training(D)+ validation(V) mixtures and its variables"
   ]
  },
  {
   "cell_type": "code",
   "execution_count": 4,
   "id": "f4fd26ba",
   "metadata": {},
   "outputs": [
    {
     "name": "stdout",
     "output_type": "stream",
     "text": [
      "Components :  [[0 1 2 3 4 5]]\n",
      "Components shape :  (1, 6)\n",
      "['$CH_3CHO$', '$CH_3Cl$', '$CH_3CN$', '$CH_3OH$', '$HNO_3$']\n"
     ]
    }
   ],
   "source": [
    "m = THz_mixture_data(resolution=0.016, pressure='1 Torr', verbosity=False)\n",
    "m.initiate_THz_mixture_data()\n",
    "\n",
    "reduced_labels = m.labels\n",
    "reduced_labels.remove('')\n",
    "reduced_labels.remove(' ')\n",
    "reduced_labels.remove('Diluent')\n",
    "print(reduced_labels)\n",
    "\n"
   ]
  },
  {
   "cell_type": "code",
   "execution_count": 5,
   "id": "e45c708e",
   "metadata": {},
   "outputs": [
    {
     "name": "stdout",
     "output_type": "stream",
     "text": [
      "31\n"
     ]
    }
   ],
   "source": [
    "import operator as op\n",
    "from functools import reduce\n",
    "\n",
    "def ncr(n, r):\n",
    "    r = min(r, n-r)\n",
    "    numer = reduce(op.mul, range(n, n-r, -1), 1)\n",
    "    denom = reduce(op.mul, range(1, r+1), 1)\n",
    "    return numer // denom  # or / in Python 2\n",
    "\n",
    "n_compounds = m.n_compounds\n",
    "unique_mixture_numbers = ncr(n_compounds,1) + ncr(n_compounds,2) + ncr(n_compounds,3) + ncr(n_compounds,4) + ncr(n_compounds,5) \n",
    "# unique_mixture_numbers = ncr(n_compounds,1) + ncr(n_compounds,2) + ncr(n_compounds,3) + ncr(n_compounds,4) + ncr(n_compounds,5) + ncr(n_compounds,6) + ncr(n_compounds,7) +ncr(n_compounds,8) + ncr(n_compounds,9) + ncr(n_compounds,10) + ncr(n_compounds,11) + ncr(n_compounds,12)\n",
    "print(unique_mixture_numbers)"
   ]
  },
  {
   "cell_type": "code",
   "execution_count": 6,
   "id": "1e21f634",
   "metadata": {},
   "outputs": [],
   "source": [
    "DV = pd.read_pickle(\"datasets/TSMCN-5-L-229_DV_04-09-2022_time_22-26-37.pkl\")"
   ]
  },
  {
   "cell_type": "code",
   "execution_count": 7,
   "id": "6bbfe0f9",
   "metadata": {},
   "outputs": [
    {
     "data": {
      "text/plain": [
       "Index([              0,               1,               2,               3,\n",
       "                     4,               5,               6,               7,\n",
       "                     8,               9,\n",
       "       ...\n",
       "                   226,             227,             228,             'y',\n",
       "       'mixture_names',          'y_c0',          'y_c1',          'y_c2',\n",
       "                'y_c3',          'y_c4'],\n",
       "      dtype='object', length=236)"
      ]
     },
     "execution_count": 7,
     "metadata": {},
     "output_type": "execute_result"
    }
   ],
   "source": [
    "DV.columns"
   ]
  },
  {
   "cell_type": "code",
   "execution_count": 8,
   "id": "88fd625f",
   "metadata": {},
   "outputs": [],
   "source": [
    "y = DV['y'].to_numpy()\n",
    "mixture_names = DV['mixture_names'].to_numpy()\n",
    "y_concentrations = DV[['y_c0', 'y_c1', 'y_c2','y_c3', 'y_c4']].to_numpy()\n",
    "X = DV.drop(['y','mixture_names', 'y_c0', 'y_c1', 'y_c2','y_c3', 'y_c4'],axis=1).to_numpy()"
   ]
  },
  {
   "cell_type": "code",
   "execution_count": 9,
   "id": "d23c34a2",
   "metadata": {},
   "outputs": [
    {
     "name": "stdout",
     "output_type": "stream",
     "text": [
      "31\n"
     ]
    }
   ],
   "source": [
    "final_neuron_number = np.unique(y, axis=0).shape[0]\n",
    "print(final_neuron_number)"
   ]
  },
  {
   "cell_type": "markdown",
   "id": "cc09995e",
   "metadata": {},
   "source": [
    "# preview one test mixture spectra using simple plotter"
   ]
  },
  {
   "cell_type": "code",
   "execution_count": 10,
   "id": "c70228be",
   "metadata": {},
   "outputs": [
    {
     "data": {
      "text/plain": [
       "['$CH_3CHO$', '$CH_3Cl$', '$CH_3CN$', '$CH_3OH$', '$HNO_3$']"
      ]
     },
     "execution_count": 10,
     "metadata": {},
     "output_type": "execute_result"
    }
   ],
   "source": [
    "m.labels"
   ]
  },
  {
   "cell_type": "code",
   "execution_count": 11,
   "id": "1bfcb777",
   "metadata": {},
   "outputs": [
    {
     "data": {
      "image/png": "[encoded data removed]",
      "text/plain": [
       "<Figure size 600x210 with 1 Axes>"
      ]
     },
     "metadata": {
      "needs_background": "light"
     },
     "output_type": "display_data"
    },
    {
     "name": "stdout",
     "output_type": "stream",
     "text": [
      "[0.054471740705492586 0.09497894560913117 0.0 0.05892703383510154\n",
      " 0.058579141816225526]\n",
      "['$CH_3CHO$', '$CH_3Cl$', '$CH_3CN$', '$CH_3OH$', '$HNO_3$']\n"
     ]
    }
   ],
   "source": [
    "idx = 22200\n",
    "simple_plotter(m.frequencies,X[idx],linewidth=0.5,color='black',label=mixture_names[idx], \n",
    "                   majorsize=6,minorsize=2,width=1, labelsize=8,legendsize=3, legendloc=2,  \n",
    "                   labelpad=4,fontsize='medium',fontweight='bold',\n",
    "                  xmajormplloc=0.5,xminormplloc=0.2, tickdirection='out')\n",
    "\n",
    "print(y_concentrations[idx])\n",
    "print(reduced_labels)"
   ]
  },
  {
   "cell_type": "code",
   "execution_count": 13,
   "id": "3eec9bde",
   "metadata": {},
   "outputs": [
    {
     "name": "stdout",
     "output_type": "stream",
     "text": [
      "['$CH_3CHO$' '$CH_3CHO$+$CH_3CN$' '$CH_3CHO$+$CH_3CN$+$CH_3OH$'\n",
      " '$CH_3CHO$+$CH_3CN$+$CH_3OH$+$HNO_3$' '$CH_3CHO$+$CH_3CN$+$HNO_3$'\n",
      " '$CH_3CHO$+$CH_3Cl$' '$CH_3CHO$+$CH_3Cl$+$CH_3CN$'\n",
      " '$CH_3CHO$+$CH_3Cl$+$CH_3CN$+$CH_3OH$'\n",
      " '$CH_3CHO$+$CH_3Cl$+$CH_3CN$+$CH_3OH$+$HNO_3$'\n",
      " '$CH_3CHO$+$CH_3Cl$+$CH_3CN$+$HNO_3$' '$CH_3CHO$+$CH_3Cl$+$CH_3OH$'\n",
      " '$CH_3CHO$+$CH_3Cl$+$CH_3OH$+$HNO_3$' '$CH_3CHO$+$CH_3Cl$+$HNO_3$'\n",
      " '$CH_3CHO$+$CH_3OH$' '$CH_3CHO$+$CH_3OH$+$HNO_3$' '$CH_3CHO$+$HNO_3$'\n",
      " '$CH_3CN$' '$CH_3CN$+$CH_3OH$' '$CH_3CN$+$CH_3OH$+$HNO_3$'\n",
      " '$CH_3CN$+$HNO_3$' '$CH_3Cl$' '$CH_3Cl$+$CH_3CN$'\n",
      " '$CH_3Cl$+$CH_3CN$+$CH_3OH$' '$CH_3Cl$+$CH_3CN$+$CH_3OH$+$HNO_3$'\n",
      " '$CH_3Cl$+$CH_3CN$+$HNO_3$' '$CH_3Cl$+$CH_3OH$'\n",
      " '$CH_3Cl$+$CH_3OH$+$HNO_3$' '$CH_3Cl$+$HNO_3$' '$CH_3OH$'\n",
      " '$CH_3OH$+$HNO_3$' '$HNO_3$']\n"
     ]
    }
   ],
   "source": [
    "\n",
    "\n",
    "from sklearn import preprocessing\n",
    "\n",
    "le = preprocessing.LabelEncoder()\n",
    "le.fit(mixture_names)\n",
    "\n",
    "mixture_types=le.classes_\n",
    "print(mixture_types)"
   ]
  },
  {
   "cell_type": "code",
   "execution_count": 14,
   "id": "4da5e9cf",
   "metadata": {},
   "outputs": [
    {
     "data": {
      "image/png": "[encoded data removed]",
      "text/plain": [
       "<Figure size 432x288 with 1 Axes>"
      ]
     },
     "metadata": {
      "needs_background": "light"
     },
     "output_type": "display_data"
    }
   ],
   "source": [
    "#see distribution of counts of different types of mixtures.\n",
    "plt.barh(mixture_types,np.bincount(y))\n",
    "plt.xticks(rotation=90);\n",
    "plt.xticks(rotation=0);"
   ]
  },
  {
   "cell_type": "code",
   "execution_count": 15,
   "id": "f19f87ff",
   "metadata": {},
   "outputs": [
    {
     "name": "stdout",
     "output_type": "stream",
     "text": [
      "range(0, 62000)\n",
      "X_train shape: (37200, 229, 1)\n",
      "y_ohe_train shape: (37200,)\n",
      "X_test shape: (24800, 229, 1)\n",
      "y_ohe_test shape: (24800,)\n",
      "All: [3.22580645 3.22580645 3.22580645 3.22580645 3.22580645 3.22580645\n",
      " 3.22580645 3.22580645 3.22580645 3.22580645 3.22580645 3.22580645\n",
      " 3.22580645 3.22580645 3.22580645 3.22580645 3.22580645 3.22580645\n",
      " 3.22580645 3.22580645 3.22580645 3.22580645 3.22580645 3.22580645\n",
      " 3.22580645 3.22580645 3.22580645 3.22580645 3.22580645 3.22580645\n",
      " 3.22580645]\n",
      "Training: [3.22580645 3.22580645 3.22580645 3.22580645 3.22580645 3.22580645\n",
      " 3.22580645 3.22580645 3.22580645 3.22580645 3.22580645 3.22580645\n",
      " 3.22580645 3.22580645 3.22580645 3.22580645 3.22580645 3.22580645\n",
      " 3.22580645 3.22580645 3.22580645 3.22580645 3.22580645 3.22580645\n",
      " 3.22580645 3.22580645 3.22580645 3.22580645 3.22580645 3.22580645\n",
      " 3.22580645]\n",
      "Testing: [3.22580645 3.22580645 3.22580645 3.22580645 3.22580645 3.22580645\n",
      " 3.22580645 3.22580645 3.22580645 3.22580645 3.22580645 3.22580645\n",
      " 3.22580645 3.22580645 3.22580645 3.22580645 3.22580645 3.22580645\n",
      " 3.22580645 3.22580645 3.22580645 3.22580645 3.22580645 3.22580645\n",
      " 3.22580645 3.22580645 3.22580645 3.22580645 3.22580645 3.22580645\n",
      " 3.22580645]\n"
     ]
    }
   ],
   "source": [
    "#split intro train and test set\n",
    "\n",
    "#seeds used 123,237, 786\n",
    "from sklearn.model_selection import train_test_split\n",
    "\n",
    "global_indices=range(0, X.shape[0])\n",
    "print(global_indices)\n",
    "\n",
    "# (np.expand_dims(X,-1)\n",
    "TRAIN_SIZE=0.60\n",
    "TEST_SIZE=1-TRAIN_SIZE\n",
    "\n",
    "x_train, x_test, y_train, y_test, train_indices, test_indices = train_test_split(np.expand_dims(X, axis=-1), y, global_indices, train_size=TRAIN_SIZE,\n",
    "                                                   test_size=TEST_SIZE,\n",
    "                                                   random_state=786,\n",
    "                                                    stratify=y\n",
    "\n",
    "                                                   )\n",
    "\n",
    "print('X_train shape:', x_train.shape)\n",
    "print('y_ohe_train shape:', y_train.shape)\n",
    "\n",
    "print('X_test shape:', x_test.shape)\n",
    "print('y_ohe_test shape:', y_test.shape)\n",
    "\n",
    "\n",
    "print(\"All:\", np.bincount(y) / float(len(y))*100  )\n",
    "print(\"Training:\", np.bincount(y_train) / float(len(y_train))*100  )\n",
    "print(\"Testing:\", np.bincount(y_test) / float(len(y_test))*100  )\n"
   ]
  },
  {
   "cell_type": "code",
   "execution_count": 16,
   "id": "45f7eebe",
   "metadata": {},
   "outputs": [
    {
     "data": {
      "text/plain": [
       "array([28,  7, 17, ...,  2, 20, 27])"
      ]
     },
     "execution_count": 16,
     "metadata": {},
     "output_type": "execute_result"
    }
   ],
   "source": [
    "y_test"
   ]
  },
  {
   "cell_type": "markdown",
   "id": "18b5b234",
   "metadata": {},
   "source": [
    "# notebook ends!"
   ]
  },
  {
   "cell_type": "code",
   "execution_count": null,
   "id": "4db05481",
   "metadata": {},
   "outputs": [],
   "source": []
  }
 ],
 "metadata": {
  "kernelspec": {
   "display_name": "Python 3 (ipykernel)",
   "language": "python",
   "name": "python3"
  },
  "language_info": {
   "codemirror_mode": {
    "name": "ipython",
    "version": 3
   },
   "file_extension": ".py",
   "mimetype": "text/x-python",
   "name": "python",
   "nbconvert_exporter": "python",
   "pygments_lexer": "ipython3",
   "version": "3.8.8"
  }
 },
 "nbformat": 4,
 "nbformat_minor": 5
}
